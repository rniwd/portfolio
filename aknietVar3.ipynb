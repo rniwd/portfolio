{
 "cells": [
  {
   "cell_type": "markdown",
   "id": "d227c083-1dac-4a48-b3df-0696abb94924",
   "metadata": {},
   "source": [
    "# Калжан Акниет \n",
    "### Вариант 3"
   ]
  },
  {
   "cell_type": "code",
   "execution_count": 54,
   "id": "15543b3d-dbf3-4db5-9312-72e46420f43c",
   "metadata": {
    "scrolled": true
   },
   "outputs": [
    {
     "data": {
      "text/html": [
       "<div>\n",
       "<style scoped>\n",
       "    .dataframe tbody tr th:only-of-type {\n",
       "        vertical-align: middle;\n",
       "    }\n",
       "\n",
       "    .dataframe tbody tr th {\n",
       "        vertical-align: top;\n",
       "    }\n",
       "\n",
       "    .dataframe thead th {\n",
       "        text-align: right;\n",
       "    }\n",
       "</style>\n",
       "<table border=\"1\" class=\"dataframe\">\n",
       "  <thead>\n",
       "    <tr style=\"text-align: right;\">\n",
       "      <th></th>\n",
       "      <th>movieId</th>\n",
       "      <th>title</th>\n",
       "      <th>genres</th>\n",
       "    </tr>\n",
       "  </thead>\n",
       "  <tbody>\n",
       "    <tr>\n",
       "      <th>9737</th>\n",
       "      <td>193581</td>\n",
       "      <td>Black Butler: Book of the Atlantic (2017)</td>\n",
       "      <td>Action|Animation|Comedy|Fantasy</td>\n",
       "    </tr>\n",
       "    <tr>\n",
       "      <th>9738</th>\n",
       "      <td>193583</td>\n",
       "      <td>No Game No Life: Zero (2017)</td>\n",
       "      <td>Animation|Comedy|Fantasy</td>\n",
       "    </tr>\n",
       "    <tr>\n",
       "      <th>9739</th>\n",
       "      <td>193585</td>\n",
       "      <td>Flint (2017)</td>\n",
       "      <td>Drama</td>\n",
       "    </tr>\n",
       "    <tr>\n",
       "      <th>9740</th>\n",
       "      <td>193587</td>\n",
       "      <td>Bungo Stray Dogs: Dead Apple (2018)</td>\n",
       "      <td>Action|Animation</td>\n",
       "    </tr>\n",
       "    <tr>\n",
       "      <th>9741</th>\n",
       "      <td>193609</td>\n",
       "      <td>Andrew Dice Clay: Dice Rules (1991)</td>\n",
       "      <td>Comedy</td>\n",
       "    </tr>\n",
       "  </tbody>\n",
       "</table>\n",
       "</div>"
      ],
      "text/plain": [
       "      movieId                                      title  \\\n",
       "9737   193581  Black Butler: Book of the Atlantic (2017)   \n",
       "9738   193583               No Game No Life: Zero (2017)   \n",
       "9739   193585                               Flint (2017)   \n",
       "9740   193587        Bungo Stray Dogs: Dead Apple (2018)   \n",
       "9741   193609        Andrew Dice Clay: Dice Rules (1991)   \n",
       "\n",
       "                               genres  \n",
       "9737  Action|Animation|Comedy|Fantasy  \n",
       "9738         Animation|Comedy|Fantasy  \n",
       "9739                            Drama  \n",
       "9740                 Action|Animation  \n",
       "9741                           Comedy  "
      ]
     },
     "execution_count": 54,
     "metadata": {},
     "output_type": "execute_result"
    }
   ],
   "source": [
    "import pandas as pd\n",
    "df = pd.read_csv('movies.csv')\n",
    "df.tail(5)"
   ]
  },
  {
   "cell_type": "code",
   "execution_count": 209,
   "id": "07661ee0-469f-4e04-bd5e-b8f8a5b94369",
   "metadata": {},
   "outputs": [
    {
     "data": {
      "text/html": [
       "<div>\n",
       "<style scoped>\n",
       "    .dataframe tbody tr th:only-of-type {\n",
       "        vertical-align: middle;\n",
       "    }\n",
       "\n",
       "    .dataframe tbody tr th {\n",
       "        vertical-align: top;\n",
       "    }\n",
       "\n",
       "    .dataframe thead th {\n",
       "        text-align: right;\n",
       "    }\n",
       "</style>\n",
       "<table border=\"1\" class=\"dataframe\">\n",
       "  <thead>\n",
       "    <tr style=\"text-align: right;\">\n",
       "      <th></th>\n",
       "      <th>imdb_id</th>\n",
       "      <th>budget</th>\n",
       "      <th>revenue</th>\n",
       "      <th>original_title</th>\n",
       "      <th>cast</th>\n",
       "      <th>director</th>\n",
       "      <th>tagline</th>\n",
       "      <th>overview</th>\n",
       "      <th>runtime</th>\n",
       "      <th>genres</th>\n",
       "      <th>production_companies</th>\n",
       "      <th>release_date</th>\n",
       "      <th>vote_average</th>\n",
       "      <th>release_year</th>\n",
       "    </tr>\n",
       "  </thead>\n",
       "  <tbody>\n",
       "    <tr>\n",
       "      <th>1884</th>\n",
       "      <td>tt0120903</td>\n",
       "      <td>75000000</td>\n",
       "      <td>157299717</td>\n",
       "      <td>X-Men</td>\n",
       "      <td>Patrick Stewart|Hugh Jackman|Ian McKellen|Hall...</td>\n",
       "      <td>Bryan Singer</td>\n",
       "      <td>Evolution Begins</td>\n",
       "      <td>Two mutants, Rogue and Wolverine, come to a pr...</td>\n",
       "      <td>104</td>\n",
       "      <td>Adventure|Action|Science Fiction</td>\n",
       "      <td>Twentieth Century Fox Film Corporation|Donners...</td>\n",
       "      <td>7/13/2000</td>\n",
       "      <td>6.6</td>\n",
       "      <td>2000</td>\n",
       "    </tr>\n",
       "    <tr>\n",
       "      <th>1885</th>\n",
       "      <td>tt0192255</td>\n",
       "      <td>22000000</td>\n",
       "      <td>13555988</td>\n",
       "      <td>The Little Vampire</td>\n",
       "      <td>Richard E. Grant|Jonathan Lipnicki|Jim Carter|...</td>\n",
       "      <td>Uli Edel</td>\n",
       "      <td>They're not just best friends, they're blood b...</td>\n",
       "      <td>Based on the popular books, the story tells of...</td>\n",
       "      <td>95</td>\n",
       "      <td>Horror|Family|Foreign</td>\n",
       "      <td>New Line Cinema</td>\n",
       "      <td>10/27/2000</td>\n",
       "      <td>6.4</td>\n",
       "      <td>2000</td>\n",
       "    </tr>\n",
       "    <tr>\n",
       "      <th>1886</th>\n",
       "      <td>tt0131704</td>\n",
       "      <td>76000000</td>\n",
       "      <td>35134820</td>\n",
       "      <td>The Adventures of Rocky &amp; Bullwinkle</td>\n",
       "      <td>Rene Russo|Jason Alexander|Piper Perabo|Randy ...</td>\n",
       "      <td>Des McAnuff</td>\n",
       "      <td>This summer it's not the same old bull.</td>\n",
       "      <td>Rocky and Bullwinkle have been living off the ...</td>\n",
       "      <td>88</td>\n",
       "      <td>Adventure|Animation|Action|Comedy|Family</td>\n",
       "      <td>Universal Pictures|Capella International|KC Me...</td>\n",
       "      <td>6/30/2000</td>\n",
       "      <td>4.0</td>\n",
       "      <td>2000</td>\n",
       "    </tr>\n",
       "    <tr>\n",
       "      <th>1887</th>\n",
       "      <td>tt0162983</td>\n",
       "      <td>40000000</td>\n",
       "      <td>36037909</td>\n",
       "      <td>Hanging Up</td>\n",
       "      <td>Meg Ryan|Diane Keaton|Lisa Kudrow|Walter Matth...</td>\n",
       "      <td>Diane Keaton</td>\n",
       "      <td>Every family has a few hang-ups.</td>\n",
       "      <td>A trio of sisters bond over their ambivalence ...</td>\n",
       "      <td>94</td>\n",
       "      <td>Comedy|Drama</td>\n",
       "      <td>Laurence Mark Productions|Columbia Pictures Co...</td>\n",
       "      <td>2/16/2000</td>\n",
       "      <td>5.2</td>\n",
       "      <td>2000</td>\n",
       "    </tr>\n",
       "    <tr>\n",
       "      <th>1888</th>\n",
       "      <td>tt0163676</td>\n",
       "      <td>15000000</td>\n",
       "      <td>5217498</td>\n",
       "      <td>The In Crowd</td>\n",
       "      <td>Susan Ward|Lori Heuring|Matthew Settle|Nathan ...</td>\n",
       "      <td>Mary Lambert</td>\n",
       "      <td>What would you do to get in?</td>\n",
       "      <td>A mentally disturbed young woman takes a job a...</td>\n",
       "      <td>105</td>\n",
       "      <td>Thriller</td>\n",
       "      <td>Warner Bros. Pictures</td>\n",
       "      <td>7/19/2000</td>\n",
       "      <td>5.2</td>\n",
       "      <td>2000</td>\n",
       "    </tr>\n",
       "  </tbody>\n",
       "</table>\n",
       "</div>"
      ],
      "text/plain": [
       "        imdb_id    budget    revenue                        original_title  \\\n",
       "1884  tt0120903  75000000  157299717                                 X-Men   \n",
       "1885  tt0192255  22000000   13555988                    The Little Vampire   \n",
       "1886  tt0131704  76000000   35134820  The Adventures of Rocky & Bullwinkle   \n",
       "1887  tt0162983  40000000   36037909                            Hanging Up   \n",
       "1888  tt0163676  15000000    5217498                          The In Crowd   \n",
       "\n",
       "                                                   cast      director  \\\n",
       "1884  Patrick Stewart|Hugh Jackman|Ian McKellen|Hall...  Bryan Singer   \n",
       "1885  Richard E. Grant|Jonathan Lipnicki|Jim Carter|...      Uli Edel   \n",
       "1886  Rene Russo|Jason Alexander|Piper Perabo|Randy ...   Des McAnuff   \n",
       "1887  Meg Ryan|Diane Keaton|Lisa Kudrow|Walter Matth...  Diane Keaton   \n",
       "1888  Susan Ward|Lori Heuring|Matthew Settle|Nathan ...  Mary Lambert   \n",
       "\n",
       "                                                tagline  \\\n",
       "1884                                   Evolution Begins   \n",
       "1885  They're not just best friends, they're blood b...   \n",
       "1886            This summer it's not the same old bull.   \n",
       "1887                   Every family has a few hang-ups.   \n",
       "1888                       What would you do to get in?   \n",
       "\n",
       "                                               overview  runtime  \\\n",
       "1884  Two mutants, Rogue and Wolverine, come to a pr...      104   \n",
       "1885  Based on the popular books, the story tells of...       95   \n",
       "1886  Rocky and Bullwinkle have been living off the ...       88   \n",
       "1887  A trio of sisters bond over their ambivalence ...       94   \n",
       "1888  A mentally disturbed young woman takes a job a...      105   \n",
       "\n",
       "                                        genres  \\\n",
       "1884          Adventure|Action|Science Fiction   \n",
       "1885                     Horror|Family|Foreign   \n",
       "1886  Adventure|Animation|Action|Comedy|Family   \n",
       "1887                              Comedy|Drama   \n",
       "1888                                  Thriller   \n",
       "\n",
       "                                   production_companies release_date  \\\n",
       "1884  Twentieth Century Fox Film Corporation|Donners...    7/13/2000   \n",
       "1885                                    New Line Cinema   10/27/2000   \n",
       "1886  Universal Pictures|Capella International|KC Me...    6/30/2000   \n",
       "1887  Laurence Mark Productions|Columbia Pictures Co...    2/16/2000   \n",
       "1888                              Warner Bros. Pictures    7/19/2000   \n",
       "\n",
       "      vote_average  release_year  \n",
       "1884           6.6          2000  \n",
       "1885           6.4          2000  \n",
       "1886           4.0          2000  \n",
       "1887           5.2          2000  \n",
       "1888           5.2          2000  "
      ]
     },
     "execution_count": 209,
     "metadata": {},
     "output_type": "execute_result"
    }
   ],
   "source": [
    "df2 = pd.read_csv('movie_bd_v5.csv')\n",
    "df2.tail(5)"
   ]
  },
  {
   "cell_type": "markdown",
   "id": "88c2ddce-7a68-46ae-a9d9-98404e598c63",
   "metadata": {},
   "source": [
    "### 1. Какой фильм с самым низким рейтингом (vote_average) также имеет самые низкие кассовые сборы?"
   ]
  },
  {
   "cell_type": "markdown",
   "id": "c532bbec-2589-47e0-ba62-424212c7833f",
   "metadata": {},
   "source": [
    "##### C помощью == берем минимум vote_average. Выводит 2 записи. Потом находя минимум  revenue опять же с == сравниваем со всеми записями и выводим"
   ]
  },
  {
   "cell_type": "code",
   "execution_count": 60,
   "id": "2109dd0a-46a3-474a-9fe6-801d70669480",
   "metadata": {},
   "outputs": [
    {
     "data": {
      "text/html": [
       "<div>\n",
       "<style scoped>\n",
       "    .dataframe tbody tr th:only-of-type {\n",
       "        vertical-align: middle;\n",
       "    }\n",
       "\n",
       "    .dataframe tbody tr th {\n",
       "        vertical-align: top;\n",
       "    }\n",
       "\n",
       "    .dataframe thead th {\n",
       "        text-align: right;\n",
       "    }\n",
       "</style>\n",
       "<table border=\"1\" class=\"dataframe\">\n",
       "  <thead>\n",
       "    <tr style=\"text-align: right;\">\n",
       "      <th></th>\n",
       "      <th>imdb_id</th>\n",
       "      <th>budget</th>\n",
       "      <th>revenue</th>\n",
       "      <th>original_title</th>\n",
       "      <th>cast</th>\n",
       "      <th>director</th>\n",
       "      <th>tagline</th>\n",
       "      <th>overview</th>\n",
       "      <th>runtime</th>\n",
       "      <th>genres</th>\n",
       "      <th>production_companies</th>\n",
       "      <th>release_date</th>\n",
       "      <th>vote_average</th>\n",
       "      <th>release_year</th>\n",
       "    </tr>\n",
       "  </thead>\n",
       "  <tbody>\n",
       "    <tr>\n",
       "      <th>709</th>\n",
       "      <td>tt1213644</td>\n",
       "      <td>25000000</td>\n",
       "      <td>14109284</td>\n",
       "      <td>Disaster Movie</td>\n",
       "      <td>Matt Lanter|Vanessa Lachey|Nicole Ari Parker|C...</td>\n",
       "      <td>Jason Friedberg|Aaron Seltzer</td>\n",
       "      <td>Your favorite movies are going to be destroyed.</td>\n",
       "      <td>In DISASTER MOVIE, the filmmaking team behind ...</td>\n",
       "      <td>87</td>\n",
       "      <td>Action|Comedy</td>\n",
       "      <td>Grosvenor Park Media Ltd.|LionsGate|3 in the Box</td>\n",
       "      <td>8/29/2008</td>\n",
       "      <td>3.3</td>\n",
       "      <td>2008</td>\n",
       "    </tr>\n",
       "  </tbody>\n",
       "</table>\n",
       "</div>"
      ],
      "text/plain": [
       "       imdb_id    budget   revenue  original_title  \\\n",
       "709  tt1213644  25000000  14109284  Disaster Movie   \n",
       "\n",
       "                                                  cast  \\\n",
       "709  Matt Lanter|Vanessa Lachey|Nicole Ari Parker|C...   \n",
       "\n",
       "                          director  \\\n",
       "709  Jason Friedberg|Aaron Seltzer   \n",
       "\n",
       "                                             tagline  \\\n",
       "709  Your favorite movies are going to be destroyed.   \n",
       "\n",
       "                                              overview  runtime  \\\n",
       "709  In DISASTER MOVIE, the filmmaking team behind ...       87   \n",
       "\n",
       "            genres                              production_companies  \\\n",
       "709  Action|Comedy  Grosvenor Park Media Ltd.|LionsGate|3 in the Box   \n",
       "\n",
       "    release_date  vote_average  release_year  \n",
       "709    8/29/2008           3.3          2008  "
      ]
     },
     "execution_count": 60,
     "metadata": {},
     "output_type": "execute_result"
    }
   ],
   "source": [
    "df2[df2['revenue']==(df2[df2['vote_average']==min(df2['vote_average'])].revenue.min())]"
   ]
  },
  {
   "cell_type": "code",
   "execution_count": 514,
   "id": "05e0b4b4-70af-4c07-b2cb-bb1a0efb97f9",
   "metadata": {},
   "outputs": [],
   "source": [
    "answers_akko = {1:'Disaster Movie',\n",
    "                2:'World War Z',\n",
    "                3:'Paul W.S. Anderson',\n",
    "                4:'Pirates of the Caribbean: On Stranger Tides',\n",
    "                5:'Helena Bonham Carter',\n",
    "                6:'Frozen',\n",
    "                7:'Paranormal Activity 3',\n",
    "                8:'Tim Burton',\n",
    "                9:'Inside Out',\n",
    "                10:'Les MisÃ©rables',\n",
    "                11:'Matt Damon',\n",
    "                12:'Judd Apatow, John Singleton',\n",
    "                13:'Memento',\n",
    "                14:'Jem and the Holograms',\n",
    "                15:'Jason Statham',\n",
    "                16:'Colin Trevorrow',\n",
    "                17:'Go!',\n",
    "                18:'The Conjuring',\n",
    "                19:'Ridley Scott',\n",
    "                20:'The Gift', \n",
    "                21:'Christian Bale',\n",
    "                22:'Clint Eastwood',\n",
    "                23:'Disaster Movie',\n",
    "                24:'The Gift',\n",
    "                25:'Helena Bonham Carter, Ian McKellen',\n",
    "                26:'Pirates of the Caribbean',\n",
    "                27:'Peter Jackson'\n",
    "               }"
   ]
  },
  {
   "cell_type": "markdown",
   "id": "ea58f222-8102-4769-876b-334907615cd5",
   "metadata": {},
   "source": [
    "### 2. Какой фильм снятый в жанре \"Ужасы\" имеет наивысший бюджет?"
   ]
  },
  {
   "cell_type": "markdown",
   "id": "d112d073-c1b3-4fe4-82b6-c4f627b18424",
   "metadata": {},
   "source": [
    "##### str.contains - ищет строки содержащий слово Horror. case=False - отвечает за игнор регистра, na=False - исключает из выборки строки со значением NaN "
   ]
  },
  {
   "cell_type": "code",
   "execution_count": 64,
   "id": "eb642b92-cea1-4c61-a722-f33b75f4ad99",
   "metadata": {},
   "outputs": [
    {
     "data": {
      "text/html": [
       "<div>\n",
       "<style scoped>\n",
       "    .dataframe tbody tr th:only-of-type {\n",
       "        vertical-align: middle;\n",
       "    }\n",
       "\n",
       "    .dataframe tbody tr th {\n",
       "        vertical-align: top;\n",
       "    }\n",
       "\n",
       "    .dataframe thead th {\n",
       "        text-align: right;\n",
       "    }\n",
       "</style>\n",
       "<table border=\"1\" class=\"dataframe\">\n",
       "  <thead>\n",
       "    <tr style=\"text-align: right;\">\n",
       "      <th></th>\n",
       "      <th>imdb_id</th>\n",
       "      <th>budget</th>\n",
       "      <th>revenue</th>\n",
       "      <th>original_title</th>\n",
       "      <th>cast</th>\n",
       "      <th>director</th>\n",
       "      <th>tagline</th>\n",
       "      <th>overview</th>\n",
       "      <th>runtime</th>\n",
       "      <th>genres</th>\n",
       "      <th>production_companies</th>\n",
       "      <th>release_date</th>\n",
       "      <th>vote_average</th>\n",
       "      <th>release_year</th>\n",
       "    </tr>\n",
       "  </thead>\n",
       "  <tbody>\n",
       "    <tr>\n",
       "      <th>1198</th>\n",
       "      <td>tt0816711</td>\n",
       "      <td>200000000</td>\n",
       "      <td>531865000</td>\n",
       "      <td>World War Z</td>\n",
       "      <td>Brad Pitt|Mireille Enos|Abigail Hargrove|Sterl...</td>\n",
       "      <td>Marc Forster</td>\n",
       "      <td>Remember Philly!</td>\n",
       "      <td>Life for former United Nations investigator Ge...</td>\n",
       "      <td>116</td>\n",
       "      <td>Action|Drama|Horror|Science Fiction|Thriller</td>\n",
       "      <td>Paramount Pictures|GK Films|Skydance Productio...</td>\n",
       "      <td>6/20/2013</td>\n",
       "      <td>6.7</td>\n",
       "      <td>2013</td>\n",
       "    </tr>\n",
       "  </tbody>\n",
       "</table>\n",
       "</div>"
      ],
      "text/plain": [
       "        imdb_id     budget    revenue original_title  \\\n",
       "1198  tt0816711  200000000  531865000    World War Z   \n",
       "\n",
       "                                                   cast      director  \\\n",
       "1198  Brad Pitt|Mireille Enos|Abigail Hargrove|Sterl...  Marc Forster   \n",
       "\n",
       "               tagline                                           overview  \\\n",
       "1198  Remember Philly!  Life for former United Nations investigator Ge...   \n",
       "\n",
       "      runtime                                        genres  \\\n",
       "1198      116  Action|Drama|Horror|Science Fiction|Thriller   \n",
       "\n",
       "                                   production_companies release_date  \\\n",
       "1198  Paramount Pictures|GK Films|Skydance Productio...    6/20/2013   \n",
       "\n",
       "      vote_average  release_year  \n",
       "1198           6.7          2013  "
      ]
     },
     "execution_count": 64,
     "metadata": {},
     "output_type": "execute_result"
    }
   ],
   "source": [
    "ujas = df2[df2['genres'].str.contains('Horror', case=False, na=False)]\n",
    "ujas[ujas['budget']==ujas['budget'].max()]"
   ]
  },
  {
   "cell_type": "markdown",
   "id": "6197806d-b130-409f-9e3d-0d78e3318e0f",
   "metadata": {},
   "source": [
    "### 3. Какой режиссер снял наибольшее количество фильмов в жанре \"Научная фантастика\"?"
   ]
  },
  {
   "cell_type": "markdown",
   "id": "d4a43369-2e5a-4940-8e73-e6834e188d3c",
   "metadata": {},
   "source": [
    "##### также с str.contains берем нужные значения. value_counts - подсчет количества, idxmax - выводит наибольший"
   ]
  },
  {
   "cell_type": "code",
   "execution_count": 68,
   "id": "9a8ddfee-0122-4639-94b1-1be4d4a8d3a5",
   "metadata": {},
   "outputs": [
    {
     "data": {
      "text/plain": [
       "'Paul W.S. Anderson'"
      ]
     },
     "execution_count": 68,
     "metadata": {},
     "output_type": "execute_result"
    }
   ],
   "source": [
    "sf = df2[df2['genres'].str.contains('Science Fiction', case=False, na=False)]\n",
    "sf['director'].value_counts().idxmax()"
   ]
  },
  {
   "cell_type": "markdown",
   "id": "bdb4f0fa-3681-4ba9-b8e5-2600afa06c67",
   "metadata": {},
   "source": [
    "### 4. Какой фильм выпущен в самый дорогой месяц года с учетом среднего бюджета фильмов этого месяца? "
   ]
  },
  {
   "cell_type": "markdown",
   "id": "16856821-011e-498b-82b9-af439cd445d0",
   "metadata": {},
   "source": [
    "##### преобразуем release_date с функцией to_datetime в формат даты. добавляем новую строку как месяц. находим средний бюджет по месяцам. находим с наибольшим бюджетом в том месяце и выводим название. "
   ]
  },
  {
   "cell_type": "code",
   "execution_count": 252,
   "id": "0d3cf9af-982d-43c2-8322-920a206c5279",
   "metadata": {},
   "outputs": [
    {
     "data": {
      "text/plain": [
       "'Pirates of the Caribbean: On Stranger Tides'"
      ]
     },
     "execution_count": 252,
     "metadata": {},
     "output_type": "execute_result"
    }
   ],
   "source": [
    "df2['release_date'] = pd.to_datetime(df2['release_date'])\n",
    "df2['month'] = df2['release_date'].dt.month\n",
    "monAvgB = df2.groupby('month')['budget'].mean().reset_index()\n",
    "maxB = monAvgB.loc[monAvgB['budget'].idxmax()]\n",
    "fmb = df2[df2['month']==maxB['month']]\n",
    "fmb.loc[fmb['budget'].idxmax()]['original_title']\n"
   ]
  },
  {
   "cell_type": "markdown",
   "id": "13f79d5c-7837-4190-a505-6efcd2cd3397",
   "metadata": {},
   "source": [
    "### 5. Какой актер снялся в наибольшем количестве фильмов с разными жанрами, но в режиссуре одного и того же режиссера?"
   ]
  },
  {
   "cell_type": "markdown",
   "id": "491b650c-4ffd-48cc-aa76-ff80d467ea51",
   "metadata": {},
   "source": [
    "сплитим по касту и жанру, расширяем и по касту и по жанрам. затем группируем по касту жанру и режиссеру и подсчитываем кол-во строк по всем группам и присваиваем в колонну count. вообщем это комбинации каждого актера режиссера и жанра. потом считаем уникальные жанры для комбо актера и режисссера. и потом выводим актера и режиссера с максимальным уникальным.  "
   ]
  },
  {
   "cell_type": "code",
   "execution_count": 150,
   "id": "72e44343-38d8-4302-bb82-2ad3d353fe5b",
   "metadata": {},
   "outputs": [
    {
     "data": {
      "text/plain": [
       "'best actress on the world: Helena Bonham Carter and (her ex-husband) director: Tim Burton ------ unique genres: 10'"
      ]
     },
     "execution_count": 150,
     "metadata": {},
     "output_type": "execute_result"
    }
   ],
   "source": [
    "df2 = pd.read_csv('movie_bd_v5.csv') # чтобы сплит норм выполнялся. у меня несколько ошибок было без него\n",
    "df2['cast'] = df2['cast'].str.split('|') \n",
    "df2['genres'] = df2['genres'].str.split('|') \n",
    "\n",
    "expl = df2.explode('cast').explode('genres')\n",
    "agcnt = expl.groupby(['cast', 'director', 'genres']).size().reset_index(name='count')\n",
    "ungcnt = agcnt.groupby(['cast', 'director'])['genres'].nunique().reset_index()\n",
    "mag = ungcnt.loc[ungcnt['genres'].idxmax()]\n",
    "\n",
    "f\"best actress on the world: {mag['cast']} and (her ex-husband) director: {mag['director']} ------ unique genres: {mag['genres']}\"\n",
    "#простите за шутки"
   ]
  },
  {
   "cell_type": "markdown",
   "id": "53aa8495-1e21-4802-a548-5487cb1534f4",
   "metadata": {},
   "source": [
    "### хелена и тим - неудивительно(но без джони депа (⁠●⁠_⁠_⁠●⁠) )"
   ]
  },
  {
   "cell_type": "markdown",
   "id": "2814bbea-0dac-4363-934f-79d50f64807a",
   "metadata": {},
   "source": [
    "### 6. Какой фильм стал самым прибыльным в жанре Анимации?"
   ]
  },
  {
   "cell_type": "markdown",
   "id": "dd1602e8-6736-452b-a5a1-d6c9438c4fb1",
   "metadata": {},
   "source": [
    "находим записи в жанрах которых есть анимация. ищем макс доход и выводим локом"
   ]
  },
  {
   "cell_type": "code",
   "execution_count": 139,
   "id": "ec8ed3a2-3fc6-4d09-b086-cdc0e1831f6b",
   "metadata": {},
   "outputs": [
    {
     "data": {
      "text/plain": [
       "'Frozen'"
      ]
     },
     "execution_count": 139,
     "metadata": {},
     "output_type": "execute_result"
    }
   ],
   "source": [
    "df2 = pd.read_csv('movie_bd_v5.csv')\n",
    "anime = df2[df2['genres'].str.contains('Animation', na=False)]\n",
    "pribilny = anime.loc[anime['revenue'].idxmax()]\n",
    "pribilny['original_title']"
   ]
  },
  {
   "cell_type": "markdown",
   "id": "ba3e87da-4e7b-4c20-88be-cb16e2bae5ac",
   "metadata": {},
   "source": [
    "   ಥ⁠‿⁠ಥ - again favorite"
   ]
  },
  {
   "cell_type": "markdown",
   "id": "4a6f8167-32b2-4a4c-9fd6-1bd80cd35c9b",
   "metadata": {},
   "source": [
    "### 7. Какой фильм стал самым дешевым с самым коротким временем его продолжительности?"
   ]
  },
  {
   "cell_type": "markdown",
   "id": "3837c70f-b82f-42b7-bbe5-ffe3367ed0dc",
   "metadata": {},
   "source": [
    "находим минимум бюджет и среди продолжительностей ищем минимум локом и выводим"
   ]
  },
  {
   "cell_type": "code",
   "execution_count": 166,
   "id": "f4657ca1-53f7-4794-80a5-62338841e834",
   "metadata": {},
   "outputs": [
    {
     "data": {
      "text/plain": [
       "'Paranormal Activity 3'"
      ]
     },
     "execution_count": 166,
     "metadata": {},
     "output_type": "execute_result"
    }
   ],
   "source": [
    "minbudg = df2.loc[(df2['budget'] == df2['budget'].min())]\n",
    "deshovka = minbudg.loc[minbudg['runtime'].idxmin()]\n",
    "deshovka['original_title']"
   ]
  },
  {
   "cell_type": "markdown",
   "id": "8b2d307b-80ca-4b91-8d11-301231a6e34f",
   "metadata": {},
   "source": [
    "### 8. Какой режиссер чаще всего снимал фильмы с одним и тем же актером в разных жанрах?"
   ]
  },
  {
   "cell_type": "markdown",
   "id": "f85ec56d-ee42-4ccb-9e8d-ef7dffdef307",
   "metadata": {},
   "source": [
    "пятый и восьмой вопрос по смыслу идентичны"
   ]
  },
  {
   "cell_type": "code",
   "execution_count": 179,
   "id": "8e9cbf82-e2cd-49a7-96fc-9b9d70a69f5d",
   "metadata": {},
   "outputs": [
    {
     "data": {
      "text/plain": [
       "'best actress on the world: Helena Bonham Carter and (her ex-husband) director: Tim Burton ------ unique genres: 10'"
      ]
     },
     "execution_count": 179,
     "metadata": {},
     "output_type": "execute_result"
    }
   ],
   "source": [
    "df2 = pd.read_csv('movie_bd_v5.csv') # чтобы сплит норм выполнялся. у меня несколько ошибок было без него\n",
    "df2['cast'] = df2['cast'].str.split('|') \n",
    "df2['genres'] = df2['genres'].str.split('|') \n",
    "\n",
    "expl = df2.explode('cast').explode('genres')\n",
    "agcnt = expl.groupby(['cast', 'director', 'genres']).size().reset_index(name='count')\n",
    "ungcnt = agcnt.groupby(['cast', 'director'])['genres'].nunique().reset_index()\n",
    "mag = ungcnt.loc[ungcnt['genres'].idxmax()]\n",
    "\n",
    "f\"best actress on the world: {mag['cast']} and (her ex-husband) director: {mag['director']} ------ unique genres: {mag['genres']}\""
   ]
  },
  {
   "cell_type": "markdown",
   "id": "c116c923-8ed8-47f2-8acb-ba06f53abd33",
   "metadata": {},
   "source": [
    "### 9. Какой фильм получил наивысший рейтинг (vote_average) среди фильмов, снятых в жанре Комедия?"
   ]
  },
  {
   "cell_type": "markdown",
   "id": "44921424-fb00-4053-be4b-2bd1efc1abd5",
   "metadata": {},
   "source": [
    "ищем комедию в жанрах и с оператором сравнения выводым с высшим рейтингом"
   ]
  },
  {
   "cell_type": "code",
   "execution_count": 198,
   "id": "293de1b6-6d9a-4e25-b5fb-b4591152b280",
   "metadata": {},
   "outputs": [
    {
     "data": {
      "text/plain": [
       "'Inside Out'"
      ]
     },
     "execution_count": 198,
     "metadata": {},
     "output_type": "execute_result"
    }
   ],
   "source": [
    "df2 = pd.read_csv('movie_bd_v5.csv') # чтобы сплит норм выполнялся. у меня несколько ошибок было без него\n",
    "comedy = df2[df2['genres'].str.contains('Comedy', na=False)]\n",
    "comedy[comedy['vote_average'] == comedy['vote_average'].max()]['original_title'].values[0]"
   ]
  },
  {
   "cell_type": "markdown",
   "id": "c4bb2195-1ebf-489d-ae91-1e9bf06cfbdd",
   "metadata": {},
   "source": [
    "### вторая часть тоже ничего"
   ]
  },
  {
   "cell_type": "markdown",
   "id": "5b9bf27e-ae93-49d1-8597-1dec3cac561d",
   "metadata": {},
   "source": [
    "### 10. Какой фильм снятый в жанре \"Мюзикл\" имеет самую длинную продолжительность?"
   ]
  },
  {
   "cell_type": "markdown",
   "id": "e91489fc-6596-4e44-a6b9-3815ee604707",
   "metadata": {},
   "source": [
    "также берем мюзикл в жанрах находим максимум в рантайме и выводим"
   ]
  },
  {
   "cell_type": "code",
   "execution_count": 219,
   "id": "3fc3a539-59ab-4ebe-92dc-70d834b04af3",
   "metadata": {},
   "outputs": [
    {
     "data": {
      "text/plain": [
       "'Les MisÃ©rables'"
      ]
     },
     "execution_count": 219,
     "metadata": {},
     "output_type": "execute_result"
    }
   ],
   "source": [
    "muzicly = df2[df2['genres'].str.contains('Music', na=False)]\n",
    "muzicly[muzicly['runtime']==muzicly['runtime'].max()]['original_title'].values[0]"
   ]
  },
  {
   "cell_type": "markdown",
   "id": "c43c3d8f-646d-474d-a82e-3dc46974c05d",
   "metadata": {},
   "source": [
    "### 11. Какой актер снялся в наибольшем количестве фильмов с прибылью более 100 миллионов долларов?"
   ]
  },
  {
   "cell_type": "markdown",
   "id": "967cefd9-3dac-45c9-ab7e-baf5fdc73a73",
   "metadata": {},
   "source": [
    "преобразуем столбец каст, фильтруем фильмы где доход выше 100кк, расширяем по касту. находим актера и кол_во фильмов"
   ]
  },
  {
   "cell_type": "code",
   "execution_count": 317,
   "id": "1423e2bb-372c-49e8-b419-3003f2382774",
   "metadata": {},
   "outputs": [
    {
     "data": {
      "text/plain": [
       "'Актер: Matt Damon, Количество фильмов: 17'"
      ]
     },
     "execution_count": 317,
     "metadata": {},
     "output_type": "execute_result"
    }
   ],
   "source": [
    "df2 = pd.read_csv('movie_bd_v5.csv') # чтобы сплит норм выполнялся. у меня несколько ошибок было без него\n",
    "\n",
    "df2['cast'] = df2['cast'].apply(lambda x: x.split('|') )\n",
    "films = df2[df2['revenue'] > 100_000_000].explode('cast')\n",
    "\n",
    "topAc = films['cast'].value_counts().idxmax()\n",
    "filmcnt = films['cast'].value_counts().max()\n",
    "\n",
    "f\"Актер: {topAc}, Количество фильмов: {filmcnt}\""
   ]
  },
  {
   "cell_type": "markdown",
   "id": "d165c7e4-86de-467b-b143-dfb18bdd5f1e",
   "metadata": {},
   "source": [
    "### 12. Какой режиссер снял наибольшее количество фильмов, выпущенных в месяце, соответствующем его имени (например, фильмы режиссера Michael выпущены в месяце май)?"
   ]
  },
  {
   "cell_type": "markdown",
   "id": "cc6a8c09-8543-4552-924f-4bf3bb44d183",
   "metadata": {},
   "source": [
    "тут совсем непонятно почему Michael равно маю. Допустим имя была записаны русском как Майкл и у мы могли бы прировнять их. но во первых у нас имена на английском во вторых на каком языке мы вообще должны работать с этим"
   ]
  },
  {
   "cell_type": "code",
   "execution_count": 529,
   "id": "3296d03e-80b5-48ce-8c95-a85be4c2405a",
   "metadata": {},
   "outputs": [
    {
     "data": {
      "text/html": [
       "<div>\n",
       "<style scoped>\n",
       "    .dataframe tbody tr th:only-of-type {\n",
       "        vertical-align: middle;\n",
       "    }\n",
       "\n",
       "    .dataframe tbody tr th {\n",
       "        vertical-align: top;\n",
       "    }\n",
       "\n",
       "    .dataframe thead th {\n",
       "        text-align: right;\n",
       "    }\n",
       "</style>\n",
       "<table border=\"1\" class=\"dataframe\">\n",
       "  <thead>\n",
       "    <tr style=\"text-align: right;\">\n",
       "      <th></th>\n",
       "      <th>count</th>\n",
       "    </tr>\n",
       "    <tr>\n",
       "      <th>director</th>\n",
       "      <th></th>\n",
       "    </tr>\n",
       "  </thead>\n",
       "  <tbody>\n",
       "    <tr>\n",
       "      <th>Judd Apatow</th>\n",
       "      <td>3</td>\n",
       "    </tr>\n",
       "    <tr>\n",
       "      <th>John Singleton</th>\n",
       "      <td>3</td>\n",
       "    </tr>\n",
       "  </tbody>\n",
       "</table>\n",
       "</div>"
      ],
      "text/plain": [
       "                count\n",
       "director             \n",
       "Judd Apatow         3\n",
       "John Singleton      3"
      ]
     },
     "execution_count": 529,
     "metadata": {},
     "output_type": "execute_result"
    }
   ],
   "source": [
    "import pandas as pd\n",
    "\n",
    "df2 = pd.read_csv('movie_bd_v5.csv')\n",
    "df2['release_date'] = pd.to_datetime(df2['release_date'])\n",
    "\n",
    "df2['month'] = df2['release_date'].dt.month_name().str[0]  \n",
    "df2['director_initial'] = df2['director'].str[0]  \n",
    "\n",
    "md = df2[df2['month'] == df2['director_initial']]\n",
    "\n",
    "res = md['director'].value_counts()\n",
    "\n",
    "mxcnt = result.max()\n",
    "\n",
    "topdir = result[res == mxcnt]\n",
    "pd.DataFrame(topdir)"
   ]
  },
  {
   "cell_type": "markdown",
   "id": "af935f1c-b8b7-42de-9db6-6637044a7540",
   "metadata": {},
   "source": [
    "### 13. Какой фильм, выпущенный до 2000 года, имеет самый высокий рейтинг (vote_average)?"
   ]
  },
  {
   "cell_type": "markdown",
   "id": "cf578791-072e-4038-9d7c-f92e9d18c587",
   "metadata": {},
   "source": [
    "извлекаем года, берем фильмы до 2000 года. и макс рейтинг. "
   ]
  },
  {
   "cell_type": "code",
   "execution_count": 314,
   "id": "9f9c66fc-8e74-44cd-9f97-7d8923735688",
   "metadata": {},
   "outputs": [
    {
     "data": {
      "text/plain": [
       "Series([], Name: original_title, dtype: object)"
      ]
     },
     "execution_count": 314,
     "metadata": {},
     "output_type": "execute_result"
    }
   ],
   "source": [
    "df2 = pd.read_csv('movie_bd_v5.csv') # чтобы сплит норм выполнялся. у меня несколько ошибок было без него\n",
    "df2['release_date'] = pd.to_datetime(df2['release_date'])\n",
    "df2['year'] =  df2['release_date'].dt.year\n",
    "do2000 = df2[df2['year'] < 2000]\n",
    "do2000.loc[do2000['vote_average'] == do2000['vote_average'].max()]\n",
    "do2000['original_title']"
   ]
  },
  {
   "cell_type": "markdown",
   "id": "e7c4b5bf-e7f3-4799-873e-56a2824317f5",
   "metadata": {},
   "source": [
    "### как видим на дф нету фильмов до 2000"
   ]
  },
  {
   "cell_type": "code",
   "execution_count": 320,
   "id": "d3971adf-f0fa-4dbc-8a3f-3f853fd31b49",
   "metadata": {},
   "outputs": [
    {
     "name": "stdout",
     "output_type": "stream",
     "text": [
      "     original_title release_date\n",
      "1862    Next Friday   2000-01-12\n",
      "1872      Supernova   2000-01-14\n",
      "1859       Scream 3   2000-02-03\n",
      "1856      The Beach   2000-02-11\n",
      "1887     Hanging Up   2000-02-16\n"
     ]
    }
   ],
   "source": [
    "df2['release_date'] = pd.to_datetime(df2['release_date'])\n",
    "df2_sorted = df2.sort_values(by='release_date')\n",
    "print(df2_sorted[['original_title', 'release_date']].head())"
   ]
  },
  {
   "cell_type": "markdown",
   "id": "1a71ab8f-4fe0-4738-a0ee-f67026027304",
   "metadata": {},
   "source": [
    "### как видим на дф нету фильмов до 2000 поэтому выведем до 2010"
   ]
  },
  {
   "cell_type": "code",
   "execution_count": 338,
   "id": "ff11aeed-c117-48c5-ae6f-710937ebd3d6",
   "metadata": {},
   "outputs": [
    {
     "name": "stdout",
     "output_type": "stream",
     "text": [
      "Фильм с самым высоким рейтингом до 2010 года: The Dark Knight (Рейтинг: 8.1)\n"
     ]
    }
   ],
   "source": [
    "do2010 = df2[df2['release_date'].dt.year < 2010]\n",
    "\n",
    "topof2010 = do2010.loc[do2010['vote_average'].idxmax()]\n",
    "\n",
    "print(f\"Фильм с самым высоким рейтингом до 2010 года: {topof2010['original_title']} (Рейтинг: {topof2010['vote_average']})\")\n"
   ]
  },
  {
   "cell_type": "code",
   "execution_count": 510,
   "id": "e75ce452-9bb0-4411-b8e0-7da6399eb0b2",
   "metadata": {},
   "outputs": [
    {
     "data": {
      "text/plain": [
       "1800    Memento\n",
       "Name: original_title, dtype: object"
      ]
     },
     "execution_count": 510,
     "metadata": {},
     "output_type": "execute_result"
    }
   ],
   "source": [
    "df2 = pd.read_csv('movie_bd_v5.csv') # чтобы сплит норм выполнялся. у меня несколько ошибок было без него\n",
    "df2['release_date'] = pd.to_datetime(df2['release_date'])\n",
    "df2['year'] =  df2['release_date'].dt.year\n",
    "do2000 = df2[df2['year'] <= 2000]\n",
    "do2000.loc[do2000['vote_average'] == do2000['vote_average'].max()]['original_title']\n"
   ]
  },
  {
   "cell_type": "markdown",
   "id": "2a211b5a-6557-4893-89d0-667374538f2e",
   "metadata": {},
   "source": [
    "### 14. Какой фильм снятый в жанре \"Фэнтези\" имеет самый низкий бюджет?"
   ]
  },
  {
   "cell_type": "markdown",
   "id": "6686d538-af5e-4d35-aef0-6a9edd1e7488",
   "metadata": {},
   "source": [
    "находим с фантастикой и мин бюджет"
   ]
  },
  {
   "cell_type": "code",
   "execution_count": 357,
   "id": "4d07cfff-d1f4-4d4f-bbc1-2884d30178a4",
   "metadata": {},
   "outputs": [
    {
     "data": {
      "text/plain": [
       "'Jem and the Holograms'"
      ]
     },
     "execution_count": 357,
     "metadata": {},
     "output_type": "execute_result"
    }
   ],
   "source": [
    "df2 = pd.read_csv('movie_bd_v5.csv') # чтобы сплит норм выполнялся. у меня несколько ошибок было без него\n",
    "\n",
    "fantasy = df2[df2['genres'].str.contains('fantasy', case=False, na=False)]\n",
    "\n",
    "lowbudget = fantasy.loc[fantasy['budget'].idxmin()]\n",
    "lowbudget['original_title']\n"
   ]
  },
  {
   "cell_type": "markdown",
   "id": "db32d32d-b5c2-4376-8935-d33fb1c00146",
   "metadata": {},
   "source": [
    "### 15. Какой актер снялся в наибольшем количестве фильмов, в которых жанр \"Криминал\"?"
   ]
  },
  {
   "cell_type": "markdown",
   "id": "a3cc613b-5bf5-4436-8cb9-be09f5d0cea3",
   "metadata": {},
   "source": [
    "находим криминал сплитим каст и выводим макс"
   ]
  },
  {
   "cell_type": "code",
   "execution_count": 381,
   "id": "8443762a-a97e-45f9-845d-fc82a1a895c1",
   "metadata": {},
   "outputs": [
    {
     "data": {
      "text/plain": [
       "'Jason Statham'"
      ]
     },
     "execution_count": 381,
     "metadata": {},
     "output_type": "execute_result"
    }
   ],
   "source": [
    "df2 = pd.read_csv('movie_bd_v5.csv') # чтобы сплит норм выполнялся. у меня несколько ошибок было без него\n",
    "crimefilms = df2[df2['genres'].str.contains('Crime', na=False)]\n",
    "\n",
    "actors = crimefilms['cast'].str.split('|').explode()\n",
    "actors.value_counts().idxmax()\n"
   ]
  },
  {
   "cell_type": "markdown",
   "id": "bb9403e0-35d9-49ba-b7de-5cfc6e50e49d",
   "metadata": {},
   "source": [
    "### 16. Какой режиссер получил самую высокую среднюю прибыль среди всех своих фильмов?"
   ]
  },
  {
   "cell_type": "markdown",
   "id": "6e19b3e8-ba05-49a7-97e4-31e35ab59fa9",
   "metadata": {},
   "source": []
  },
  {
   "cell_type": "code",
   "execution_count": 391,
   "id": "bc42d14e-eada-46c4-9a48-a6ad8185efce",
   "metadata": {},
   "outputs": [
    {
     "data": {
      "text/plain": [
       "'Режиссер с самой высокой средней прибылью: Colin Trevorrow (Средняя прибыль: 1363528810.0)'"
      ]
     },
     "execution_count": 391,
     "metadata": {},
     "output_type": "execute_result"
    }
   ],
   "source": [
    "df2 = pd.read_csv('movie_bd_v5.csv') # чтобы сплит норм выполнялся. у меня несколько ошибок было без него\n",
    "\n",
    "df2['profit'] = df2['revenue'] - df2['budget']\n",
    "\n",
    "directors = df2['director'].str.split('|').explode()\n",
    "profits = df2[['director', 'profit']].explode('director')\n",
    "avgprofit = profits.groupby('director')['profit'].mean()\n",
    "topdirector = avgprofit.idxmax()\n",
    "topprofit = avgprofit.max()\n",
    "f\"Режиссер с самой высокой средней прибылью: {top_director} (Средняя прибыль: {top_profit})\"\n"
   ]
  },
  {
   "cell_type": "markdown",
   "id": "4faf8173-c19c-4e84-b99f-cd39e77b62bb",
   "metadata": {},
   "source": [
    "### 17. Какой фильм имеет самый короткий теговый слоган (tagline)?"
   ]
  },
  {
   "cell_type": "markdown",
   "id": "56314717-ad2b-4428-89a6-5b2bdf6e025c",
   "metadata": {},
   "source": []
  },
  {
   "cell_type": "code",
   "execution_count": 400,
   "id": "bba0694f-6cf1-4510-a9ef-a72c9f331239",
   "metadata": {},
   "outputs": [
    {
     "data": {
      "text/plain": [
       "\" Speed Racer (tag: 'Go!')\""
      ]
     },
     "execution_count": 400,
     "metadata": {},
     "output_type": "execute_result"
    }
   ],
   "source": [
    "df2 = pd.read_csv('movie_bd_v5.csv') # чтобы сплит норм выполнялся. у меня несколько ошибок было без него\n",
    "\n",
    "df2 = df2[df2['tagline'].notna()]\n",
    "\n",
    "shortest = df2.loc[df2['tagline'].str.len().idxmin()]\n",
    "\n",
    "f\" {shortest_tagline['original_title']} (tag: '{shortest['tagline']}')\"\n"
   ]
  },
  {
   "cell_type": "markdown",
   "id": "06c80091-9367-4e56-b63d-304707cb54cf",
   "metadata": {},
   "source": [
    "### 18. Какой фильм снятый в жанре \"Ужасы\" имеет самый большой рейтинг (vote_average)?"
   ]
  },
  {
   "cell_type": "markdown",
   "id": "270b4a19-d580-43af-adcd-c94e66649cbc",
   "metadata": {},
   "source": []
  },
  {
   "cell_type": "code",
   "execution_count": 413,
   "id": "2050710d-1de7-441f-9524-695afe9e8191",
   "metadata": {},
   "outputs": [
    {
     "data": {
      "text/plain": [
       "'The Conjuring'"
      ]
     },
     "execution_count": 413,
     "metadata": {},
     "output_type": "execute_result"
    }
   ],
   "source": [
    "ujas = df2[df2['genres'].str.contains('Horror', case=False, na=False)]\n",
    "ujas[ujas['vote_average']==ujas['vote_average'].max()]['original_title'].values[0]"
   ]
  },
  {
   "cell_type": "markdown",
   "id": "fdb530bf-f8ea-43d7-a991-6e2c837613ae",
   "metadata": {},
   "source": [
    "### 19. Какой режиссер снял наибольшее количество фильмов в Universal Pictures?"
   ]
  },
  {
   "cell_type": "markdown",
   "id": "a6048ba7-2956-4092-af51-e208dca0a392",
   "metadata": {},
   "source": []
  },
  {
   "cell_type": "code",
   "execution_count": 418,
   "id": "739b9a65-8d21-4880-b568-66807f38369f",
   "metadata": {},
   "outputs": [
    {
     "data": {
      "text/plain": [
       "'Ridley Scott'"
      ]
     },
     "execution_count": 418,
     "metadata": {},
     "output_type": "execute_result"
    }
   ],
   "source": [
    "universal = df2[df2['production_companies'].str.contains('Universal Pictures', na=False)]\n",
    "universal['director'].value_counts().idxmax()\n"
   ]
  },
  {
   "cell_type": "markdown",
   "id": "0ad31cb8-714a-4ecb-a54a-fe53ec9086ae",
   "metadata": {},
   "source": [
    "### 20. Какой фильм с наименьшим бюджетом стал самым прибыльным?"
   ]
  },
  {
   "cell_type": "markdown",
   "id": "da296312-e3f0-431d-b09e-209e2bf914a6",
   "metadata": {},
   "source": []
  },
  {
   "cell_type": "code",
   "execution_count": 426,
   "id": "ecafbc7e-f22b-4df8-b904-7139c97adf95",
   "metadata": {},
   "outputs": [
    {
     "data": {
      "text/plain": [
       "'The Gift (Бюджет: 5000000, Прибыль: 53978653)'"
      ]
     },
     "execution_count": 426,
     "metadata": {},
     "output_type": "execute_result"
    }
   ],
   "source": [
    "df2 = pd.read_csv('movie_bd_v5.csv') # чтобы сплит норм выполнялся. у меня несколько ошибок было без него\n",
    "\n",
    "df2['profit'] = df2['revenue'] - df2['budget']\n",
    "\n",
    "polozhitelny = df2[df2['profit'] > 0]\n",
    "lowbud = polozhitelny.loc[polozhitelny['budget'].idxmin()]\n",
    "f\"{lowbud['original_title']} (Бюджет: {lowbud['budget']}, Прибыль: {lowbud['profit']})\"\n"
   ]
  },
  {
   "cell_type": "markdown",
   "id": "5c07b62b-68d5-4117-9a24-9af40e22244c",
   "metadata": {},
   "source": [
    "### 21. Какой актер снялся в наибольшем количестве фильмов, в которых рейтинг (vote_average) выше 8?"
   ]
  },
  {
   "cell_type": "markdown",
   "id": "927f7ead-4303-4502-bdea-aba9672d2f3a",
   "metadata": {},
   "source": []
  },
  {
   "cell_type": "code",
   "execution_count": 453,
   "id": "96a2e53b-098d-45ad-a505-cb6aafaf506d",
   "metadata": {},
   "outputs": [
    {
     "data": {
      "text/plain": [
       "'Christian Bale'"
      ]
     },
     "execution_count": 453,
     "metadata": {},
     "output_type": "execute_result"
    }
   ],
   "source": [
    "df2 = pd.read_csv('movie_bd_v5.csv') # чтобы сплит норм выполнялся. у меня несколько ошибок было без него\n",
    "\n",
    "hrm = df2[df2['vote_average'] > 8]\n",
    "\n",
    "\n",
    "actors = hrm['cast'].str.cat(sep='|')\n",
    "\n",
    "actors_df = pd.DataFrame(actors.split('|'), columns=['actor'])\n",
    "actors_df['actor'].value_counts().idxmax()\n"
   ]
  },
  {
   "cell_type": "markdown",
   "id": "43dee8de-20b8-40e1-b32e-871df23f22ce",
   "metadata": {},
   "source": [
    "### 22. Какой режиссер снял наибольшее количество фильмов с жанром \"Драма\"?"
   ]
  },
  {
   "cell_type": "markdown",
   "id": "60ce8b85-cc27-4917-b038-f7c6f71c72de",
   "metadata": {},
   "source": []
  },
  {
   "cell_type": "code",
   "execution_count": 442,
   "id": "5f2076a7-8e14-4a3b-a3cf-758abf790ab5",
   "metadata": {},
   "outputs": [
    {
     "data": {
      "text/plain": [
       "'Clint Eastwood'"
      ]
     },
     "execution_count": 442,
     "metadata": {},
     "output_type": "execute_result"
    }
   ],
   "source": [
    "drama = df2[df2['genres'].str.contains('Drama', na=False)]\n",
    "drama['director'].value_counts().idxmax()\n"
   ]
  },
  {
   "cell_type": "markdown",
   "id": "03960aa5-1315-4d0f-a6ee-e241e01e3409",
   "metadata": {},
   "source": [
    "### 23. Какой фильм снятый в жанре \"Комедия\" имеет самый низкий рейтинг (vote_average)?"
   ]
  },
  {
   "cell_type": "markdown",
   "id": "a792535e-e108-4f41-8896-71c19a854102",
   "metadata": {},
   "source": []
  },
  {
   "cell_type": "code",
   "execution_count": 460,
   "id": "29a745cb-cacf-486b-9942-728bfc8b456e",
   "metadata": {},
   "outputs": [
    {
     "name": "stdout",
     "output_type": "stream",
     "text": [
      "Фильм в жанре 'Комедия' с самым низким рейтингом: Disaster Movie, рейтинг: 3.3\n"
     ]
    }
   ],
   "source": [
    "df2 = pd.read_csv('movie_bd_v5.csv') # чтобы сплит норм выполнялся. у меня несколько ошибок было без него\n",
    "\n",
    "\n",
    "comedy = df2[df2['genres'].str.contains('Comedy', na=False)]\n",
    "\n",
    "lowrate = comedy.loc[comedy['vote_average'].idxmin()]\n",
    "\n",
    "f\"Фильм в жанре 'Комедия' с самым низким рейтингом: {lowrate['original_title']}, рейтинг: {lowrate['vote_average']}\"\n"
   ]
  },
  {
   "cell_type": "markdown",
   "id": "a55c7f72-1df4-4a95-8df8-ab6ebad0235f",
   "metadata": {},
   "source": [
    "### 24. Какой фильм с самым низким бюджетом стал самым кассовым?"
   ]
  },
  {
   "cell_type": "markdown",
   "id": "1cde3293-4d50-4064-b1c4-5e13be58e4b5",
   "metadata": {},
   "source": []
  },
  {
   "cell_type": "code",
   "execution_count": 516,
   "id": "a25598e4-f1e8-4d3a-95ad-93de8f0033b2",
   "metadata": {},
   "outputs": [
    {
     "data": {
      "text/plain": [
       "'The Gift (Бюджет: 5000000, Прибыль: 53978653)'"
      ]
     },
     "execution_count": 516,
     "metadata": {},
     "output_type": "execute_result"
    }
   ],
   "source": [
    "df2 = pd.read_csv('movie_bd_v5.csv') # чтобы сплит норм выполнялся. у меня несколько ошибок было без него\n",
    "\n",
    "df2['profit'] = df2['revenue'] - df2['budget']\n",
    "\n",
    "polozhitelny = df2[df2['profit'] > 0]\n",
    "lowbud = polozhitelny.loc[polozhitelny['budget'].idxmin()]\n",
    "f\"{lowbud['original_title']} (Бюджет: {lowbud['budget']}, Прибыль: {lowbud['profit']})\"\n"
   ]
  },
  {
   "cell_type": "markdown",
   "id": "577c7dd6-59e1-47b7-96c7-06aedeed8b77",
   "metadata": {},
   "source": [
    "### 25. Какой актер снялся в наибольшем количестве фильмов с одним и тем же режиссером в разные годы?"
   ]
  },
  {
   "cell_type": "markdown",
   "id": "15491805-c9cd-4f40-8102-17a33592e26d",
   "metadata": {},
   "source": []
  },
  {
   "cell_type": "code",
   "execution_count": 479,
   "id": "590b17cb-75c7-4890-9188-08c3b5941fbf",
   "metadata": {},
   "outputs": [
    {
     "data": {
      "text/html": [
       "<div>\n",
       "<style scoped>\n",
       "    .dataframe tbody tr th:only-of-type {\n",
       "        vertical-align: middle;\n",
       "    }\n",
       "\n",
       "    .dataframe tbody tr th {\n",
       "        vertical-align: top;\n",
       "    }\n",
       "\n",
       "    .dataframe thead th {\n",
       "        text-align: right;\n",
       "    }\n",
       "</style>\n",
       "<table border=\"1\" class=\"dataframe\">\n",
       "  <thead>\n",
       "    <tr style=\"text-align: right;\">\n",
       "      <th></th>\n",
       "      <th>cast</th>\n",
       "      <th>director</th>\n",
       "      <th>year</th>\n",
       "    </tr>\n",
       "  </thead>\n",
       "  <tbody>\n",
       "    <tr>\n",
       "      <th>3578</th>\n",
       "      <td>Helena Bonham Carter</td>\n",
       "      <td>Tim Burton</td>\n",
       "      <td>6</td>\n",
       "    </tr>\n",
       "    <tr>\n",
       "      <th>3681</th>\n",
       "      <td>Ian McKellen</td>\n",
       "      <td>Peter Jackson</td>\n",
       "      <td>6</td>\n",
       "    </tr>\n",
       "  </tbody>\n",
       "</table>\n",
       "</div>"
      ],
      "text/plain": [
       "                      cast       director  year\n",
       "3578  Helena Bonham Carter     Tim Burton     6\n",
       "3681          Ian McKellen  Peter Jackson     6"
      ]
     },
     "execution_count": 479,
     "metadata": {},
     "output_type": "execute_result"
    }
   ],
   "source": [
    "df2 = pd.read_csv('movie_bd_v5.csv') # чтобы сплит норм выполнялся. у меня несколько ошибок было без него\n",
    "\n",
    "df2['cast'] = df2['cast'].str.split('|')\n",
    "df2['director'] = df2['director'].str.split('|')\n",
    "df2['release_date'] = pd.to_datetime(df2['release_date'])\n",
    "df2['year'] =  df2['release_date'].dt.year\n",
    "\n",
    "df2 = df2.explode('cast').explode('director')\n",
    "\n",
    "adcnt = df2.groupby(['cast', 'director'])['year'].nunique().reset_index()\n",
    "\n",
    "maxcnt = adcnt['year'].max()\n",
    "adcnt[adcnt['year'] == maxcnt]\n"
   ]
  },
  {
   "cell_type": "markdown",
   "id": "818f88a0-ee29-478f-8dd0-2a97cc8ead13",
   "metadata": {},
   "source": [
    "### 26. Какой фильм снятый в стиле \"Боевик\" имеет самый высокий бюджет?"
   ]
  },
  {
   "cell_type": "markdown",
   "id": "659dc919-8bff-4570-bbd3-4a16bbe8acee",
   "metadata": {},
   "source": []
  },
  {
   "cell_type": "code",
   "execution_count": 494,
   "id": "6d23fc0b-c403-4202-84cf-7d3b6e2d0121",
   "metadata": {},
   "outputs": [
    {
     "name": "stdout",
     "output_type": "stream",
     "text": [
      "Фильм в жанре 'Боевик' с самым высоким бюджетом: Pirates of the Caribbean: On Stranger Tides\n"
     ]
    }
   ],
   "source": [
    "df2 = pd.read_csv('movie_bd_v5.csv') # чтобы сплит норм выполнялся. у меня несколько ошибок было без него\n",
    "\n",
    "action = df2[df2['genres'].str.contains('Action', na=False)]\n",
    "hba  = action.loc[action['budget'].idxmax()]\n",
    "print(f\"Фильм в жанре 'Боевик' с самым высоким бюджетом: {hba['original_title']}\")"
   ]
  },
  {
   "cell_type": "markdown",
   "id": "20f61200-acc2-4ca1-b575-01557281779d",
   "metadata": {},
   "source": [
    "### 27. Какой режиссер снял наибольшее количество фильмов в стиле \"Фэнтези\"?"
   ]
  },
  {
   "cell_type": "markdown",
   "id": "069b1611-4c9c-4faa-b870-fc0093056183",
   "metadata": {},
   "source": []
  },
  {
   "cell_type": "code",
   "execution_count": 502,
   "id": "4eef957c-38ec-4322-ab45-a45daec92a7d",
   "metadata": {},
   "outputs": [
    {
     "data": {
      "text/plain": [
       "'Peter Jackson'"
      ]
     },
     "execution_count": 502,
     "metadata": {},
     "output_type": "execute_result"
    }
   ],
   "source": [
    "df2 = pd.read_csv('movie_bd_v5.csv') # чтобы сплит норм выполнялся. у меня несколько ошибок было без него\n",
    "\n",
    "df2[df2['genres'].str.contains('Fantasy', na=False)]['director'].value_counts().idxmax()"
   ]
  },
  {
   "cell_type": "code",
   "execution_count": null,
   "id": "5b7cc414-1b5c-4132-936d-4e0f8b2a8d79",
   "metadata": {},
   "outputs": [],
   "source": []
  },
  {
   "cell_type": "code",
   "execution_count": null,
   "id": "b2485f47-5e0b-4ba9-a8af-3595d5542d08",
   "metadata": {},
   "outputs": [],
   "source": []
  },
  {
   "cell_type": "code",
   "execution_count": null,
   "id": "759bef34-738d-47ef-b297-58f750cd8b45",
   "metadata": {},
   "outputs": [],
   "source": []
  },
  {
   "cell_type": "code",
   "execution_count": null,
   "id": "bd5ff959-7d66-4a0a-97bc-e70d62a7d350",
   "metadata": {},
   "outputs": [],
   "source": []
  },
  {
   "cell_type": "code",
   "execution_count": null,
   "id": "2d4aa4fe-08f2-48cc-96ea-f19909d92cdb",
   "metadata": {},
   "outputs": [],
   "source": []
  },
  {
   "cell_type": "code",
   "execution_count": null,
   "id": "579b9715-7af2-4413-b261-25d1dd1d7695",
   "metadata": {},
   "outputs": [],
   "source": []
  }
 ],
 "metadata": {
  "kernelspec": {
   "display_name": "Python 3 (ipykernel)",
   "language": "python",
   "name": "python3"
  },
  "language_info": {
   "codemirror_mode": {
    "name": "ipython",
    "version": 3
   },
   "file_extension": ".py",
   "mimetype": "text/x-python",
   "name": "python",
   "nbconvert_exporter": "python",
   "pygments_lexer": "ipython3",
   "version": "3.12.4"
  }
 },
 "nbformat": 4,
 "nbformat_minor": 5
}
