{
 "cells": [
  {
   "cell_type": "code",
   "execution_count": 1,
   "id": "4f3662ac-7593-43eb-b626-15ef8cfd6db6",
   "metadata": {},
   "outputs": [],
   "source": [
    "import pandas as pd"
   ]
  },
  {
   "cell_type": "code",
   "execution_count": 2,
   "id": "29ef13cb-4f1e-4cfd-bce6-80751bc310bb",
   "metadata": {},
   "outputs": [
    {
     "data": {
      "text/html": [
       "<div>\n",
       "<style scoped>\n",
       "    .dataframe tbody tr th:only-of-type {\n",
       "        vertical-align: middle;\n",
       "    }\n",
       "\n",
       "    .dataframe tbody tr th {\n",
       "        vertical-align: top;\n",
       "    }\n",
       "\n",
       "    .dataframe thead th {\n",
       "        text-align: right;\n",
       "    }\n",
       "</style>\n",
       "<table border=\"1\" class=\"dataframe\">\n",
       "  <thead>\n",
       "    <tr style=\"text-align: right;\">\n",
       "      <th></th>\n",
       "      <th>Unnamed: 0</th>\n",
       "      <th>Name</th>\n",
       "      <th>Age</th>\n",
       "      <th>Nationality</th>\n",
       "      <th>Club</th>\n",
       "      <th>Value</th>\n",
       "      <th>Wage</th>\n",
       "      <th>Position</th>\n",
       "      <th>Crossing</th>\n",
       "      <th>Finishing</th>\n",
       "      <th>...</th>\n",
       "      <th>Penalties</th>\n",
       "      <th>Composure</th>\n",
       "      <th>Marking</th>\n",
       "      <th>StandingTackle</th>\n",
       "      <th>SlidingTackle</th>\n",
       "      <th>GKDiving</th>\n",
       "      <th>GKHandling</th>\n",
       "      <th>GKKicking</th>\n",
       "      <th>GKPositioning</th>\n",
       "      <th>GKReflexes</th>\n",
       "    </tr>\n",
       "  </thead>\n",
       "  <tbody>\n",
       "    <tr>\n",
       "      <th>0</th>\n",
       "      <td>0</td>\n",
       "      <td>L. Messi</td>\n",
       "      <td>31</td>\n",
       "      <td>Argentina</td>\n",
       "      <td>FC Barcelona</td>\n",
       "      <td>110500000</td>\n",
       "      <td>565000</td>\n",
       "      <td>RF</td>\n",
       "      <td>84</td>\n",
       "      <td>95</td>\n",
       "      <td>...</td>\n",
       "      <td>75</td>\n",
       "      <td>96</td>\n",
       "      <td>33</td>\n",
       "      <td>28</td>\n",
       "      <td>26</td>\n",
       "      <td>6</td>\n",
       "      <td>11</td>\n",
       "      <td>15</td>\n",
       "      <td>14</td>\n",
       "      <td>8</td>\n",
       "    </tr>\n",
       "    <tr>\n",
       "      <th>1</th>\n",
       "      <td>1</td>\n",
       "      <td>Cristiano Ronaldo</td>\n",
       "      <td>33</td>\n",
       "      <td>Portugal</td>\n",
       "      <td>Juventus</td>\n",
       "      <td>77000000</td>\n",
       "      <td>405000</td>\n",
       "      <td>ST</td>\n",
       "      <td>84</td>\n",
       "      <td>94</td>\n",
       "      <td>...</td>\n",
       "      <td>85</td>\n",
       "      <td>95</td>\n",
       "      <td>28</td>\n",
       "      <td>31</td>\n",
       "      <td>23</td>\n",
       "      <td>7</td>\n",
       "      <td>11</td>\n",
       "      <td>15</td>\n",
       "      <td>14</td>\n",
       "      <td>11</td>\n",
       "    </tr>\n",
       "    <tr>\n",
       "      <th>2</th>\n",
       "      <td>2</td>\n",
       "      <td>Neymar Jr</td>\n",
       "      <td>26</td>\n",
       "      <td>Brazil</td>\n",
       "      <td>Paris Saint-Germain</td>\n",
       "      <td>118500000</td>\n",
       "      <td>290000</td>\n",
       "      <td>LW</td>\n",
       "      <td>79</td>\n",
       "      <td>87</td>\n",
       "      <td>...</td>\n",
       "      <td>81</td>\n",
       "      <td>94</td>\n",
       "      <td>27</td>\n",
       "      <td>24</td>\n",
       "      <td>33</td>\n",
       "      <td>9</td>\n",
       "      <td>9</td>\n",
       "      <td>15</td>\n",
       "      <td>15</td>\n",
       "      <td>11</td>\n",
       "    </tr>\n",
       "  </tbody>\n",
       "</table>\n",
       "<p>3 rows × 42 columns</p>\n",
       "</div>"
      ],
      "text/plain": [
       "   Unnamed: 0               Name  Age Nationality                 Club  \\\n",
       "0           0           L. Messi   31   Argentina         FC Barcelona   \n",
       "1           1  Cristiano Ronaldo   33    Portugal             Juventus   \n",
       "2           2          Neymar Jr   26      Brazil  Paris Saint-Germain   \n",
       "\n",
       "       Value    Wage Position  Crossing  Finishing  ...  Penalties  Composure  \\\n",
       "0  110500000  565000       RF        84         95  ...         75         96   \n",
       "1   77000000  405000       ST        84         94  ...         85         95   \n",
       "2  118500000  290000       LW        79         87  ...         81         94   \n",
       "\n",
       "   Marking  StandingTackle  SlidingTackle  GKDiving  GKHandling  GKKicking  \\\n",
       "0       33              28             26         6          11         15   \n",
       "1       28              31             23         7          11         15   \n",
       "2       27              24             33         9           9         15   \n",
       "\n",
       "   GKPositioning  GKReflexes  \n",
       "0             14           8  \n",
       "1             14          11  \n",
       "2             15          11  \n",
       "\n",
       "[3 rows x 42 columns]"
      ]
     },
     "execution_count": 2,
     "metadata": {},
     "output_type": "execute_result"
    }
   ],
   "source": [
    "data = pd.read_csv(\"football.csv\")\n",
    "data.head(3)"
   ]
  },
  {
   "cell_type": "code",
   "execution_count": 3,
   "id": "b9c3d0dc-4e94-4690-97ee-e7bbfd5e5f68",
   "metadata": {},
   "outputs": [
    {
     "data": {
      "text/html": [
       "<div>\n",
       "<style scoped>\n",
       "    .dataframe tbody tr th:only-of-type {\n",
       "        vertical-align: middle;\n",
       "    }\n",
       "\n",
       "    .dataframe tbody tr th {\n",
       "        vertical-align: top;\n",
       "    }\n",
       "\n",
       "    .dataframe thead th {\n",
       "        text-align: right;\n",
       "    }\n",
       "</style>\n",
       "<table border=\"1\" class=\"dataframe\">\n",
       "  <thead>\n",
       "    <tr style=\"text-align: right;\">\n",
       "      <th></th>\n",
       "      <th>mean</th>\n",
       "      <th>median</th>\n",
       "    </tr>\n",
       "    <tr>\n",
       "      <th>Club</th>\n",
       "      <th></th>\n",
       "      <th></th>\n",
       "    </tr>\n",
       "  </thead>\n",
       "  <tbody>\n",
       "    <tr>\n",
       "      <th>SSV Jahn Regensburg</th>\n",
       "      <td>3750.000000</td>\n",
       "      <td>3500.0</td>\n",
       "    </tr>\n",
       "    <tr>\n",
       "      <th>1. FC Heidenheim 1846</th>\n",
       "      <td>3800.000000</td>\n",
       "      <td>3000.0</td>\n",
       "    </tr>\n",
       "    <tr>\n",
       "      <th>1. FC Kaiserslautern</th>\n",
       "      <td>1434.782609</td>\n",
       "      <td>1000.0</td>\n",
       "    </tr>\n",
       "    <tr>\n",
       "      <th>1. FC Köln</th>\n",
       "      <td>9200.000000</td>\n",
       "      <td>4000.0</td>\n",
       "    </tr>\n",
       "    <tr>\n",
       "      <th>1. FC Magdeburg</th>\n",
       "      <td>4000.000000</td>\n",
       "      <td>4000.0</td>\n",
       "    </tr>\n",
       "    <tr>\n",
       "      <th>...</th>\n",
       "      <td>...</td>\n",
       "      <td>...</td>\n",
       "    </tr>\n",
       "    <tr>\n",
       "      <th>Zagłębie Sosnowiec</th>\n",
       "      <td>1080.000000</td>\n",
       "      <td>1000.0</td>\n",
       "    </tr>\n",
       "    <tr>\n",
       "      <th>Çaykur Rizespor</th>\n",
       "      <td>5363.636364</td>\n",
       "      <td>4500.0</td>\n",
       "    </tr>\n",
       "    <tr>\n",
       "      <th>Örebro SK</th>\n",
       "      <td>1384.615385</td>\n",
       "      <td>1000.0</td>\n",
       "    </tr>\n",
       "    <tr>\n",
       "      <th>Östersunds FK</th>\n",
       "      <td>1950.000000</td>\n",
       "      <td>1000.0</td>\n",
       "    </tr>\n",
       "    <tr>\n",
       "      <th>Śląsk Wrocław</th>\n",
       "      <td>2083.333333</td>\n",
       "      <td>2000.0</td>\n",
       "    </tr>\n",
       "  </tbody>\n",
       "</table>\n",
       "<p>650 rows × 2 columns</p>\n",
       "</div>"
      ],
      "text/plain": [
       "                              mean  median\n",
       "Club                                      \n",
       " SSV Jahn Regensburg   3750.000000  3500.0\n",
       "1. FC Heidenheim 1846  3800.000000  3000.0\n",
       "1. FC Kaiserslautern   1434.782609  1000.0\n",
       "1. FC Köln             9200.000000  4000.0\n",
       "1. FC Magdeburg        4000.000000  4000.0\n",
       "...                            ...     ...\n",
       "Zagłębie Sosnowiec     1080.000000  1000.0\n",
       "Çaykur Rizespor        5363.636364  4500.0\n",
       "Örebro SK              1384.615385  1000.0\n",
       "Östersunds FK          1950.000000  1000.0\n",
       "Śląsk Wrocław          2083.333333  2000.0\n",
       "\n",
       "[650 rows x 2 columns]"
      ]
     },
     "execution_count": 3,
     "metadata": {},
     "output_type": "execute_result"
    }
   ],
   "source": [
    "grup = data.groupby('Club')['Wage'].agg(['mean', 'median'])\n",
    "grup"
   ]
  },
  {
   "cell_type": "code",
   "execution_count": 4,
   "id": "75e49d02-cd9b-40de-8cd5-3ea0d3855011",
   "metadata": {},
   "outputs": [
    {
     "data": {
      "text/plain": [
       "52"
      ]
     },
     "execution_count": 4,
     "metadata": {},
     "output_type": "execute_result"
    }
   ],
   "source": [
    "grup[grup['mean'] == grup['median']].shape[0]\n"
   ]
  },
  {
   "cell_type": "code",
   "execution_count": 5,
   "id": "a3969503-500a-4f9e-9633-090cc2c00fa0",
   "metadata": {},
   "outputs": [
    {
     "data": {
      "text/plain": [
       "mean      13000.0\n",
       "median    13000.0\n",
       "dtype: float64"
      ]
     },
     "execution_count": 5,
     "metadata": {},
     "output_type": "execute_result"
    }
   ],
   "source": [
    "maxval = grup[grup['mean'] == grup['median']].max()\n",
    "maxval "
   ]
  },
  {
   "cell_type": "code",
   "execution_count": 6,
   "id": "ab43f5ea-0fe0-4599-8f9d-e5310f64a7dd",
   "metadata": {},
   "outputs": [
    {
     "data": {
      "text/html": [
       "<div>\n",
       "<style scoped>\n",
       "    .dataframe tbody tr th:only-of-type {\n",
       "        vertical-align: middle;\n",
       "    }\n",
       "\n",
       "    .dataframe tbody tr th {\n",
       "        vertical-align: top;\n",
       "    }\n",
       "\n",
       "    .dataframe thead th {\n",
       "        text-align: right;\n",
       "    }\n",
       "</style>\n",
       "<table border=\"1\" class=\"dataframe\">\n",
       "  <thead>\n",
       "    <tr style=\"text-align: right;\">\n",
       "      <th></th>\n",
       "      <th>mean</th>\n",
       "      <th>median</th>\n",
       "    </tr>\n",
       "    <tr>\n",
       "      <th>Club</th>\n",
       "      <th></th>\n",
       "      <th></th>\n",
       "    </tr>\n",
       "  </thead>\n",
       "  <tbody>\n",
       "    <tr>\n",
       "      <th>Cruzeiro</th>\n",
       "      <td>13000.0</td>\n",
       "      <td>13000.0</td>\n",
       "    </tr>\n",
       "  </tbody>\n",
       "</table>\n",
       "</div>"
      ],
      "text/plain": [
       "             mean   median\n",
       "Club                      \n",
       "Cruzeiro  13000.0  13000.0"
      ]
     },
     "execution_count": 6,
     "metadata": {},
     "output_type": "execute_result"
    }
   ],
   "source": [
    "grup[grup['mean'] == maxval.iloc[0]]"
   ]
  },
  {
   "cell_type": "code",
   "execution_count": 7,
   "id": "aa042ab5-c31c-4443-9060-30ddfa7f1089",
   "metadata": {},
   "outputs": [
    {
     "data": {
      "text/plain": [
       "2035000"
      ]
     },
     "execution_count": 7,
     "metadata": {},
     "output_type": "execute_result"
    }
   ],
   "source": [
    "data.groupby('Club')['Wage'].agg('sum')['Chelsea']"
   ]
  },
  {
   "cell_type": "code",
   "execution_count": 8,
   "id": "8f3c5efa-af04-44f8-a49a-da50b6f9f83f",
   "metadata": {},
   "outputs": [
    {
     "data": {
      "text/plain": [
       "54000"
      ]
     },
     "execution_count": 8,
     "metadata": {},
     "output_type": "execute_result"
    }
   ],
   "source": [
    "argen = data[(data['Nationality']=='Argentina') & (data['Age'] ==20)]\n",
    "argen['Wage'].max()"
   ]
  },
  {
   "cell_type": "code",
   "execution_count": 9,
   "id": "7df9a992-f46d-4af0-85be-b061b0fcc53b",
   "metadata": {},
   "outputs": [
    {
     "data": {
      "text/plain": [
       "300000"
      ]
     },
     "execution_count": 9,
     "metadata": {},
     "output_type": "execute_result"
    }
   ],
   "source": [
    "argen30 = data[(data['Nationality']=='Argentina') & (data['Age'] == 30)]\n",
    "argen30['Wage'].max()"
   ]
  },
  {
   "cell_type": "code",
   "execution_count": 10,
   "id": "df235f81-7736-43df-ac6f-b330bdee5578",
   "metadata": {},
   "outputs": [
    {
     "data": {
      "text/plain": [
       "1000"
      ]
     },
     "execution_count": 10,
     "metadata": {},
     "output_type": "execute_result"
    }
   ],
   "source": [
    "argen30min = data[(data['Nationality']=='Argentina') & (data['Age'] == 30)]\n",
    "argen30min['Wage'].min()"
   ]
  },
  {
   "cell_type": "code",
   "execution_count": 11,
   "id": "7ad0d48a-7376-4aef-a6e1-1ba5dcf26bba",
   "metadata": {},
   "outputs": [],
   "source": [
    "barcelon = data[(data['Nationality']=='Argentina') & (data['Club']=='FC Barcelona')]"
   ]
  },
  {
   "cell_type": "code",
   "execution_count": 12,
   "id": "f60fcd14-6fe3-4b36-8f6d-3cb398ff3ac8",
   "metadata": {},
   "outputs": [
    {
     "data": {
      "text/plain": [
       "59"
      ]
     },
     "execution_count": 12,
     "metadata": {},
     "output_type": "execute_result"
    }
   ],
   "source": [
    "barcelon['Strength'].max()"
   ]
  },
  {
   "cell_type": "code",
   "execution_count": 13,
   "id": "d0b3b01e-1967-4e1b-8317-3212ef695c57",
   "metadata": {},
   "outputs": [
    {
     "data": {
      "text/plain": [
       "95"
      ]
     },
     "execution_count": 13,
     "metadata": {},
     "output_type": "execute_result"
    }
   ],
   "source": [
    "barcelon['Balance'].max()"
   ]
  },
  {
   "cell_type": "code",
   "execution_count": null,
   "id": "5b9ec78f-c461-46da-b129-2a69a5650db9",
   "metadata": {},
   "outputs": [],
   "source": []
  },
  {
   "cell_type": "code",
   "execution_count": 14,
   "id": "9efd6dcf-b4da-41e7-92be-06ad0a91279e",
   "metadata": {},
   "outputs": [
    {
     "data": {
      "text/html": [
       "<div>\n",
       "<style scoped>\n",
       "    .dataframe tbody tr th:only-of-type {\n",
       "        vertical-align: middle;\n",
       "    }\n",
       "\n",
       "    .dataframe tbody tr th {\n",
       "        vertical-align: top;\n",
       "    }\n",
       "\n",
       "    .dataframe thead th {\n",
       "        text-align: right;\n",
       "    }\n",
       "</style>\n",
       "<table border=\"1\" class=\"dataframe\">\n",
       "  <thead>\n",
       "    <tr style=\"text-align: right;\">\n",
       "      <th>Position</th>\n",
       "      <th>CAM</th>\n",
       "      <th>CB</th>\n",
       "      <th>CDM</th>\n",
       "      <th>CF</th>\n",
       "      <th>CM</th>\n",
       "      <th>GK</th>\n",
       "      <th>LAM</th>\n",
       "      <th>LB</th>\n",
       "      <th>LCB</th>\n",
       "      <th>LCM</th>\n",
       "      <th>...</th>\n",
       "      <th>RB</th>\n",
       "      <th>RCB</th>\n",
       "      <th>RCM</th>\n",
       "      <th>RDM</th>\n",
       "      <th>RF</th>\n",
       "      <th>RM</th>\n",
       "      <th>RS</th>\n",
       "      <th>RW</th>\n",
       "      <th>RWB</th>\n",
       "      <th>ST</th>\n",
       "    </tr>\n",
       "    <tr>\n",
       "      <th>Club</th>\n",
       "      <th></th>\n",
       "      <th></th>\n",
       "      <th></th>\n",
       "      <th></th>\n",
       "      <th></th>\n",
       "      <th></th>\n",
       "      <th></th>\n",
       "      <th></th>\n",
       "      <th></th>\n",
       "      <th></th>\n",
       "      <th></th>\n",
       "      <th></th>\n",
       "      <th></th>\n",
       "      <th></th>\n",
       "      <th></th>\n",
       "      <th></th>\n",
       "      <th></th>\n",
       "      <th></th>\n",
       "      <th></th>\n",
       "      <th></th>\n",
       "      <th></th>\n",
       "    </tr>\n",
       "  </thead>\n",
       "  <tbody>\n",
       "    <tr>\n",
       "      <th>SSV Jahn Regensburg</th>\n",
       "      <td>0</td>\n",
       "      <td>5</td>\n",
       "      <td>1</td>\n",
       "      <td>0</td>\n",
       "      <td>2</td>\n",
       "      <td>3</td>\n",
       "      <td>0</td>\n",
       "      <td>2</td>\n",
       "      <td>0</td>\n",
       "      <td>0</td>\n",
       "      <td>...</td>\n",
       "      <td>2</td>\n",
       "      <td>1</td>\n",
       "      <td>0</td>\n",
       "      <td>1</td>\n",
       "      <td>0</td>\n",
       "      <td>0</td>\n",
       "      <td>0</td>\n",
       "      <td>0</td>\n",
       "      <td>0</td>\n",
       "      <td>3</td>\n",
       "    </tr>\n",
       "    <tr>\n",
       "      <th>1. FC Heidenheim 1846</th>\n",
       "      <td>1</td>\n",
       "      <td>3</td>\n",
       "      <td>0</td>\n",
       "      <td>0</td>\n",
       "      <td>1</td>\n",
       "      <td>2</td>\n",
       "      <td>0</td>\n",
       "      <td>2</td>\n",
       "      <td>1</td>\n",
       "      <td>0</td>\n",
       "      <td>...</td>\n",
       "      <td>2</td>\n",
       "      <td>1</td>\n",
       "      <td>0</td>\n",
       "      <td>0</td>\n",
       "      <td>0</td>\n",
       "      <td>3</td>\n",
       "      <td>0</td>\n",
       "      <td>0</td>\n",
       "      <td>0</td>\n",
       "      <td>2</td>\n",
       "    </tr>\n",
       "    <tr>\n",
       "      <th>1. FC Kaiserslautern</th>\n",
       "      <td>0</td>\n",
       "      <td>3</td>\n",
       "      <td>3</td>\n",
       "      <td>0</td>\n",
       "      <td>0</td>\n",
       "      <td>3</td>\n",
       "      <td>0</td>\n",
       "      <td>2</td>\n",
       "      <td>1</td>\n",
       "      <td>0</td>\n",
       "      <td>...</td>\n",
       "      <td>2</td>\n",
       "      <td>0</td>\n",
       "      <td>0</td>\n",
       "      <td>1</td>\n",
       "      <td>0</td>\n",
       "      <td>2</td>\n",
       "      <td>1</td>\n",
       "      <td>0</td>\n",
       "      <td>0</td>\n",
       "      <td>1</td>\n",
       "    </tr>\n",
       "    <tr>\n",
       "      <th>1. FC Köln</th>\n",
       "      <td>0</td>\n",
       "      <td>1</td>\n",
       "      <td>1</td>\n",
       "      <td>0</td>\n",
       "      <td>2</td>\n",
       "      <td>3</td>\n",
       "      <td>0</td>\n",
       "      <td>0</td>\n",
       "      <td>0</td>\n",
       "      <td>0</td>\n",
       "      <td>...</td>\n",
       "      <td>1</td>\n",
       "      <td>0</td>\n",
       "      <td>0</td>\n",
       "      <td>0</td>\n",
       "      <td>0</td>\n",
       "      <td>1</td>\n",
       "      <td>0</td>\n",
       "      <td>0</td>\n",
       "      <td>0</td>\n",
       "      <td>0</td>\n",
       "    </tr>\n",
       "    <tr>\n",
       "      <th>1. FC Magdeburg</th>\n",
       "      <td>0</td>\n",
       "      <td>4</td>\n",
       "      <td>0</td>\n",
       "      <td>1</td>\n",
       "      <td>0</td>\n",
       "      <td>3</td>\n",
       "      <td>0</td>\n",
       "      <td>1</td>\n",
       "      <td>1</td>\n",
       "      <td>1</td>\n",
       "      <td>...</td>\n",
       "      <td>0</td>\n",
       "      <td>1</td>\n",
       "      <td>1</td>\n",
       "      <td>0</td>\n",
       "      <td>0</td>\n",
       "      <td>3</td>\n",
       "      <td>1</td>\n",
       "      <td>2</td>\n",
       "      <td>0</td>\n",
       "      <td>1</td>\n",
       "    </tr>\n",
       "    <tr>\n",
       "      <th>...</th>\n",
       "      <td>...</td>\n",
       "      <td>...</td>\n",
       "      <td>...</td>\n",
       "      <td>...</td>\n",
       "      <td>...</td>\n",
       "      <td>...</td>\n",
       "      <td>...</td>\n",
       "      <td>...</td>\n",
       "      <td>...</td>\n",
       "      <td>...</td>\n",
       "      <td>...</td>\n",
       "      <td>...</td>\n",
       "      <td>...</td>\n",
       "      <td>...</td>\n",
       "      <td>...</td>\n",
       "      <td>...</td>\n",
       "      <td>...</td>\n",
       "      <td>...</td>\n",
       "      <td>...</td>\n",
       "      <td>...</td>\n",
       "      <td>...</td>\n",
       "    </tr>\n",
       "    <tr>\n",
       "      <th>Zagłębie Sosnowiec</th>\n",
       "      <td>3</td>\n",
       "      <td>2</td>\n",
       "      <td>2</td>\n",
       "      <td>0</td>\n",
       "      <td>0</td>\n",
       "      <td>3</td>\n",
       "      <td>0</td>\n",
       "      <td>3</td>\n",
       "      <td>1</td>\n",
       "      <td>0</td>\n",
       "      <td>...</td>\n",
       "      <td>1</td>\n",
       "      <td>1</td>\n",
       "      <td>0</td>\n",
       "      <td>1</td>\n",
       "      <td>0</td>\n",
       "      <td>2</td>\n",
       "      <td>0</td>\n",
       "      <td>0</td>\n",
       "      <td>0</td>\n",
       "      <td>1</td>\n",
       "    </tr>\n",
       "    <tr>\n",
       "      <th>Çaykur Rizespor</th>\n",
       "      <td>1</td>\n",
       "      <td>2</td>\n",
       "      <td>5</td>\n",
       "      <td>0</td>\n",
       "      <td>0</td>\n",
       "      <td>3</td>\n",
       "      <td>0</td>\n",
       "      <td>2</td>\n",
       "      <td>1</td>\n",
       "      <td>0</td>\n",
       "      <td>...</td>\n",
       "      <td>3</td>\n",
       "      <td>0</td>\n",
       "      <td>0</td>\n",
       "      <td>1</td>\n",
       "      <td>0</td>\n",
       "      <td>1</td>\n",
       "      <td>0</td>\n",
       "      <td>0</td>\n",
       "      <td>0</td>\n",
       "      <td>1</td>\n",
       "    </tr>\n",
       "    <tr>\n",
       "      <th>Örebro SK</th>\n",
       "      <td>0</td>\n",
       "      <td>4</td>\n",
       "      <td>0</td>\n",
       "      <td>0</td>\n",
       "      <td>1</td>\n",
       "      <td>3</td>\n",
       "      <td>0</td>\n",
       "      <td>0</td>\n",
       "      <td>1</td>\n",
       "      <td>1</td>\n",
       "      <td>...</td>\n",
       "      <td>0</td>\n",
       "      <td>1</td>\n",
       "      <td>1</td>\n",
       "      <td>0</td>\n",
       "      <td>0</td>\n",
       "      <td>0</td>\n",
       "      <td>0</td>\n",
       "      <td>2</td>\n",
       "      <td>2</td>\n",
       "      <td>5</td>\n",
       "    </tr>\n",
       "    <tr>\n",
       "      <th>Östersunds FK</th>\n",
       "      <td>1</td>\n",
       "      <td>1</td>\n",
       "      <td>0</td>\n",
       "      <td>1</td>\n",
       "      <td>3</td>\n",
       "      <td>3</td>\n",
       "      <td>0</td>\n",
       "      <td>2</td>\n",
       "      <td>1</td>\n",
       "      <td>1</td>\n",
       "      <td>...</td>\n",
       "      <td>1</td>\n",
       "      <td>1</td>\n",
       "      <td>0</td>\n",
       "      <td>0</td>\n",
       "      <td>0</td>\n",
       "      <td>1</td>\n",
       "      <td>0</td>\n",
       "      <td>1</td>\n",
       "      <td>0</td>\n",
       "      <td>1</td>\n",
       "    </tr>\n",
       "    <tr>\n",
       "      <th>Śląsk Wrocław</th>\n",
       "      <td>0</td>\n",
       "      <td>1</td>\n",
       "      <td>3</td>\n",
       "      <td>0</td>\n",
       "      <td>1</td>\n",
       "      <td>3</td>\n",
       "      <td>0</td>\n",
       "      <td>2</td>\n",
       "      <td>1</td>\n",
       "      <td>0</td>\n",
       "      <td>...</td>\n",
       "      <td>2</td>\n",
       "      <td>1</td>\n",
       "      <td>0</td>\n",
       "      <td>1</td>\n",
       "      <td>0</td>\n",
       "      <td>2</td>\n",
       "      <td>1</td>\n",
       "      <td>0</td>\n",
       "      <td>0</td>\n",
       "      <td>2</td>\n",
       "    </tr>\n",
       "  </tbody>\n",
       "</table>\n",
       "<p>650 rows × 27 columns</p>\n",
       "</div>"
      ],
      "text/plain": [
       "Position               CAM  CB  CDM  CF  CM  GK  LAM  LB  LCB  LCM  ...  RB  \\\n",
       "Club                                                                ...       \n",
       " SSV Jahn Regensburg     0   5    1   0   2   3    0   2    0    0  ...   2   \n",
       "1. FC Heidenheim 1846    1   3    0   0   1   2    0   2    1    0  ...   2   \n",
       "1. FC Kaiserslautern     0   3    3   0   0   3    0   2    1    0  ...   2   \n",
       "1. FC Köln               0   1    1   0   2   3    0   0    0    0  ...   1   \n",
       "1. FC Magdeburg          0   4    0   1   0   3    0   1    1    1  ...   0   \n",
       "...                    ...  ..  ...  ..  ..  ..  ...  ..  ...  ...  ...  ..   \n",
       "Zagłębie Sosnowiec       3   2    2   0   0   3    0   3    1    0  ...   1   \n",
       "Çaykur Rizespor          1   2    5   0   0   3    0   2    1    0  ...   3   \n",
       "Örebro SK                0   4    0   0   1   3    0   0    1    1  ...   0   \n",
       "Östersunds FK            1   1    0   1   3   3    0   2    1    1  ...   1   \n",
       "Śląsk Wrocław            0   1    3   0   1   3    0   2    1    0  ...   2   \n",
       "\n",
       "Position               RCB  RCM  RDM  RF  RM  RS  RW  RWB  ST  \n",
       "Club                                                           \n",
       " SSV Jahn Regensburg     1    0    1   0   0   0   0    0   3  \n",
       "1. FC Heidenheim 1846    1    0    0   0   3   0   0    0   2  \n",
       "1. FC Kaiserslautern     0    0    1   0   2   1   0    0   1  \n",
       "1. FC Köln               0    0    0   0   1   0   0    0   0  \n",
       "1. FC Magdeburg          1    1    0   0   3   1   2    0   1  \n",
       "...                    ...  ...  ...  ..  ..  ..  ..  ...  ..  \n",
       "Zagłębie Sosnowiec       1    0    1   0   2   0   0    0   1  \n",
       "Çaykur Rizespor          0    0    1   0   1   0   0    0   1  \n",
       "Örebro SK                1    1    0   0   0   0   2    2   5  \n",
       "Östersunds FK            1    0    0   0   1   0   1    0   1  \n",
       "Śląsk Wrocław            1    0    1   0   2   1   0    0   2  \n",
       "\n",
       "[650 rows x 27 columns]"
      ]
     },
     "execution_count": 14,
     "metadata": {},
     "output_type": "execute_result"
    }
   ],
   "source": [
    "piv = data.pivot_table(index='Club', columns='Position', aggfunc='size', fill_value=0)\n",
    "piv"
   ]
  },
  {
   "cell_type": "code",
   "execution_count": 15,
   "id": "2b6962bc-c3d4-4a6f-8c46-21264402e613",
   "metadata": {},
   "outputs": [
    {
     "data": {
      "text/plain": [
       "2.5246153846153847"
      ]
     },
     "execution_count": 15,
     "metadata": {},
     "output_type": "execute_result"
    }
   ],
   "source": [
    "piv['GK'].mean()"
   ]
  },
  {
   "cell_type": "code",
   "execution_count": 16,
   "id": "7bb64970-318c-4cd1-9e45-50498461e399",
   "metadata": {},
   "outputs": [
    {
     "data": {
      "text/plain": [
       "CAM  CB  CDM  CF  CM  GK  LAM  LB  LCB  LCM  LDM  LF  LM  LS  LW  LWB  RAM  RB  RCB  RCM  RDM  RF  RM  RS  RW  RWB  ST\n",
       "0    0   0    0   1   1   0    0   0    1    0    0   0   0   3   0    0    0   0    0    0    0   0   0   2   0    2     1\n",
       "1    3   2    0   1   2   0    1   1    0    0    0   1   0   0   0    0    2   0    0    1    0   1   0   0   0    0     1\n",
       "         1    0   1   2   0    2   1    1    0    0   0   0   0   0    0    1   1    1    0    0   2   0   0   0    3     1\n",
       "                               3   0    0    0    0   0   0   0   0    0    2   0    1    0    0   2   1   0   0    5     1\n",
       "                               4   0    1    0    0   0   0   1   0    0    1   1    1    0    0   1   0   1   0    5     1\n",
       "                                                                                                                         ..\n",
       "0    4   2    0   0   2   0    0   0    0    0    0   2   0   0   1    0    0   0    0    0    0   0   0   0   3    3     1\n",
       "                  1   2   0    1   0    0    0    0   1   0   0   0    0    4   0    0    0    0   1   0   0   0    1     1\n",
       "                      3   0    2   1    0    0    0   0   0   1   0    0    2   1    0    0    0   1   0   0   0    2     1\n",
       "     5   0    0   2   2   0    3   0    0    1    0   2   0   0   0    0    0   1    0    1    0   0   0   0   0    3     1\n",
       "4    4   0    0   3   3   0    2   1    0    1    0   1   0   0   0    0    2   1    0    1    0   2   0   1   0    1     1\n",
       "Name: count, Length: 650, dtype: int64"
      ]
     },
     "execution_count": 16,
     "metadata": {},
     "output_type": "execute_result"
    }
   ],
   "source": [
    "piv.value_counts()"
   ]
  },
  {
   "cell_type": "code",
   "execution_count": 17,
   "id": "35b28eeb-4957-412f-9a7b-aed400871c00",
   "metadata": {},
   "outputs": [
    {
     "data": {
      "text/plain": [
       "514"
      ]
     },
     "execution_count": 17,
     "metadata": {},
     "output_type": "execute_result"
    }
   ],
   "source": [
    "sumofcm = data.pivot_table(index='Club', columns='Position', aggfunc='size')['CM'].value_counts().reset_index()['count'].sum()\n",
    "sumofcm"
   ]
  },
  {
   "cell_type": "code",
   "execution_count": 18,
   "id": "33e03506-a6ac-48bb-8272-6ea6fe41bab7",
   "metadata": {},
   "outputs": [
    {
     "data": {
      "text/plain": [
       "136"
      ]
     },
     "execution_count": 18,
     "metadata": {},
     "output_type": "execute_result"
    }
   ],
   "source": [
    "len(piv) - sumofcm"
   ]
  },
  {
   "cell_type": "code",
   "execution_count": 19,
   "id": "62ad23bf-4951-40f7-9cab-eb2faaf30a70",
   "metadata": {},
   "outputs": [
    {
     "data": {
      "text/plain": [
       "136"
      ]
     },
     "execution_count": 19,
     "metadata": {},
     "output_type": "execute_result"
    }
   ],
   "source": [
    "len(piv[piv['CM']==0])"
   ]
  },
  {
   "cell_type": "code",
   "execution_count": 20,
   "id": "b5318774-507d-4e6d-a21c-ae2cf7762b2b",
   "metadata": {},
   "outputs": [
    {
     "data": {
      "text/plain": [
       "61000"
      ]
     },
     "execution_count": 20,
     "metadata": {},
     "output_type": "execute_result"
    }
   ],
   "source": [
    "data[(data['Nationality']=='Russia') & (data['Club']=='AS Monaco')]['Wage'].sum()"
   ]
  },
  {
   "cell_type": "code",
   "execution_count": 63,
   "id": "0a7d2b95-d017-406e-8454-d146925c986f",
   "metadata": {},
   "outputs": [
    {
     "data": {
      "text/html": [
       "<div>\n",
       "<style scoped>\n",
       "    .dataframe tbody tr th:only-of-type {\n",
       "        vertical-align: middle;\n",
       "    }\n",
       "\n",
       "    .dataframe tbody tr th {\n",
       "        vertical-align: top;\n",
       "    }\n",
       "\n",
       "    .dataframe thead th {\n",
       "        text-align: right;\n",
       "    }\n",
       "</style>\n",
       "<table border=\"1\" class=\"dataframe\">\n",
       "  <thead>\n",
       "    <tr style=\"text-align: right;\">\n",
       "      <th>Position</th>\n",
       "      <th>CAM</th>\n",
       "      <th>CB</th>\n",
       "      <th>CDM</th>\n",
       "      <th>CF</th>\n",
       "      <th>CM</th>\n",
       "      <th>GK</th>\n",
       "      <th>LAM</th>\n",
       "      <th>LB</th>\n",
       "      <th>LCB</th>\n",
       "      <th>LCM</th>\n",
       "      <th>...</th>\n",
       "      <th>RB</th>\n",
       "      <th>RCB</th>\n",
       "      <th>RCM</th>\n",
       "      <th>RDM</th>\n",
       "      <th>RF</th>\n",
       "      <th>RM</th>\n",
       "      <th>RS</th>\n",
       "      <th>RW</th>\n",
       "      <th>RWB</th>\n",
       "      <th>ST</th>\n",
       "    </tr>\n",
       "    <tr>\n",
       "      <th>Club</th>\n",
       "      <th></th>\n",
       "      <th></th>\n",
       "      <th></th>\n",
       "      <th></th>\n",
       "      <th></th>\n",
       "      <th></th>\n",
       "      <th></th>\n",
       "      <th></th>\n",
       "      <th></th>\n",
       "      <th></th>\n",
       "      <th></th>\n",
       "      <th></th>\n",
       "      <th></th>\n",
       "      <th></th>\n",
       "      <th></th>\n",
       "      <th></th>\n",
       "      <th></th>\n",
       "      <th></th>\n",
       "      <th></th>\n",
       "      <th></th>\n",
       "      <th></th>\n",
       "    </tr>\n",
       "  </thead>\n",
       "  <tbody>\n",
       "    <tr>\n",
       "      <th>SSV Jahn Regensburg</th>\n",
       "      <td>NaN</td>\n",
       "      <td>46.600000</td>\n",
       "      <td>82.000000</td>\n",
       "      <td>NaN</td>\n",
       "      <td>61.000000</td>\n",
       "      <td>33.000000</td>\n",
       "      <td>NaN</td>\n",
       "      <td>76.000000</td>\n",
       "      <td>NaN</td>\n",
       "      <td>NaN</td>\n",
       "      <td>...</td>\n",
       "      <td>68.500000</td>\n",
       "      <td>57.0</td>\n",
       "      <td>NaN</td>\n",
       "      <td>65.0</td>\n",
       "      <td>NaN</td>\n",
       "      <td>NaN</td>\n",
       "      <td>NaN</td>\n",
       "      <td>NaN</td>\n",
       "      <td>NaN</td>\n",
       "      <td>61.666667</td>\n",
       "    </tr>\n",
       "    <tr>\n",
       "      <th>1. FC Heidenheim 1846</th>\n",
       "      <td>68.0</td>\n",
       "      <td>61.333333</td>\n",
       "      <td>NaN</td>\n",
       "      <td>NaN</td>\n",
       "      <td>68.000000</td>\n",
       "      <td>41.000000</td>\n",
       "      <td>NaN</td>\n",
       "      <td>60.000000</td>\n",
       "      <td>55.0</td>\n",
       "      <td>NaN</td>\n",
       "      <td>...</td>\n",
       "      <td>80.500000</td>\n",
       "      <td>59.0</td>\n",
       "      <td>NaN</td>\n",
       "      <td>NaN</td>\n",
       "      <td>NaN</td>\n",
       "      <td>78.333333</td>\n",
       "      <td>NaN</td>\n",
       "      <td>NaN</td>\n",
       "      <td>NaN</td>\n",
       "      <td>69.000000</td>\n",
       "    </tr>\n",
       "    <tr>\n",
       "      <th>1. FC Kaiserslautern</th>\n",
       "      <td>NaN</td>\n",
       "      <td>59.000000</td>\n",
       "      <td>65.666667</td>\n",
       "      <td>NaN</td>\n",
       "      <td>NaN</td>\n",
       "      <td>42.666667</td>\n",
       "      <td>NaN</td>\n",
       "      <td>68.000000</td>\n",
       "      <td>45.0</td>\n",
       "      <td>NaN</td>\n",
       "      <td>...</td>\n",
       "      <td>71.500000</td>\n",
       "      <td>NaN</td>\n",
       "      <td>NaN</td>\n",
       "      <td>55.0</td>\n",
       "      <td>NaN</td>\n",
       "      <td>82.500000</td>\n",
       "      <td>69.0</td>\n",
       "      <td>NaN</td>\n",
       "      <td>NaN</td>\n",
       "      <td>79.000000</td>\n",
       "    </tr>\n",
       "    <tr>\n",
       "      <th>1. FC Köln</th>\n",
       "      <td>NaN</td>\n",
       "      <td>60.000000</td>\n",
       "      <td>32.000000</td>\n",
       "      <td>NaN</td>\n",
       "      <td>68.500000</td>\n",
       "      <td>33.000000</td>\n",
       "      <td>NaN</td>\n",
       "      <td>NaN</td>\n",
       "      <td>NaN</td>\n",
       "      <td>NaN</td>\n",
       "      <td>...</td>\n",
       "      <td>70.000000</td>\n",
       "      <td>NaN</td>\n",
       "      <td>NaN</td>\n",
       "      <td>NaN</td>\n",
       "      <td>NaN</td>\n",
       "      <td>77.000000</td>\n",
       "      <td>NaN</td>\n",
       "      <td>NaN</td>\n",
       "      <td>NaN</td>\n",
       "      <td>NaN</td>\n",
       "    </tr>\n",
       "    <tr>\n",
       "      <th>1. FC Magdeburg</th>\n",
       "      <td>NaN</td>\n",
       "      <td>60.000000</td>\n",
       "      <td>NaN</td>\n",
       "      <td>64.0</td>\n",
       "      <td>NaN</td>\n",
       "      <td>39.333333</td>\n",
       "      <td>NaN</td>\n",
       "      <td>69.000000</td>\n",
       "      <td>60.0</td>\n",
       "      <td>66.0</td>\n",
       "      <td>...</td>\n",
       "      <td>NaN</td>\n",
       "      <td>68.0</td>\n",
       "      <td>71.0</td>\n",
       "      <td>NaN</td>\n",
       "      <td>NaN</td>\n",
       "      <td>76.000000</td>\n",
       "      <td>53.0</td>\n",
       "      <td>80.5</td>\n",
       "      <td>NaN</td>\n",
       "      <td>44.000000</td>\n",
       "    </tr>\n",
       "    <tr>\n",
       "      <th>...</th>\n",
       "      <td>...</td>\n",
       "      <td>...</td>\n",
       "      <td>...</td>\n",
       "      <td>...</td>\n",
       "      <td>...</td>\n",
       "      <td>...</td>\n",
       "      <td>...</td>\n",
       "      <td>...</td>\n",
       "      <td>...</td>\n",
       "      <td>...</td>\n",
       "      <td>...</td>\n",
       "      <td>...</td>\n",
       "      <td>...</td>\n",
       "      <td>...</td>\n",
       "      <td>...</td>\n",
       "      <td>...</td>\n",
       "      <td>...</td>\n",
       "      <td>...</td>\n",
       "      <td>...</td>\n",
       "      <td>...</td>\n",
       "      <td>...</td>\n",
       "    </tr>\n",
       "    <tr>\n",
       "      <th>Zagłębie Sosnowiec</th>\n",
       "      <td>73.0</td>\n",
       "      <td>46.500000</td>\n",
       "      <td>66.000000</td>\n",
       "      <td>NaN</td>\n",
       "      <td>NaN</td>\n",
       "      <td>39.000000</td>\n",
       "      <td>NaN</td>\n",
       "      <td>60.333333</td>\n",
       "      <td>61.0</td>\n",
       "      <td>NaN</td>\n",
       "      <td>...</td>\n",
       "      <td>68.000000</td>\n",
       "      <td>58.0</td>\n",
       "      <td>NaN</td>\n",
       "      <td>62.0</td>\n",
       "      <td>NaN</td>\n",
       "      <td>71.000000</td>\n",
       "      <td>NaN</td>\n",
       "      <td>NaN</td>\n",
       "      <td>NaN</td>\n",
       "      <td>75.000000</td>\n",
       "    </tr>\n",
       "    <tr>\n",
       "      <th>Çaykur Rizespor</th>\n",
       "      <td>74.0</td>\n",
       "      <td>58.000000</td>\n",
       "      <td>62.800000</td>\n",
       "      <td>NaN</td>\n",
       "      <td>NaN</td>\n",
       "      <td>47.000000</td>\n",
       "      <td>NaN</td>\n",
       "      <td>75.500000</td>\n",
       "      <td>63.0</td>\n",
       "      <td>NaN</td>\n",
       "      <td>...</td>\n",
       "      <td>68.666667</td>\n",
       "      <td>NaN</td>\n",
       "      <td>NaN</td>\n",
       "      <td>32.0</td>\n",
       "      <td>NaN</td>\n",
       "      <td>85.000000</td>\n",
       "      <td>NaN</td>\n",
       "      <td>NaN</td>\n",
       "      <td>NaN</td>\n",
       "      <td>48.000000</td>\n",
       "    </tr>\n",
       "    <tr>\n",
       "      <th>Örebro SK</th>\n",
       "      <td>NaN</td>\n",
       "      <td>60.750000</td>\n",
       "      <td>NaN</td>\n",
       "      <td>NaN</td>\n",
       "      <td>63.000000</td>\n",
       "      <td>33.666667</td>\n",
       "      <td>NaN</td>\n",
       "      <td>NaN</td>\n",
       "      <td>58.0</td>\n",
       "      <td>44.0</td>\n",
       "      <td>...</td>\n",
       "      <td>NaN</td>\n",
       "      <td>62.0</td>\n",
       "      <td>66.0</td>\n",
       "      <td>NaN</td>\n",
       "      <td>NaN</td>\n",
       "      <td>NaN</td>\n",
       "      <td>NaN</td>\n",
       "      <td>77.5</td>\n",
       "      <td>72.0</td>\n",
       "      <td>72.200000</td>\n",
       "    </tr>\n",
       "    <tr>\n",
       "      <th>Östersunds FK</th>\n",
       "      <td>67.0</td>\n",
       "      <td>76.000000</td>\n",
       "      <td>NaN</td>\n",
       "      <td>77.0</td>\n",
       "      <td>56.333333</td>\n",
       "      <td>32.666667</td>\n",
       "      <td>NaN</td>\n",
       "      <td>74.500000</td>\n",
       "      <td>53.0</td>\n",
       "      <td>62.0</td>\n",
       "      <td>...</td>\n",
       "      <td>54.000000</td>\n",
       "      <td>73.0</td>\n",
       "      <td>NaN</td>\n",
       "      <td>NaN</td>\n",
       "      <td>NaN</td>\n",
       "      <td>85.000000</td>\n",
       "      <td>NaN</td>\n",
       "      <td>67.0</td>\n",
       "      <td>NaN</td>\n",
       "      <td>52.000000</td>\n",
       "    </tr>\n",
       "    <tr>\n",
       "      <th>Śląsk Wrocław</th>\n",
       "      <td>NaN</td>\n",
       "      <td>62.000000</td>\n",
       "      <td>66.666667</td>\n",
       "      <td>NaN</td>\n",
       "      <td>72.000000</td>\n",
       "      <td>30.666667</td>\n",
       "      <td>NaN</td>\n",
       "      <td>78.500000</td>\n",
       "      <td>59.0</td>\n",
       "      <td>NaN</td>\n",
       "      <td>...</td>\n",
       "      <td>50.500000</td>\n",
       "      <td>58.0</td>\n",
       "      <td>NaN</td>\n",
       "      <td>69.0</td>\n",
       "      <td>NaN</td>\n",
       "      <td>68.000000</td>\n",
       "      <td>81.0</td>\n",
       "      <td>NaN</td>\n",
       "      <td>NaN</td>\n",
       "      <td>54.000000</td>\n",
       "    </tr>\n",
       "  </tbody>\n",
       "</table>\n",
       "<p>650 rows × 27 columns</p>\n",
       "</div>"
      ],
      "text/plain": [
       "Position                CAM         CB        CDM    CF         CM         GK  \\\n",
       "Club                                                                            \n",
       " SSV Jahn Regensburg    NaN  46.600000  82.000000   NaN  61.000000  33.000000   \n",
       "1. FC Heidenheim 1846  68.0  61.333333        NaN   NaN  68.000000  41.000000   \n",
       "1. FC Kaiserslautern    NaN  59.000000  65.666667   NaN        NaN  42.666667   \n",
       "1. FC Köln              NaN  60.000000  32.000000   NaN  68.500000  33.000000   \n",
       "1. FC Magdeburg         NaN  60.000000        NaN  64.0        NaN  39.333333   \n",
       "...                     ...        ...        ...   ...        ...        ...   \n",
       "Zagłębie Sosnowiec     73.0  46.500000  66.000000   NaN        NaN  39.000000   \n",
       "Çaykur Rizespor        74.0  58.000000  62.800000   NaN        NaN  47.000000   \n",
       "Örebro SK               NaN  60.750000        NaN   NaN  63.000000  33.666667   \n",
       "Östersunds FK          67.0  76.000000        NaN  77.0  56.333333  32.666667   \n",
       "Śląsk Wrocław           NaN  62.000000  66.666667   NaN  72.000000  30.666667   \n",
       "\n",
       "Position               LAM         LB   LCB   LCM  ...         RB   RCB   RCM  \\\n",
       "Club                                               ...                          \n",
       " SSV Jahn Regensburg   NaN  76.000000   NaN   NaN  ...  68.500000  57.0   NaN   \n",
       "1. FC Heidenheim 1846  NaN  60.000000  55.0   NaN  ...  80.500000  59.0   NaN   \n",
       "1. FC Kaiserslautern   NaN  68.000000  45.0   NaN  ...  71.500000   NaN   NaN   \n",
       "1. FC Köln             NaN        NaN   NaN   NaN  ...  70.000000   NaN   NaN   \n",
       "1. FC Magdeburg        NaN  69.000000  60.0  66.0  ...        NaN  68.0  71.0   \n",
       "...                    ...        ...   ...   ...  ...        ...   ...   ...   \n",
       "Zagłębie Sosnowiec     NaN  60.333333  61.0   NaN  ...  68.000000  58.0   NaN   \n",
       "Çaykur Rizespor        NaN  75.500000  63.0   NaN  ...  68.666667   NaN   NaN   \n",
       "Örebro SK              NaN        NaN  58.0  44.0  ...        NaN  62.0  66.0   \n",
       "Östersunds FK          NaN  74.500000  53.0  62.0  ...  54.000000  73.0   NaN   \n",
       "Śląsk Wrocław          NaN  78.500000  59.0   NaN  ...  50.500000  58.0   NaN   \n",
       "\n",
       "Position                RDM  RF         RM    RS    RW   RWB         ST  \n",
       "Club                                                                     \n",
       " SSV Jahn Regensburg   65.0 NaN        NaN   NaN   NaN   NaN  61.666667  \n",
       "1. FC Heidenheim 1846   NaN NaN  78.333333   NaN   NaN   NaN  69.000000  \n",
       "1. FC Kaiserslautern   55.0 NaN  82.500000  69.0   NaN   NaN  79.000000  \n",
       "1. FC Köln              NaN NaN  77.000000   NaN   NaN   NaN        NaN  \n",
       "1. FC Magdeburg         NaN NaN  76.000000  53.0  80.5   NaN  44.000000  \n",
       "...                     ...  ..        ...   ...   ...   ...        ...  \n",
       "Zagłębie Sosnowiec     62.0 NaN  71.000000   NaN   NaN   NaN  75.000000  \n",
       "Çaykur Rizespor        32.0 NaN  85.000000   NaN   NaN   NaN  48.000000  \n",
       "Örebro SK               NaN NaN        NaN   NaN  77.5  72.0  72.200000  \n",
       "Östersunds FK           NaN NaN  85.000000   NaN  67.0   NaN  52.000000  \n",
       "Śląsk Wrocław          69.0 NaN  68.000000  81.0   NaN   NaN  54.000000  \n",
       "\n",
       "[650 rows x 27 columns]"
      ]
     },
     "execution_count": 63,
     "metadata": {},
     "output_type": "execute_result"
    }
   ],
   "source": [
    "newpiv = data.pivot_table(values='SprintSpeed', index='Club', columns='Position', aggfunc='mean')\n",
    "newpiv"
   ]
  },
  {
   "cell_type": "code",
   "execution_count": 64,
   "id": "fe2e7590-25fc-4669-8155-aaf612c3517b",
   "metadata": {},
   "outputs": [
    {
     "data": {
      "text/plain": [
       "Position\n",
       "LAM    76.333333\n",
       "RF     76.333333\n",
       "LF     75.875000\n",
       "Name: SprintSpeed, dtype: float64"
      ]
     },
     "execution_count": 64,
     "metadata": {},
     "output_type": "execute_result"
    }
   ],
   "source": [
    "data.groupby('Position')['SprintSpeed'].mean().sort_values(ascending=False).head(3)"
   ]
  },
  {
   "cell_type": "code",
   "execution_count": 68,
   "id": "cc530be3-6ea2-4018-94a9-92815eea7939",
   "metadata": {},
   "outputs": [
    {
     "data": {
      "text/plain": [
       "Club\n",
       "Vitória      91.0\n",
       "Sydney FC    88.0\n",
       "CD Lugo      87.0\n",
       "Name: ST, dtype: float64"
      ]
     },
     "execution_count": 68,
     "metadata": {},
     "output_type": "execute_result"
    }
   ],
   "source": [
    "newpiv.ST.sort_values(ascending=False).head(3)\n"
   ]
  },
  {
   "cell_type": "code",
   "execution_count": null,
   "id": "57a69515-880f-435d-ab87-a9d9614f6863",
   "metadata": {},
   "outputs": [],
   "source": []
  },
  {
   "cell_type": "code",
   "execution_count": null,
   "id": "8becd1c4-d56d-49b5-a082-0e235cea6d5a",
   "metadata": {},
   "outputs": [],
   "source": []
  },
  {
   "cell_type": "code",
   "execution_count": null,
   "id": "3c22818d-846e-4cec-8025-39545cf98081",
   "metadata": {},
   "outputs": [],
   "source": []
  },
  {
   "cell_type": "code",
   "execution_count": null,
   "id": "bc02ee11-486d-46b5-810a-432445a37167",
   "metadata": {},
   "outputs": [],
   "source": []
  },
  {
   "cell_type": "code",
   "execution_count": null,
   "id": "bb39bc71-4648-4caf-b0e5-cf137cfda9a4",
   "metadata": {},
   "outputs": [],
   "source": []
  },
  {
   "cell_type": "code",
   "execution_count": null,
   "id": "3b2ea061-cdf2-4d74-9eca-7022c9649ad6",
   "metadata": {},
   "outputs": [],
   "source": []
  },
  {
   "cell_type": "code",
   "execution_count": null,
   "id": "8762f575-5778-4207-b021-9c1b36bafc6c",
   "metadata": {},
   "outputs": [],
   "source": []
  },
  {
   "cell_type": "code",
   "execution_count": null,
   "id": "4fe79e05-68b1-442b-85d2-a793426e3825",
   "metadata": {},
   "outputs": [],
   "source": []
  },
  {
   "cell_type": "code",
   "execution_count": null,
   "id": "f580e597-5463-4730-b3b5-d32bfb0806d3",
   "metadata": {},
   "outputs": [],
   "source": []
  },
  {
   "cell_type": "code",
   "execution_count": null,
   "id": "56a09b2f-59ee-40a9-80be-262403501694",
   "metadata": {},
   "outputs": [],
   "source": []
  },
  {
   "cell_type": "code",
   "execution_count": null,
   "id": "0d15f19d-f574-4d85-886f-f78f0219d4a0",
   "metadata": {},
   "outputs": [],
   "source": []
  },
  {
   "cell_type": "code",
   "execution_count": null,
   "id": "7f7aee6d-377d-44a0-b1a8-2b7fa92ed3a6",
   "metadata": {},
   "outputs": [],
   "source": []
  },
  {
   "cell_type": "code",
   "execution_count": null,
   "id": "ae323dfd-9f2c-48e1-9580-ac350a9f1eef",
   "metadata": {},
   "outputs": [],
   "source": []
  },
  {
   "cell_type": "code",
   "execution_count": 3,
   "id": "d407deb5-a1c4-49a1-9bfc-c4eaa7413d67",
   "metadata": {},
   "outputs": [
    {
     "data": {
      "text/html": [
       "<div>\n",
       "<style scoped>\n",
       "    .dataframe tbody tr th:only-of-type {\n",
       "        vertical-align: middle;\n",
       "    }\n",
       "\n",
       "    .dataframe tbody tr th {\n",
       "        vertical-align: top;\n",
       "    }\n",
       "\n",
       "    .dataframe thead th {\n",
       "        text-align: right;\n",
       "    }\n",
       "</style>\n",
       "<table border=\"1\" class=\"dataframe\">\n",
       "  <thead>\n",
       "    <tr style=\"text-align: right;\">\n",
       "      <th></th>\n",
       "      <th>Unnamed: 0</th>\n",
       "      <th>Name</th>\n",
       "      <th>Age</th>\n",
       "      <th>Nationality</th>\n",
       "      <th>Club</th>\n",
       "      <th>Value</th>\n",
       "      <th>Wage</th>\n",
       "      <th>Position</th>\n",
       "      <th>Crossing</th>\n",
       "      <th>Finishing</th>\n",
       "      <th>...</th>\n",
       "      <th>Penalties</th>\n",
       "      <th>Composure</th>\n",
       "      <th>Marking</th>\n",
       "      <th>StandingTackle</th>\n",
       "      <th>SlidingTackle</th>\n",
       "      <th>GKDiving</th>\n",
       "      <th>GKHandling</th>\n",
       "      <th>GKKicking</th>\n",
       "      <th>GKPositioning</th>\n",
       "      <th>GKReflexes</th>\n",
       "    </tr>\n",
       "  </thead>\n",
       "  <tbody>\n",
       "    <tr>\n",
       "      <th>12894</th>\n",
       "      <td>13123</td>\n",
       "      <td>B. Worman</td>\n",
       "      <td>16</td>\n",
       "      <td>England</td>\n",
       "      <td>Cambridge United</td>\n",
       "      <td>60000</td>\n",
       "      <td>1000</td>\n",
       "      <td>ST</td>\n",
       "      <td>25</td>\n",
       "      <td>40</td>\n",
       "      <td>...</td>\n",
       "      <td>55</td>\n",
       "      <td>41</td>\n",
       "      <td>32</td>\n",
       "      <td>13</td>\n",
       "      <td>11</td>\n",
       "      <td>6</td>\n",
       "      <td>5</td>\n",
       "      <td>10</td>\n",
       "      <td>6</td>\n",
       "      <td>13</td>\n",
       "    </tr>\n",
       "    <tr>\n",
       "      <th>12895</th>\n",
       "      <td>13124</td>\n",
       "      <td>D. Walker-Rice</td>\n",
       "      <td>17</td>\n",
       "      <td>England</td>\n",
       "      <td>Tranmere Rovers</td>\n",
       "      <td>60000</td>\n",
       "      <td>1000</td>\n",
       "      <td>RW</td>\n",
       "      <td>44</td>\n",
       "      <td>50</td>\n",
       "      <td>...</td>\n",
       "      <td>50</td>\n",
       "      <td>46</td>\n",
       "      <td>20</td>\n",
       "      <td>25</td>\n",
       "      <td>27</td>\n",
       "      <td>14</td>\n",
       "      <td>6</td>\n",
       "      <td>14</td>\n",
       "      <td>8</td>\n",
       "      <td>9</td>\n",
       "    </tr>\n",
       "    <tr>\n",
       "      <th>12896</th>\n",
       "      <td>13125</td>\n",
       "      <td>G. Nugent</td>\n",
       "      <td>16</td>\n",
       "      <td>England</td>\n",
       "      <td>Tranmere Rovers</td>\n",
       "      <td>60000</td>\n",
       "      <td>1000</td>\n",
       "      <td>CM</td>\n",
       "      <td>41</td>\n",
       "      <td>34</td>\n",
       "      <td>...</td>\n",
       "      <td>33</td>\n",
       "      <td>43</td>\n",
       "      <td>40</td>\n",
       "      <td>43</td>\n",
       "      <td>50</td>\n",
       "      <td>10</td>\n",
       "      <td>15</td>\n",
       "      <td>9</td>\n",
       "      <td>12</td>\n",
       "      <td>9</td>\n",
       "    </tr>\n",
       "  </tbody>\n",
       "</table>\n",
       "<p>3 rows × 42 columns</p>\n",
       "</div>"
      ],
      "text/plain": [
       "       Unnamed: 0            Name  Age Nationality              Club  Value  \\\n",
       "12894       13123       B. Worman   16     England  Cambridge United  60000   \n",
       "12895       13124  D. Walker-Rice   17     England   Tranmere Rovers  60000   \n",
       "12896       13125       G. Nugent   16     England   Tranmere Rovers  60000   \n",
       "\n",
       "       Wage Position  Crossing  Finishing  ...  Penalties  Composure  Marking  \\\n",
       "12894  1000       ST        25         40  ...         55         41       32   \n",
       "12895  1000       RW        44         50  ...         50         46       20   \n",
       "12896  1000       CM        41         34  ...         33         43       40   \n",
       "\n",
       "       StandingTackle  SlidingTackle  GKDiving  GKHandling  GKKicking  \\\n",
       "12894              13             11         6           5         10   \n",
       "12895              25             27        14           6         14   \n",
       "12896              43             50        10          15          9   \n",
       "\n",
       "       GKPositioning  GKReflexes  \n",
       "12894              6          13  \n",
       "12895              8           9  \n",
       "12896             12           9  \n",
       "\n",
       "[3 rows x 42 columns]"
      ]
     },
     "execution_count": 3,
     "metadata": {},
     "output_type": "execute_result"
    }
   ],
   "source": [
    "data.tail(3)"
   ]
  },
  {
   "cell_type": "code",
   "execution_count": 4,
   "id": "f33ba9ce-e5e1-4f26-b300-34916d76205b",
   "metadata": {},
   "outputs": [
    {
     "data": {
      "text/plain": [
       "67.56638061585058"
      ]
     },
     "execution_count": 4,
     "metadata": {},
     "output_type": "execute_result"
    }
   ],
   "source": [
    "(data[data.Wage>data.Wage.mean()].SprintSpeed).mean()"
   ]
  },
  {
   "cell_type": "code",
   "execution_count": 5,
   "id": "703b8bff-d21c-45da-8ba2-66e1cf188032",
   "metadata": {},
   "outputs": [
    {
     "data": {
      "text/plain": [
       "62.41425430560645"
      ]
     },
     "execution_count": 5,
     "metadata": {},
     "output_type": "execute_result"
    }
   ],
   "source": [
    "(data[data.Wage<data.Wage.mean()].SprintSpeed).mean()"
   ]
  },
  {
   "cell_type": "code",
   "execution_count": 6,
   "id": "62d00b6d-c10b-49d1-9b1e-d5f3665eebf0",
   "metadata": {},
   "outputs": [
    {
     "data": {
      "text/plain": [
       "0    RF\n",
       "Name: Position, dtype: object"
      ]
     },
     "execution_count": 6,
     "metadata": {},
     "output_type": "execute_result"
    }
   ],
   "source": [
    "data[data.Wage == data.Wage.max()].Position"
   ]
  },
  {
   "cell_type": "code",
   "execution_count": 7,
   "id": "bd9e8ab5-e262-4deb-ac74-3ca8fea5da77",
   "metadata": {},
   "outputs": [
    {
     "data": {
      "text/plain": [
       "22789"
      ]
     },
     "execution_count": 7,
     "metadata": {},
     "output_type": "execute_result"
    }
   ],
   "source": [
    "data[data.Nationality == \"Brazil\"].Penalties.sum()"
   ]
  },
  {
   "cell_type": "code",
   "execution_count": 8,
   "id": "71369597-c3ec-457d-adec-7d1990bcda38",
   "metadata": {},
   "outputs": [
    {
     "data": {
      "text/plain": [
       "25.58771113179944"
      ]
     },
     "execution_count": 8,
     "metadata": {},
     "output_type": "execute_result"
    }
   ],
   "source": [
    "data[data.HeadingAccuracy>50].Age.mean()"
   ]
  },
  {
   "cell_type": "code",
   "execution_count": 9,
   "id": "d80af527-130d-470a-8937-8a672f720010",
   "metadata": {},
   "outputs": [
    {
     "data": {
      "text/plain": [
       "24"
      ]
     },
     "execution_count": 9,
     "metadata": {},
     "output_type": "execute_result"
    }
   ],
   "source": [
    "data[(data['Composure'] > data.Composure.max()*0.9) & (data['Reactions'] > data.Reactions.max()*0.9)]['Age'].min()"
   ]
  },
  {
   "cell_type": "code",
   "execution_count": 10,
   "id": "62599a05-6f18-4838-ab68-635ecc123d10",
   "metadata": {},
   "outputs": [
    {
     "data": {
      "text/plain": [
       "22.642857142857146"
      ]
     },
     "execution_count": 10,
     "metadata": {},
     "output_type": "execute_result"
    }
   ],
   "source": [
    "data[data['Age'] == data['Age'].max()]['Reactions'].mean() - data[data['Age'] == data['Age'].min()]['Reactions'].mean()"
   ]
  },
  {
   "cell_type": "code",
   "execution_count": 11,
   "id": "c3dadc6e-765e-420c-8ca1-7bbc0c6e2411",
   "metadata": {},
   "outputs": [
    {
     "data": {
      "text/plain": [
       "'Spain'"
      ]
     },
     "execution_count": 11,
     "metadata": {},
     "output_type": "execute_result"
    }
   ],
   "source": [
    "data[data.Value>data.Value.mean()].Nationality.value_counts().idxmax()"
   ]
  },
  {
   "cell_type": "code",
   "execution_count": 12,
   "id": "ac1bbd11-7c94-4f49-8eb0-730fab8b97e3",
   "metadata": {},
   "outputs": [
    {
     "data": {
      "text/plain": [
       "2.765957446808511"
      ]
     },
     "execution_count": 12,
     "metadata": {},
     "output_type": "execute_result"
    }
   ],
   "source": [
    "data[data['Position'] == 'GK'].loc[data['GKReflexes'].idxmax()]['Wage'] / data[data['Position'] == 'GK'].loc[data['GKHandling'].idxmax()]['Wage']"
   ]
  },
  {
   "cell_type": "code",
   "execution_count": null,
   "id": "e9aee555-3a72-40cf-ac8d-c90e092e622c",
   "metadata": {},
   "outputs": [],
   "source": []
  },
  {
   "cell_type": "code",
   "execution_count": 13,
   "id": "442bec17-de4c-4a07-a9aa-da7a12146fe8",
   "metadata": {},
   "outputs": [
    {
     "data": {
      "text/plain": [
       "2.076923076923077"
      ]
     },
     "execution_count": 13,
     "metadata": {},
     "output_type": "execute_result"
    }
   ],
   "source": [
    "data[data['Aggression'] == data['Aggression'].max()]['ShotPower'].mean() / data[data['Aggression'] == data['Aggression'].min()]['ShotPower'].mean()"
   ]
  },
  {
   "cell_type": "code",
   "execution_count": null,
   "id": "9daa3dd5-9966-4939-a703-eb1c8d5786c3",
   "metadata": {},
   "outputs": [],
   "source": []
  },
  {
   "cell_type": "code",
   "execution_count": null,
   "id": "64b23178-bce4-4a2b-a232-7de31c4d6c05",
   "metadata": {},
   "outputs": [],
   "source": []
  },
  {
   "cell_type": "markdown",
   "id": "ede29960-8bd7-4da1-96f3-378e9e6d06a8",
   "metadata": {},
   "source": [
    "#lab3"
   ]
  },
  {
   "cell_type": "code",
   "execution_count": 29,
   "id": "17c61718-1007-4d5a-b4fd-d8aa342ab6ee",
   "metadata": {},
   "outputs": [
    {
     "data": {
      "text/plain": [
       "650"
      ]
     },
     "execution_count": 29,
     "metadata": {},
     "output_type": "execute_result"
    }
   ],
   "source": [
    "data.Club.nunique()"
   ]
  },
  {
   "cell_type": "code",
   "execution_count": 37,
   "id": "acaa8601-20ff-4890-b958-a2906b01897d",
   "metadata": {},
   "outputs": [
    {
     "data": {
      "text/plain": [
       "Club\n",
       "V-Varen Nagasaki    30\n",
       "Shonan Bellmare     30\n",
       "Vissel Kobe         29\n",
       "FC Emmen            29\n",
       "Padova              29\n",
       "Name: count, dtype: int64"
      ]
     },
     "execution_count": 37,
     "metadata": {},
     "output_type": "execute_result"
    }
   ],
   "source": [
    "data.Club.value_counts().head()"
   ]
  },
  {
   "cell_type": "code",
   "execution_count": 38,
   "id": "da30e8ad-1750-4f76-b6c3-5284454fc13e",
   "metadata": {},
   "outputs": [
    {
     "data": {
      "text/plain": [
       "Club\n",
       "Dijon FCO            8\n",
       "Vitória Guimarães    7\n",
       "GD Chaves            7\n",
       "Dinamo Zagreb        7\n",
       "Atlético Mineiro     6\n",
       "Name: count, dtype: int64"
      ]
     },
     "execution_count": 38,
     "metadata": {},
     "output_type": "execute_result"
    }
   ],
   "source": [
    "data.Club.value_counts().tail()"
   ]
  },
  {
   "cell_type": "code",
   "execution_count": 44,
   "id": "edf360b6-90ab-4b08-8876-e4daf2d1f79d",
   "metadata": {},
   "outputs": [
    {
     "data": {
      "text/plain": [
       "Position\n",
       "GK    1641\n",
       "ST    1512\n",
       "CB    1403\n",
       "Name: count, dtype: int64"
      ]
     },
     "execution_count": 44,
     "metadata": {},
     "output_type": "execute_result"
    }
   ],
   "source": [
    "\n",
    "position_counts = data['Position'].value_counts()\n",
    "\n",
    "threshold = len(data) * 0.1\n",
    "\n",
    "popular_positions = position_counts[position_counts > threshold]\n",
    "popular_positions\n"
   ]
  },
  {
   "cell_type": "code",
   "execution_count": 47,
   "id": "9152ee77-a84c-43bd-9c15-8240c2a36478",
   "metadata": {},
   "outputs": [
    {
     "data": {
      "text/plain": [
       "Position\n",
       "GK     0.127239\n",
       "ST     0.117237\n",
       "CB     0.108785\n",
       "CM     0.082732\n",
       "LB     0.077692\n",
       "RB     0.073505\n",
       "RM     0.059394\n",
       "LM     0.056447\n",
       "CDM    0.053578\n",
       "CAM    0.049081\n",
       "RCB    0.032411\n",
       "LCB    0.031713\n",
       "LW     0.018764\n",
       "RCM    0.018609\n",
       "RW     0.018376\n",
       "LCM    0.018066\n",
       "LDM    0.011476\n",
       "RDM    0.010700\n",
       "LS     0.009382\n",
       "RS     0.008839\n",
       "RWB    0.005428\n",
       "LWB    0.004652\n",
       "CF     0.003954\n",
       "LF     0.000620\n",
       "LAM    0.000465\n",
       "RF     0.000465\n",
       "RAM    0.000388\n",
       "Name: proportion, dtype: float64"
      ]
     },
     "execution_count": 47,
     "metadata": {},
     "output_type": "execute_result"
    }
   ],
   "source": [
    "data.Position.value_counts(normalize=True)"
   ]
  },
  {
   "cell_type": "code",
   "execution_count": 51,
   "id": "6f536278-1cf9-4661-985e-e158346e0d41",
   "metadata": {},
   "outputs": [
    {
     "data": {
      "text/plain": [
       "Position\n",
       "GK    12.723889\n",
       "ST    11.723657\n",
       "CB    10.878499\n",
       "Name: proportion, dtype: float64"
      ]
     },
     "execution_count": 51,
     "metadata": {},
     "output_type": "execute_result"
    }
   ],
   "source": [
    "position_counts = data['Position'].value_counts(normalize=True) * 100\n",
    "position_counts[position_counts > 10]\n",
    "\n"
   ]
  },
  {
   "cell_type": "code",
   "execution_count": 55,
   "id": "c1090997-0741-4019-bfed-d9b716f031ab",
   "metadata": {},
   "outputs": [
    {
     "data": {
      "text/plain": [
       "array(['Spain', 'France', 'Belgium', 'Chile', 'Serbia', 'England',\n",
       "       'Ivory Coast', 'Ecuador', 'Argentina', 'Brazil', 'Italy',\n",
       "       'Scotland', 'Wales'], dtype=object)"
      ]
     },
     "execution_count": 55,
     "metadata": {},
     "output_type": "execute_result"
    }
   ],
   "source": [
    "data[data.Club==\"Manchester United\"].Nationality.unique()"
   ]
  },
  {
   "cell_type": "code",
   "execution_count": 57,
   "id": "7d933cb1-a1b4-48b3-9cda-5f02133b4a14",
   "metadata": {},
   "outputs": [
    {
     "data": {
      "text/html": [
       "<div>\n",
       "<style scoped>\n",
       "    .dataframe tbody tr th:only-of-type {\n",
       "        vertical-align: middle;\n",
       "    }\n",
       "\n",
       "    .dataframe tbody tr th {\n",
       "        vertical-align: top;\n",
       "    }\n",
       "\n",
       "    .dataframe thead th {\n",
       "        text-align: right;\n",
       "    }\n",
       "</style>\n",
       "<table border=\"1\" class=\"dataframe\">\n",
       "  <thead>\n",
       "    <tr style=\"text-align: right;\">\n",
       "      <th></th>\n",
       "      <th>Unnamed: 0</th>\n",
       "      <th>Name</th>\n",
       "      <th>Age</th>\n",
       "      <th>Nationality</th>\n",
       "      <th>Club</th>\n",
       "      <th>Value</th>\n",
       "      <th>Wage</th>\n",
       "      <th>Position</th>\n",
       "      <th>Crossing</th>\n",
       "      <th>Finishing</th>\n",
       "      <th>...</th>\n",
       "      <th>Penalties</th>\n",
       "      <th>Composure</th>\n",
       "      <th>Marking</th>\n",
       "      <th>StandingTackle</th>\n",
       "      <th>SlidingTackle</th>\n",
       "      <th>GKDiving</th>\n",
       "      <th>GKHandling</th>\n",
       "      <th>GKKicking</th>\n",
       "      <th>GKPositioning</th>\n",
       "      <th>GKReflexes</th>\n",
       "    </tr>\n",
       "  </thead>\n",
       "  <tbody>\n",
       "    <tr>\n",
       "      <th>64</th>\n",
       "      <td>64</td>\n",
       "      <td>Alex Sandro</td>\n",
       "      <td>27</td>\n",
       "      <td>Brazil</td>\n",
       "      <td>Juventus</td>\n",
       "      <td>36500000</td>\n",
       "      <td>160000</td>\n",
       "      <td>LB</td>\n",
       "      <td>84</td>\n",
       "      <td>55</td>\n",
       "      <td>...</td>\n",
       "      <td>60</td>\n",
       "      <td>82</td>\n",
       "      <td>81</td>\n",
       "      <td>84</td>\n",
       "      <td>84</td>\n",
       "      <td>7</td>\n",
       "      <td>7</td>\n",
       "      <td>9</td>\n",
       "      <td>12</td>\n",
       "      <td>5</td>\n",
       "    </tr>\n",
       "    <tr>\n",
       "      <th>65</th>\n",
       "      <td>65</td>\n",
       "      <td>Douglas Costa</td>\n",
       "      <td>27</td>\n",
       "      <td>Brazil</td>\n",
       "      <td>Juventus</td>\n",
       "      <td>46500000</td>\n",
       "      <td>175000</td>\n",
       "      <td>LM</td>\n",
       "      <td>84</td>\n",
       "      <td>67</td>\n",
       "      <td>...</td>\n",
       "      <td>77</td>\n",
       "      <td>84</td>\n",
       "      <td>45</td>\n",
       "      <td>38</td>\n",
       "      <td>34</td>\n",
       "      <td>13</td>\n",
       "      <td>15</td>\n",
       "      <td>9</td>\n",
       "      <td>12</td>\n",
       "      <td>5</td>\n",
       "    </tr>\n",
       "  </tbody>\n",
       "</table>\n",
       "<p>2 rows × 42 columns</p>\n",
       "</div>"
      ],
      "text/plain": [
       "    Unnamed: 0           Name  Age Nationality      Club     Value    Wage  \\\n",
       "64          64    Alex Sandro   27      Brazil  Juventus  36500000  160000   \n",
       "65          65  Douglas Costa   27      Brazil  Juventus  46500000  175000   \n",
       "\n",
       "   Position  Crossing  Finishing  ...  Penalties  Composure  Marking  \\\n",
       "64       LB        84         55  ...         60         82       81   \n",
       "65       LM        84         67  ...         77         84       45   \n",
       "\n",
       "    StandingTackle  SlidingTackle  GKDiving  GKHandling  GKKicking  \\\n",
       "64              84             84         7           7          9   \n",
       "65              38             34        13          15          9   \n",
       "\n",
       "    GKPositioning  GKReflexes  \n",
       "64             12           5  \n",
       "65             12           5  \n",
       "\n",
       "[2 rows x 42 columns]"
      ]
     },
     "execution_count": 57,
     "metadata": {},
     "output_type": "execute_result"
    }
   ],
   "source": [
    "data[(data.Club==\"Juventus\") & (data.Nationality==\"Brazil\")]"
   ]
  },
  {
   "cell_type": "code",
   "execution_count": 60,
   "id": "fcf9a895-fe56-4624-ba3f-b10614659185",
   "metadata": {},
   "outputs": [
    {
     "data": {
      "text/plain": [
       "Club\n",
       "Hokkaido Consadole Sapporo    4\n",
       "Club Atlético Huracán         4\n",
       "Morecambe                     3\n",
       "Club Atlético Tigre           3\n",
       "San Martín de San Juan        3\n",
       "                             ..\n",
       "Colo-Colo                     1\n",
       "Real Valladolid CF            1\n",
       "Pescara                       1\n",
       "Houston Dynamo                1\n",
       "Dalian YiFang FC              1\n",
       "Name: count, Length: 212, dtype: int64"
      ]
     },
     "execution_count": 60,
     "metadata": {},
     "output_type": "execute_result"
    }
   ],
   "source": [
    "data[data.Age>35].Club.value_counts()"
   ]
  },
  {
   "cell_type": "code",
   "execution_count": 68,
   "id": "084858d6-3938-4a80-8b10-b0970ff74de7",
   "metadata": {},
   "outputs": [
    {
     "data": {
      "text/plain": [
       "(22.25, 28.5]      200\n",
       "(15.974, 22.25]    197\n",
       "(28.5, 34.75]      128\n",
       "(34.75, 41.0]       49\n",
       "Name: count, dtype: int64"
      ]
     },
     "execution_count": 68,
     "metadata": {},
     "output_type": "execute_result"
    }
   ],
   "source": [
    "age_bins = data[data.Nationality==\"Argentina\"]['Age'].value_counts(bins=4)\n",
    "\n",
    "age_bins\n"
   ]
  },
  {
   "cell_type": "code",
   "execution_count": 87,
   "id": "1687e8e9-f478-4b43-b5c0-679a79bf6011",
   "metadata": {},
   "outputs": [
    {
     "data": {
      "text/plain": [
       "671"
      ]
     },
     "execution_count": 87,
     "metadata": {},
     "output_type": "execute_result"
    }
   ],
   "source": [
    "len(data[data.Nationality==\"Spain\"].Age)"
   ]
  },
  {
   "cell_type": "code",
   "execution_count": 90,
   "id": "a1e42d3e-a505-451a-a906-535e5f813de5",
   "metadata": {},
   "outputs": [
    {
     "data": {
      "text/plain": [
       "671"
      ]
     },
     "execution_count": 90,
     "metadata": {},
     "output_type": "execute_result"
    }
   ],
   "source": [
    "len(data[data.Nationality==\"Spain\"]['Age']>21)"
   ]
  },
  {
   "cell_type": "code",
   "execution_count": 97,
   "id": "8befc3cb-e4fa-479a-b026-02039f492ddf",
   "metadata": {},
   "outputs": [
    {
     "data": {
      "text/plain": [
       "11.773472429210134"
      ]
     },
     "execution_count": 97,
     "metadata": {},
     "output_type": "execute_result"
    }
   ],
   "source": [
    "(len(data[(data.Nationality == \"Spain\") & (data['Age'] == 21)])/len(data[data.Nationality == \"Spain\"]))*100\n"
   ]
  },
  {
   "cell_type": "code",
   "execution_count": 104,
   "id": "27ee9298-6a49-43d1-a091-0285aa6ce310",
   "metadata": {},
   "outputs": [
    {
     "data": {
      "text/plain": [
       "array(['ST', 'GK', 'CB', 'CAM', 'RM', 'LM', 'LB', 'CM', 'RB'],\n",
       "      dtype=object)"
      ]
     },
     "execution_count": 104,
     "metadata": {},
     "output_type": "execute_result"
    }
   ],
   "source": [
    "result = data.groupby('Position').filter(lambda x: x['Wage'].sum() > 5000000)\n",
    "positions = result['Position'].unique()\n",
    "positions"
   ]
  },
  {
   "cell_type": "code",
   "execution_count": 114,
   "id": "3f4032d8-6572-423f-b8d2-b329f4ccb32b",
   "metadata": {},
   "outputs": [
    {
     "name": "stdout",
     "output_type": "stream",
     "text": [
      "   Position           Wage         Value\n",
      "0       CAM    8688.783570  2.963199e+06\n",
      "1        CB    5328.581611  1.321251e+06\n",
      "2       CDM    7121.562952  1.658900e+06\n",
      "3        CF    4862.745098  1.848627e+06\n",
      "4        CM    5805.060918  1.617465e+06\n",
      "5        GK    5352.833638  1.502502e+06\n",
      "6       LAM   61000.000000  1.324583e+07\n",
      "7        LB    6083.832335  1.429032e+06\n",
      "8       LCB    9753.056235  2.636516e+06\n",
      "9       LCM   13497.854077  4.318090e+06\n",
      "10      LDM   10243.243243  3.369459e+06\n",
      "11       LF   75125.000000  2.736250e+07\n",
      "12       LM    7472.527473  2.466174e+06\n",
      "13       LS   15421.487603  5.848430e+06\n",
      "14       LW   12169.421488  3.603099e+06\n",
      "15      LWB    5783.333333  1.931333e+06\n",
      "16      RAM   11800.000000  8.345000e+06\n",
      "17       RB    5310.126582  1.248940e+06\n",
      "18      RCB   11270.334928  3.009055e+06\n",
      "19      RCM   13504.166667  4.217604e+06\n",
      "20      RDM   11282.608696  2.692717e+06\n",
      "21       RF  119000.000000  2.636583e+07\n",
      "22       RM    6655.352480  2.138734e+06\n",
      "23       RS   13482.456140  3.645833e+06\n",
      "24       RW   13822.784810  3.495738e+06\n",
      "25      RWB    6000.000000  1.555571e+06\n",
      "26       ST    7852.513228  2.157252e+06\n",
      "Позиция с самой высокой средней ценностью: Position            LF\n",
      "Wage           75125.0\n",
      "Value       27362500.0\n",
      "Name: 11, dtype: object\n"
     ]
    }
   ],
   "source": [
    "average_stats = data.groupby('Position').agg({'Wage': 'mean', 'Value': 'mean'}).reset_index()\n",
    "\n",
    "highest_value_position = average_stats.loc[average_stats['Value'].idxmax()]\n",
    "\n",
    "print(average_stats)\n",
    "print(\"Позиция с самой высокой средней ценностью:\", highest_value_position)\n"
   ]
  },
  {
   "cell_type": "code",
   "execution_count": 112,
   "id": "9c0c6d63-6f15-42bd-989f-c18087d61edb",
   "metadata": {},
   "outputs": [
    {
     "data": {
      "text/plain": [
       "8688.783570300158"
      ]
     },
     "execution_count": 112,
     "metadata": {},
     "output_type": "execute_result"
    }
   ],
   "source": [
    "average_wage = data[data['Position'] == \"CAM\"]['Wage'].mean()\n",
    "average_wage\n"
   ]
  },
  {
   "cell_type": "code",
   "execution_count": null,
   "id": "138ae728-d02c-42a6-81fb-49338e4fc0a5",
   "metadata": {},
   "outputs": [],
   "source": []
  },
  {
   "cell_type": "code",
   "execution_count": null,
   "id": "11c9c82c-0033-47a9-a710-537502544968",
   "metadata": {},
   "outputs": [],
   "source": []
  },
  {
   "cell_type": "code",
   "execution_count": null,
   "id": "fd31bd89-5111-44fc-81f7-29aa9b37f0d7",
   "metadata": {},
   "outputs": [],
   "source": []
  },
  {
   "cell_type": "code",
   "execution_count": null,
   "id": "4306b861-9aba-495e-ba86-85a806881c72",
   "metadata": {},
   "outputs": [],
   "source": []
  },
  {
   "cell_type": "code",
   "execution_count": null,
   "id": "6edbaf4c-5680-4b90-99f8-4eb70c8cb15a",
   "metadata": {},
   "outputs": [],
   "source": []
  },
  {
   "cell_type": "code",
   "execution_count": null,
   "id": "06b04413-7fe9-4519-8860-ce086fd77c47",
   "metadata": {},
   "outputs": [],
   "source": []
  },
  {
   "cell_type": "code",
   "execution_count": null,
   "id": "94eafbe5-298b-4e6b-a7b3-c2849b7fad2c",
   "metadata": {},
   "outputs": [],
   "source": []
  },
  {
   "cell_type": "code",
   "execution_count": null,
   "id": "f85c3acb-a95a-4955-ac85-262a1b65310a",
   "metadata": {},
   "outputs": [],
   "source": []
  },
  {
   "cell_type": "code",
   "execution_count": null,
   "id": "5c52a3a9-877a-442f-b0d3-89dc3c623c00",
   "metadata": {},
   "outputs": [],
   "source": []
  },
  {
   "cell_type": "code",
   "execution_count": null,
   "id": "3cfc3586-fcb5-4da7-8b57-45689f21bcfe",
   "metadata": {},
   "outputs": [],
   "source": []
  },
  {
   "cell_type": "code",
   "execution_count": null,
   "id": "e70f7023-f116-4101-8862-0c76496839c3",
   "metadata": {},
   "outputs": [],
   "source": []
  },
  {
   "cell_type": "code",
   "execution_count": null,
   "id": "7d48c76d-34b1-4b07-86d3-3a3fcc08869a",
   "metadata": {},
   "outputs": [],
   "source": []
  },
  {
   "cell_type": "code",
   "execution_count": null,
   "id": "e1fd439a-ce9e-423d-a8ef-fc3b4fb754b9",
   "metadata": {},
   "outputs": [],
   "source": []
  },
  {
   "cell_type": "code",
   "execution_count": null,
   "id": "693acdf8-f944-494a-8dc9-0c0b7946a4fe",
   "metadata": {},
   "outputs": [],
   "source": []
  },
  {
   "cell_type": "code",
   "execution_count": null,
   "id": "f446a2a2-deb4-42d7-b526-99f941b8708b",
   "metadata": {},
   "outputs": [],
   "source": []
  },
  {
   "cell_type": "code",
   "execution_count": null,
   "id": "834eda9b-29ea-4482-abc0-8791185058d8",
   "metadata": {},
   "outputs": [],
   "source": []
  },
  {
   "cell_type": "code",
   "execution_count": null,
   "id": "f9d7e7ac-dd20-4f3c-9e88-2b328ff44c0b",
   "metadata": {},
   "outputs": [],
   "source": []
  },
  {
   "cell_type": "code",
   "execution_count": null,
   "id": "57aa72d9-87d1-4ae5-ba60-9db211b35bf7",
   "metadata": {},
   "outputs": [],
   "source": []
  },
  {
   "cell_type": "code",
   "execution_count": null,
   "id": "57173b10-fc42-4b82-b2b5-edd84cf332bb",
   "metadata": {},
   "outputs": [],
   "source": []
  },
  {
   "cell_type": "code",
   "execution_count": null,
   "id": "485edd9c-ea85-42c6-8b25-433f2357a3ee",
   "metadata": {},
   "outputs": [],
   "source": []
  },
  {
   "cell_type": "code",
   "execution_count": null,
   "id": "fd342fe4-14eb-4a87-9b3a-0c8643e450de",
   "metadata": {},
   "outputs": [],
   "source": []
  },
  {
   "cell_type": "code",
   "execution_count": null,
   "id": "07dc17bb-0e9e-4860-b972-9e90bda4d5d4",
   "metadata": {},
   "outputs": [],
   "source": []
  },
  {
   "cell_type": "code",
   "execution_count": null,
   "id": "acc6a6f7-ee7e-48ee-9c44-1ad123404481",
   "metadata": {},
   "outputs": [],
   "source": []
  },
  {
   "cell_type": "code",
   "execution_count": null,
   "id": "cfe5a951-dcf4-4e17-a1d5-ba0f4c540cc4",
   "metadata": {},
   "outputs": [],
   "source": []
  },
  {
   "cell_type": "code",
   "execution_count": null,
   "id": "c148c576-0fb4-457e-9624-b7bbc627f681",
   "metadata": {},
   "outputs": [],
   "source": []
  },
  {
   "cell_type": "code",
   "execution_count": null,
   "id": "4c8608a7-0e9f-411d-afdb-f363e4cbaa73",
   "metadata": {},
   "outputs": [],
   "source": []
  },
  {
   "cell_type": "code",
   "execution_count": null,
   "id": "9402c0e9-0b7e-4eaa-add1-b8c59f0aafdc",
   "metadata": {},
   "outputs": [],
   "source": []
  },
  {
   "cell_type": "code",
   "execution_count": null,
   "id": "29af6be8-f2dc-421c-a212-24be8d75bacd",
   "metadata": {},
   "outputs": [],
   "source": []
  },
  {
   "cell_type": "markdown",
   "id": "306fa990-23ba-47bc-ae89-6a656bccf912",
   "metadata": {},
   "source": [
    "1 lab"
   ]
  },
  {
   "cell_type": "code",
   "execution_count": 13,
   "id": "76eb743e-294c-4a2d-8a94-dae8fbed8e31",
   "metadata": {},
   "outputs": [
    {
     "data": {
      "text/plain": [
       "0    1\n",
       "1    2\n",
       "2    3\n",
       "3    4\n",
       "4    5\n",
       "dtype: int64"
      ]
     },
     "execution_count": 13,
     "metadata": {},
     "output_type": "execute_result"
    }
   ],
   "source": [
    "import pandas as pd\n",
    "pd.Series([1, 2, 3, 4, 5])"
   ]
  },
  {
   "cell_type": "code",
   "execution_count": 34,
   "id": "971940ef-c2ef-4ac3-b6c3-ea2f2da68669",
   "metadata": {},
   "outputs": [
    {
     "data": {
      "text/plain": [
       "a    10\n",
       "b    20\n",
       "c    30\n",
       "d    40\n",
       "e    50\n",
       "dtype: int64"
      ]
     },
     "execution_count": 34,
     "metadata": {},
     "output_type": "execute_result"
    }
   ],
   "source": [
    "s = pd.Series([10, 20, 30, 40, 50], index=['a', 'b', 'c', 'd', 'e'])\n",
    "s"
   ]
  },
  {
   "cell_type": "code",
   "execution_count": 35,
   "id": "1cd22fc4-cd26-4be7-8bcb-5bc1880e0fa2",
   "metadata": {},
   "outputs": [
    {
     "data": {
      "text/plain": [
       "30"
      ]
     },
     "execution_count": 35,
     "metadata": {},
     "output_type": "execute_result"
    }
   ],
   "source": [
    "s['c']"
   ]
  },
  {
   "cell_type": "code",
   "execution_count": 15,
   "id": "9c7f7f8d-7c22-4cae-bdfe-71699ff3b560",
   "metadata": {},
   "outputs": [
    {
     "data": {
      "text/plain": [
       "0    6\n",
       "1    6\n",
       "2    6\n",
       "3    6\n",
       "4    6\n",
       "dtype: int64"
      ]
     },
     "execution_count": 15,
     "metadata": {},
     "output_type": "execute_result"
    }
   ],
   "source": [
    "s1 = pd.Series([1, 2, 3, 4, 5])\n",
    "s2 = pd.Series([5, 4, 3, 2, 1])\n",
    "s1+s2"
   ]
  },
  {
   "cell_type": "code",
   "execution_count": 17,
   "id": "c4171f0f-070c-4dd9-8aff-107dee955ffe",
   "metadata": {},
   "outputs": [
    {
     "data": {
      "text/html": [
       "<div>\n",
       "<style scoped>\n",
       "    .dataframe tbody tr th:only-of-type {\n",
       "        vertical-align: middle;\n",
       "    }\n",
       "\n",
       "    .dataframe tbody tr th {\n",
       "        vertical-align: top;\n",
       "    }\n",
       "\n",
       "    .dataframe thead th {\n",
       "        text-align: right;\n",
       "    }\n",
       "</style>\n",
       "<table border=\"1\" class=\"dataframe\">\n",
       "  <thead>\n",
       "    <tr style=\"text-align: right;\">\n",
       "      <th></th>\n",
       "      <th>Name</th>\n",
       "      <th>Age</th>\n",
       "    </tr>\n",
       "  </thead>\n",
       "  <tbody>\n",
       "    <tr>\n",
       "      <th>0</th>\n",
       "      <td>Akniet</td>\n",
       "      <td>19</td>\n",
       "    </tr>\n",
       "    <tr>\n",
       "      <th>1</th>\n",
       "      <td>Sayan</td>\n",
       "      <td>16</td>\n",
       "    </tr>\n",
       "    <tr>\n",
       "      <th>2</th>\n",
       "      <td>Nurlykhan</td>\n",
       "      <td>21</td>\n",
       "    </tr>\n",
       "  </tbody>\n",
       "</table>\n",
       "</div>"
      ],
      "text/plain": [
       "        Name  Age\n",
       "0     Akniet   19\n",
       "1      Sayan   16\n",
       "2  Nurlykhan   21"
      ]
     },
     "execution_count": 17,
     "metadata": {},
     "output_type": "execute_result"
    }
   ],
   "source": [
    "data = {\n",
    "    'Name' : ['Akniet', 'Sayan', 'Nurlykhan'],\n",
    "    'Age' : [19, 16, 21]\n",
    "}\n",
    "\n",
    "df1 = pd.DataFrame(data)\n",
    "df1"
   ]
  },
  {
   "cell_type": "code",
   "execution_count": 37,
   "id": "31afda61-41ac-45a0-ab82-c874302b0bad",
   "metadata": {},
   "outputs": [
    {
     "data": {
      "text/html": [
       "<div>\n",
       "<style scoped>\n",
       "    .dataframe tbody tr th:only-of-type {\n",
       "        vertical-align: middle;\n",
       "    }\n",
       "\n",
       "    .dataframe tbody tr th {\n",
       "        vertical-align: top;\n",
       "    }\n",
       "\n",
       "    .dataframe thead th {\n",
       "        text-align: right;\n",
       "    }\n",
       "</style>\n",
       "<table border=\"1\" class=\"dataframe\">\n",
       "  <thead>\n",
       "    <tr style=\"text-align: right;\">\n",
       "      <th></th>\n",
       "      <th>A</th>\n",
       "      <th>B</th>\n",
       "      <th>C</th>\n",
       "      <th>D</th>\n",
       "      <th>E</th>\n",
       "    </tr>\n",
       "  </thead>\n",
       "  <tbody>\n",
       "    <tr>\n",
       "      <th>0</th>\n",
       "      <td>0.328559</td>\n",
       "      <td>0.969978</td>\n",
       "      <td>0.699798</td>\n",
       "      <td>0.008044</td>\n",
       "      <td>0.210042</td>\n",
       "    </tr>\n",
       "    <tr>\n",
       "      <th>1</th>\n",
       "      <td>0.969802</td>\n",
       "      <td>0.742769</td>\n",
       "      <td>0.040001</td>\n",
       "      <td>0.434967</td>\n",
       "      <td>0.629204</td>\n",
       "    </tr>\n",
       "    <tr>\n",
       "      <th>2</th>\n",
       "      <td>0.533141</td>\n",
       "      <td>0.240879</td>\n",
       "      <td>0.768565</td>\n",
       "      <td>0.213067</td>\n",
       "      <td>0.188755</td>\n",
       "    </tr>\n",
       "    <tr>\n",
       "      <th>3</th>\n",
       "      <td>0.344239</td>\n",
       "      <td>0.601327</td>\n",
       "      <td>0.470833</td>\n",
       "      <td>0.259355</td>\n",
       "      <td>0.715993</td>\n",
       "    </tr>\n",
       "    <tr>\n",
       "      <th>4</th>\n",
       "      <td>0.331128</td>\n",
       "      <td>0.803736</td>\n",
       "      <td>0.789346</td>\n",
       "      <td>0.365052</td>\n",
       "      <td>0.764398</td>\n",
       "    </tr>\n",
       "  </tbody>\n",
       "</table>\n",
       "</div>"
      ],
      "text/plain": [
       "          A         B         C         D         E\n",
       "0  0.328559  0.969978  0.699798  0.008044  0.210042\n",
       "1  0.969802  0.742769  0.040001  0.434967  0.629204\n",
       "2  0.533141  0.240879  0.768565  0.213067  0.188755\n",
       "3  0.344239  0.601327  0.470833  0.259355  0.715993\n",
       "4  0.331128  0.803736  0.789346  0.365052  0.764398"
      ]
     },
     "execution_count": 37,
     "metadata": {},
     "output_type": "execute_result"
    }
   ],
   "source": [
    "import numpy as np\n",
    "df2 = pd.DataFrame(np.random.rand(5, 5), index=range(5), columns=['A', 'B', 'C', 'D', 'E'])\n",
    "df2"
   ]
  },
  {
   "cell_type": "code",
   "execution_count": 38,
   "id": "bdd4d6a0-767e-4cbe-b669-1b71077668ef",
   "metadata": {},
   "outputs": [
    {
     "data": {
      "text/plain": [
       "A    0.533141\n",
       "B    0.240879\n",
       "C    0.768565\n",
       "D    0.213067\n",
       "E    0.188755\n",
       "Name: 2, dtype: float64"
      ]
     },
     "execution_count": 38,
     "metadata": {},
     "output_type": "execute_result"
    }
   ],
   "source": [
    "df2.loc[2]"
   ]
  },
  {
   "cell_type": "code",
   "execution_count": 21,
   "id": "132feaef-e9be-4558-b5ac-4f8d4f2ae92a",
   "metadata": {},
   "outputs": [
    {
     "data": {
      "text/plain": [
       "0    0.665892\n",
       "1    0.841712\n",
       "2    0.321729\n",
       "3    0.992449\n",
       "4    0.883513\n",
       "Name: C, dtype: float64"
      ]
     },
     "execution_count": 21,
     "metadata": {},
     "output_type": "execute_result"
    }
   ],
   "source": [
    "df2['C']"
   ]
  },
  {
   "cell_type": "code",
   "execution_count": 22,
   "id": "42b9857f-1ec6-4819-97f4-fd847d0f2135",
   "metadata": {},
   "outputs": [
    {
     "data": {
      "text/html": [
       "<div>\n",
       "<style scoped>\n",
       "    .dataframe tbody tr th:only-of-type {\n",
       "        vertical-align: middle;\n",
       "    }\n",
       "\n",
       "    .dataframe tbody tr th {\n",
       "        vertical-align: top;\n",
       "    }\n",
       "\n",
       "    .dataframe thead th {\n",
       "        text-align: right;\n",
       "    }\n",
       "</style>\n",
       "<table border=\"1\" class=\"dataframe\">\n",
       "  <thead>\n",
       "    <tr style=\"text-align: right;\">\n",
       "      <th></th>\n",
       "      <th>A</th>\n",
       "      <th>B</th>\n",
       "      <th>C</th>\n",
       "      <th>D</th>\n",
       "      <th>E</th>\n",
       "    </tr>\n",
       "  </thead>\n",
       "  <tbody>\n",
       "    <tr>\n",
       "      <th>0</th>\n",
       "      <td>0.917509</td>\n",
       "      <td>0.986161</td>\n",
       "      <td>0.523413</td>\n",
       "      <td>0.147866</td>\n",
       "      <td>0.697186</td>\n",
       "    </tr>\n",
       "    <tr>\n",
       "      <th>1</th>\n",
       "      <td>0.591126</td>\n",
       "      <td>0.583258</td>\n",
       "      <td>0.196300</td>\n",
       "      <td>0.711690</td>\n",
       "      <td>0.659338</td>\n",
       "    </tr>\n",
       "    <tr>\n",
       "      <th>2</th>\n",
       "      <td>0.933545</td>\n",
       "      <td>0.861954</td>\n",
       "      <td>0.485318</td>\n",
       "      <td>0.478249</td>\n",
       "      <td>0.655517</td>\n",
       "    </tr>\n",
       "  </tbody>\n",
       "</table>\n",
       "</div>"
      ],
      "text/plain": [
       "          A         B         C         D         E\n",
       "0  0.917509  0.986161  0.523413  0.147866  0.697186\n",
       "1  0.591126  0.583258  0.196300  0.711690  0.659338\n",
       "2  0.933545  0.861954  0.485318  0.478249  0.655517"
      ]
     },
     "execution_count": 22,
     "metadata": {},
     "output_type": "execute_result"
    }
   ],
   "source": [
    "df3 = pd.DataFrame(np.random.rand(5, 5), index=range(5), columns=['A', 'B', 'C', 'D', 'E'])\n",
    "df3[df3['A'] > 0.5]"
   ]
  },
  {
   "cell_type": "code",
   "execution_count": 39,
   "id": "3b91ad44-30db-4b8b-9016-3cc16e803b93",
   "metadata": {},
   "outputs": [
    {
     "data": {
      "text/html": [
       "<div>\n",
       "<style scoped>\n",
       "    .dataframe tbody tr th:only-of-type {\n",
       "        vertical-align: middle;\n",
       "    }\n",
       "\n",
       "    .dataframe tbody tr th {\n",
       "        vertical-align: top;\n",
       "    }\n",
       "\n",
       "    .dataframe thead th {\n",
       "        text-align: right;\n",
       "    }\n",
       "</style>\n",
       "<table border=\"1\" class=\"dataframe\">\n",
       "  <thead>\n",
       "    <tr style=\"text-align: right;\">\n",
       "      <th></th>\n",
       "      <th>0</th>\n",
       "      <th>1</th>\n",
       "      <th>2</th>\n",
       "      <th>3</th>\n",
       "      <th>4</th>\n",
       "    </tr>\n",
       "  </thead>\n",
       "  <tbody>\n",
       "    <tr>\n",
       "      <th>0</th>\n",
       "      <td>0.977608</td>\n",
       "      <td>0.075891</td>\n",
       "      <td>0.141537</td>\n",
       "      <td>0.460772</td>\n",
       "      <td>0.377364</td>\n",
       "    </tr>\n",
       "    <tr>\n",
       "      <th>1</th>\n",
       "      <td>0.186119</td>\n",
       "      <td>0.967574</td>\n",
       "      <td>0.996549</td>\n",
       "      <td>0.522418</td>\n",
       "      <td>0.251064</td>\n",
       "    </tr>\n",
       "    <tr>\n",
       "      <th>2</th>\n",
       "      <td>0.094194</td>\n",
       "      <td>0.582373</td>\n",
       "      <td>0.855133</td>\n",
       "      <td>0.933888</td>\n",
       "      <td>0.058974</td>\n",
       "    </tr>\n",
       "    <tr>\n",
       "      <th>3</th>\n",
       "      <td>0.227580</td>\n",
       "      <td>0.114888</td>\n",
       "      <td>0.950784</td>\n",
       "      <td>0.560142</td>\n",
       "      <td>0.878618</td>\n",
       "    </tr>\n",
       "    <tr>\n",
       "      <th>4</th>\n",
       "      <td>0.118396</td>\n",
       "      <td>0.053042</td>\n",
       "      <td>0.928495</td>\n",
       "      <td>0.588414</td>\n",
       "      <td>0.002455</td>\n",
       "    </tr>\n",
       "  </tbody>\n",
       "</table>\n",
       "</div>"
      ],
      "text/plain": [
       "          0         1         2         3         4\n",
       "0  0.977608  0.075891  0.141537  0.460772  0.377364\n",
       "1  0.186119  0.967574  0.996549  0.522418  0.251064\n",
       "2  0.094194  0.582373  0.855133  0.933888  0.058974\n",
       "3  0.227580  0.114888  0.950784  0.560142  0.878618\n",
       "4  0.118396  0.053042  0.928495  0.588414  0.002455"
      ]
     },
     "execution_count": 39,
     "metadata": {},
     "output_type": "execute_result"
    }
   ],
   "source": [
    "df4 = pd.DataFrame(np.random.rand(5, 5))\n",
    "df4"
   ]
  },
  {
   "cell_type": "code",
   "execution_count": 40,
   "id": "cdb70880-1116-44aa-8118-068ec99b6731",
   "metadata": {},
   "outputs": [
    {
     "data": {
      "text/plain": [
       "0    1.603897\n",
       "1    1.793767\n",
       "2    3.872499\n",
       "3    3.065634\n",
       "4    1.568476\n",
       "dtype: float64"
      ]
     },
     "execution_count": 40,
     "metadata": {},
     "output_type": "execute_result"
    }
   ],
   "source": [
    "df4.sum()"
   ]
  },
  {
   "cell_type": "code",
   "execution_count": 41,
   "id": "5b1a83ff-52ba-4f86-98b4-cce73be90f45",
   "metadata": {},
   "outputs": [
    {
     "data": {
      "text/html": [
       "<div>\n",
       "<style scoped>\n",
       "    .dataframe tbody tr th:only-of-type {\n",
       "        vertical-align: middle;\n",
       "    }\n",
       "\n",
       "    .dataframe tbody tr th {\n",
       "        vertical-align: top;\n",
       "    }\n",
       "\n",
       "    .dataframe thead th {\n",
       "        text-align: right;\n",
       "    }\n",
       "</style>\n",
       "<table border=\"1\" class=\"dataframe\">\n",
       "  <thead>\n",
       "    <tr style=\"text-align: right;\">\n",
       "      <th></th>\n",
       "      <th>A</th>\n",
       "      <th>B</th>\n",
       "      <th>C</th>\n",
       "    </tr>\n",
       "  </thead>\n",
       "  <tbody>\n",
       "    <tr>\n",
       "      <th>0</th>\n",
       "      <td>0.355302</td>\n",
       "      <td>0.442613</td>\n",
       "      <td>0.669212</td>\n",
       "    </tr>\n",
       "    <tr>\n",
       "      <th>1</th>\n",
       "      <td>0.418668</td>\n",
       "      <td>0.366979</td>\n",
       "      <td>0.260919</td>\n",
       "    </tr>\n",
       "    <tr>\n",
       "      <th>2</th>\n",
       "      <td>0.975987</td>\n",
       "      <td>0.304177</td>\n",
       "      <td>0.613101</td>\n",
       "    </tr>\n",
       "  </tbody>\n",
       "</table>\n",
       "</div>"
      ],
      "text/plain": [
       "          A         B         C\n",
       "0  0.355302  0.442613  0.669212\n",
       "1  0.418668  0.366979  0.260919\n",
       "2  0.975987  0.304177  0.613101"
      ]
     },
     "execution_count": 41,
     "metadata": {},
     "output_type": "execute_result"
    }
   ],
   "source": [
    "df5 = pd.DataFrame(np.random.rand(3, 3), columns=['A', 'B', 'C'])\n",
    "df6 = pd.DataFrame(np.random.rand(3, 3), columns=['D', 'E', 'F'])\n",
    "df5"
   ]
  },
  {
   "cell_type": "code",
   "execution_count": 42,
   "id": "cbd1d33f-786c-46fa-91fa-8b588da53476",
   "metadata": {},
   "outputs": [
    {
     "data": {
      "text/html": [
       "<div>\n",
       "<style scoped>\n",
       "    .dataframe tbody tr th:only-of-type {\n",
       "        vertical-align: middle;\n",
       "    }\n",
       "\n",
       "    .dataframe tbody tr th {\n",
       "        vertical-align: top;\n",
       "    }\n",
       "\n",
       "    .dataframe thead th {\n",
       "        text-align: right;\n",
       "    }\n",
       "</style>\n",
       "<table border=\"1\" class=\"dataframe\">\n",
       "  <thead>\n",
       "    <tr style=\"text-align: right;\">\n",
       "      <th></th>\n",
       "      <th>D</th>\n",
       "      <th>E</th>\n",
       "      <th>F</th>\n",
       "    </tr>\n",
       "  </thead>\n",
       "  <tbody>\n",
       "    <tr>\n",
       "      <th>0</th>\n",
       "      <td>0.196891</td>\n",
       "      <td>0.117426</td>\n",
       "      <td>0.556703</td>\n",
       "    </tr>\n",
       "    <tr>\n",
       "      <th>1</th>\n",
       "      <td>0.641168</td>\n",
       "      <td>0.283022</td>\n",
       "      <td>0.360257</td>\n",
       "    </tr>\n",
       "    <tr>\n",
       "      <th>2</th>\n",
       "      <td>0.300674</td>\n",
       "      <td>0.216642</td>\n",
       "      <td>0.889688</td>\n",
       "    </tr>\n",
       "  </tbody>\n",
       "</table>\n",
       "</div>"
      ],
      "text/plain": [
       "          D         E         F\n",
       "0  0.196891  0.117426  0.556703\n",
       "1  0.641168  0.283022  0.360257\n",
       "2  0.300674  0.216642  0.889688"
      ]
     },
     "execution_count": 42,
     "metadata": {},
     "output_type": "execute_result"
    }
   ],
   "source": [
    "df6"
   ]
  },
  {
   "cell_type": "code",
   "execution_count": 43,
   "id": "82bc7d35-33d9-413d-9722-faec8a03220e",
   "metadata": {},
   "outputs": [
    {
     "data": {
      "text/html": [
       "<div>\n",
       "<style scoped>\n",
       "    .dataframe tbody tr th:only-of-type {\n",
       "        vertical-align: middle;\n",
       "    }\n",
       "\n",
       "    .dataframe tbody tr th {\n",
       "        vertical-align: top;\n",
       "    }\n",
       "\n",
       "    .dataframe thead th {\n",
       "        text-align: right;\n",
       "    }\n",
       "</style>\n",
       "<table border=\"1\" class=\"dataframe\">\n",
       "  <thead>\n",
       "    <tr style=\"text-align: right;\">\n",
       "      <th></th>\n",
       "      <th>A</th>\n",
       "      <th>B</th>\n",
       "      <th>C</th>\n",
       "      <th>D</th>\n",
       "      <th>E</th>\n",
       "      <th>F</th>\n",
       "    </tr>\n",
       "  </thead>\n",
       "  <tbody>\n",
       "    <tr>\n",
       "      <th>0</th>\n",
       "      <td>0.355302</td>\n",
       "      <td>0.442613</td>\n",
       "      <td>0.669212</td>\n",
       "      <td>0.196891</td>\n",
       "      <td>0.117426</td>\n",
       "      <td>0.556703</td>\n",
       "    </tr>\n",
       "    <tr>\n",
       "      <th>1</th>\n",
       "      <td>0.418668</td>\n",
       "      <td>0.366979</td>\n",
       "      <td>0.260919</td>\n",
       "      <td>0.641168</td>\n",
       "      <td>0.283022</td>\n",
       "      <td>0.360257</td>\n",
       "    </tr>\n",
       "    <tr>\n",
       "      <th>2</th>\n",
       "      <td>0.975987</td>\n",
       "      <td>0.304177</td>\n",
       "      <td>0.613101</td>\n",
       "      <td>0.300674</td>\n",
       "      <td>0.216642</td>\n",
       "      <td>0.889688</td>\n",
       "    </tr>\n",
       "  </tbody>\n",
       "</table>\n",
       "</div>"
      ],
      "text/plain": [
       "          A         B         C         D         E         F\n",
       "0  0.355302  0.442613  0.669212  0.196891  0.117426  0.556703\n",
       "1  0.418668  0.366979  0.260919  0.641168  0.283022  0.360257\n",
       "2  0.975987  0.304177  0.613101  0.300674  0.216642  0.889688"
      ]
     },
     "execution_count": 43,
     "metadata": {},
     "output_type": "execute_result"
    }
   ],
   "source": [
    "pd.concat([df5, df6], axis=1)"
   ]
  },
  {
   "cell_type": "code",
   "execution_count": 28,
   "id": "97ea1750-fb58-4d3f-9da6-ba98e0f48ec9",
   "metadata": {},
   "outputs": [
    {
     "data": {
      "text/html": [
       "<div>\n",
       "<style scoped>\n",
       "    .dataframe tbody tr th:only-of-type {\n",
       "        vertical-align: middle;\n",
       "    }\n",
       "\n",
       "    .dataframe tbody tr th {\n",
       "        vertical-align: top;\n",
       "    }\n",
       "\n",
       "    .dataframe thead th {\n",
       "        text-align: right;\n",
       "    }\n",
       "</style>\n",
       "<table border=\"1\" class=\"dataframe\">\n",
       "  <thead>\n",
       "    <tr style=\"text-align: right;\">\n",
       "      <th></th>\n",
       "      <th>A</th>\n",
       "      <th>B</th>\n",
       "      <th>C</th>\n",
       "      <th>D</th>\n",
       "      <th>E</th>\n",
       "      <th>F</th>\n",
       "    </tr>\n",
       "  </thead>\n",
       "  <tbody>\n",
       "    <tr>\n",
       "      <th>0</th>\n",
       "      <td>0.248501</td>\n",
       "      <td>0.511503</td>\n",
       "      <td>0.663426</td>\n",
       "      <td>NaN</td>\n",
       "      <td>NaN</td>\n",
       "      <td>NaN</td>\n",
       "    </tr>\n",
       "    <tr>\n",
       "      <th>1</th>\n",
       "      <td>0.717873</td>\n",
       "      <td>0.293085</td>\n",
       "      <td>0.206161</td>\n",
       "      <td>NaN</td>\n",
       "      <td>NaN</td>\n",
       "      <td>NaN</td>\n",
       "    </tr>\n",
       "    <tr>\n",
       "      <th>2</th>\n",
       "      <td>0.937707</td>\n",
       "      <td>0.984617</td>\n",
       "      <td>0.450041</td>\n",
       "      <td>NaN</td>\n",
       "      <td>NaN</td>\n",
       "      <td>NaN</td>\n",
       "    </tr>\n",
       "    <tr>\n",
       "      <th>0</th>\n",
       "      <td>NaN</td>\n",
       "      <td>NaN</td>\n",
       "      <td>NaN</td>\n",
       "      <td>0.549425</td>\n",
       "      <td>0.959914</td>\n",
       "      <td>0.440858</td>\n",
       "    </tr>\n",
       "    <tr>\n",
       "      <th>1</th>\n",
       "      <td>NaN</td>\n",
       "      <td>NaN</td>\n",
       "      <td>NaN</td>\n",
       "      <td>0.506255</td>\n",
       "      <td>0.837937</td>\n",
       "      <td>0.595350</td>\n",
       "    </tr>\n",
       "    <tr>\n",
       "      <th>2</th>\n",
       "      <td>NaN</td>\n",
       "      <td>NaN</td>\n",
       "      <td>NaN</td>\n",
       "      <td>0.152897</td>\n",
       "      <td>0.399645</td>\n",
       "      <td>0.815916</td>\n",
       "    </tr>\n",
       "  </tbody>\n",
       "</table>\n",
       "</div>"
      ],
      "text/plain": [
       "          A         B         C         D         E         F\n",
       "0  0.248501  0.511503  0.663426       NaN       NaN       NaN\n",
       "1  0.717873  0.293085  0.206161       NaN       NaN       NaN\n",
       "2  0.937707  0.984617  0.450041       NaN       NaN       NaN\n",
       "0       NaN       NaN       NaN  0.549425  0.959914  0.440858\n",
       "1       NaN       NaN       NaN  0.506255  0.837937  0.595350\n",
       "2       NaN       NaN       NaN  0.152897  0.399645  0.815916"
      ]
     },
     "execution_count": 28,
     "metadata": {},
     "output_type": "execute_result"
    }
   ],
   "source": [
    "pd.concat([df5, df6], axis=0)"
   ]
  },
  {
   "cell_type": "code",
   "execution_count": 44,
   "id": "141be0c3-65f1-446b-bae7-5cbb37bfd2da",
   "metadata": {},
   "outputs": [
    {
     "data": {
      "text/plain": [
       "Gender\n",
       "F    13.50\n",
       "M    13.25\n",
       "Name: Age, dtype: float64"
      ]
     },
     "execution_count": 44,
     "metadata": {},
     "output_type": "execute_result"
    }
   ],
   "source": [
    "data2 = {\n",
    "    'Name' : ['Akniet', 'Sayan', 'Nurlykhan', 'Beksultan', 'Togzhan', 'MukhammedSultan'],\n",
    "    'Gender' : ['F', 'M', 'M', 'M', 'F', 'M'],\n",
    "    'Age' : [19, 16, 21, 13, 8, 3]\n",
    "}\n",
    "df7 = pd.DataFrame(data2)\n",
    "df7.groupby('Gender')['Age'].mean()\n"
   ]
  },
  {
   "cell_type": "code",
   "execution_count": 45,
   "id": "8ffb783a-a564-44da-9800-d38be553f470",
   "metadata": {},
   "outputs": [
    {
     "data": {
      "text/html": [
       "<div>\n",
       "<style scoped>\n",
       "    .dataframe tbody tr th:only-of-type {\n",
       "        vertical-align: middle;\n",
       "    }\n",
       "\n",
       "    .dataframe tbody tr th {\n",
       "        vertical-align: top;\n",
       "    }\n",
       "\n",
       "    .dataframe thead th {\n",
       "        text-align: right;\n",
       "    }\n",
       "</style>\n",
       "<table border=\"1\" class=\"dataframe\">\n",
       "  <thead>\n",
       "    <tr style=\"text-align: right;\">\n",
       "      <th></th>\n",
       "      <th>Name</th>\n",
       "      <th>Age</th>\n",
       "    </tr>\n",
       "  </thead>\n",
       "  <tbody>\n",
       "    <tr>\n",
       "      <th>0</th>\n",
       "      <td>Akniet</td>\n",
       "      <td>19</td>\n",
       "    </tr>\n",
       "    <tr>\n",
       "      <th>1</th>\n",
       "      <td>Sayan</td>\n",
       "      <td>16</td>\n",
       "    </tr>\n",
       "    <tr>\n",
       "      <th>2</th>\n",
       "      <td>Nurlykhan</td>\n",
       "      <td>21</td>\n",
       "    </tr>\n",
       "  </tbody>\n",
       "</table>\n",
       "</div>"
      ],
      "text/plain": [
       "        Name  Age\n",
       "0     Akniet   19\n",
       "1      Sayan   16\n",
       "2  Nurlykhan   21"
      ]
     },
     "execution_count": 45,
     "metadata": {},
     "output_type": "execute_result"
    }
   ],
   "source": [
    "df8 = pd.DataFrame(data)\n",
    "df8.to_csv('data.csv', index=False)\n",
    "pd.read_csv('data.csv')"
   ]
  },
  {
   "cell_type": "code",
   "execution_count": null,
   "id": "55be108f-bdc6-4865-a010-3be9e0deaa75",
   "metadata": {},
   "outputs": [],
   "source": []
  }
 ],
 "metadata": {
  "kernelspec": {
   "display_name": "Python 3 (ipykernel)",
   "language": "python",
   "name": "python3"
  },
  "language_info": {
   "codemirror_mode": {
    "name": "ipython",
    "version": 3
   },
   "file_extension": ".py",
   "mimetype": "text/x-python",
   "name": "python",
   "nbconvert_exporter": "python",
   "pygments_lexer": "ipython3",
   "version": "3.12.4"
  }
 },
 "nbformat": 4,
 "nbformat_minor": 5
}
