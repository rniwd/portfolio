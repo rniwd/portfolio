{
 "cells": [
  {
   "cell_type": "code",
   "execution_count": 2,
   "id": "a5658243-1273-44d9-8294-cdc364eeac2f",
   "metadata": {},
   "outputs": [
    {
     "name": "stdout",
     "output_type": "stream",
     "text": [
      "0    1\n",
      "1    2\n",
      "2    3\n",
      "3    4\n",
      "4    5\n",
      "dtype: int64\n"
     ]
    }
   ],
   "source": [
    "1\n",
    "import pandas as pd  \n",
    "\n",
    "series = pd.Series([1, 2, 3, 4, 5])\n",
    "\n",
    "print(series)"
   ]
  },
  {
   "cell_type": "code",
   "execution_count": 3,
   "id": "601ce9f8-2331-4a72-bf82-7b85d6e5f9d8",
   "metadata": {},
   "outputs": [
    {
     "name": "stdout",
     "output_type": "stream",
     "text": [
      "[10, 20, 30, 40, 50]\n",
      "30\n"
     ]
    }
   ],
   "source": [
    "2\n",
    "import pandas as pd\n",
    "\n",
    "data = [10, 20, 30, 40, 50]\n",
    "index = ['a', 'b', 'c', 'd', 'e']\n",
    "series = pd.Series(data, index=index)\n",
    "print(data)\n",
    "print(series['c'])"
   ]
  },
  {
   "cell_type": "code",
   "execution_count": 4,
   "id": "4ed4ac54-69fb-40c6-a600-29c4c044bd3b",
   "metadata": {},
   "outputs": [
    {
     "name": "stdout",
     "output_type": "stream",
     "text": [
      "0    6\n",
      "1    6\n",
      "2    6\n",
      "3    6\n",
      "4    6\n",
      "dtype: int64\n"
     ]
    }
   ],
   "source": [
    "3\n",
    "import pandas as pd\n",
    "\n",
    "series1 = pd.Series([1, 2, 3, 4, 5])\n",
    "series2 = pd.Series([5, 4, 3, 2, 1])\n",
    "\n",
    "result = series1 + series2\n",
    "\n",
    "print(result)"
   ]
  },
  {
   "cell_type": "code",
   "execution_count": 5,
   "id": "897f35bd-c695-45ed-bd03-4d9ef824d69b",
   "metadata": {},
   "outputs": [
    {
     "name": "stdout",
     "output_type": "stream",
     "text": [
      "     Name  Age\n",
      "0    Dias   25\n",
      "1  Nurbak   30\n",
      "2   Eldar   35\n"
     ]
    }
   ],
   "source": [
    "4\n",
    "import pandas as pd \n",
    "\n",
    "data = {\n",
    "    'Name': ['Dias', 'Nurbak', 'Eldar'],  \n",
    "    'Age': [25, 30, 35]                  \n",
    "}\n",
    "\n",
    "df = pd.DataFrame(data) \n",
    "print(df)"
   ]
  },
  {
   "cell_type": "code",
   "execution_count": 35,
   "id": "1c4418a3-7f88-466f-99ab-37397fdecef7",
   "metadata": {},
   "outputs": [
    {
     "name": "stdout",
     "output_type": "stream",
     "text": [
      "          A         B         C         D         E\n",
      "0  0.306408  0.563157  0.979035  0.537794  0.630416\n",
      "1  0.854748  0.780947  0.541916  0.804325  0.932233\n",
      "2  0.938102  0.868278  0.301681  0.753051  0.039639\n",
      "3  0.814115  0.726341  0.692203  0.562381  0.456969\n",
      "4  0.276523  0.010404  0.172260  0.058474  0.900134\n",
      "0    False\n",
      "1     True\n",
      "2     True\n",
      "3     True\n",
      "4    False\n",
      "Name: A, dtype: bool\n"
     ]
    }
   ],
   "source": [
    "5,6\n",
    "import pandas as pd\n",
    "import numpy as np  \n",
    "df = pd.DataFrame(np.random.rand(5, 5), columns=['A', 'B', 'C', 'D', 'E'])\n",
    "print(df)\n",
    "\n",
    "print(df['A']>0.5)"
   ]
  },
  {
   "cell_type": "code",
   "execution_count": 7,
   "id": "9065dca4-5363-49dd-8307-490f0652337a",
   "metadata": {},
   "outputs": [
    {
     "name": "stdout",
     "output_type": "stream",
     "text": [
      "          0         1         2         3         4\n",
      "0  0.166577  0.751131  0.727760  0.451879  0.151850\n",
      "1  0.207569  0.336667  0.843179  0.548144  0.729050\n",
      "2  0.156861  0.943747  0.782403  0.623250  0.299059\n",
      "3  0.784326  0.929257  0.915180  0.615531  0.641492\n",
      "4  0.385971  0.456346  0.271484  0.836066  0.859027\n",
      "Суммы по каждому столбцу:\n",
      "0    1.701305\n",
      "1    3.417147\n",
      "2    3.540006\n",
      "3    3.074870\n",
      "4    2.680478\n",
      "dtype: float64\n"
     ]
    }
   ],
   "source": [
    "7\n",
    "import pandas as pd\n",
    "import numpy as np\n",
    "\n",
    "df = pd.DataFrame(np.random.rand(5, 5))\n",
    "\n",
    "column_sums = df.apply(np.sum)\n",
    "print(df)\n",
    "print(\"Суммы по каждому столбцу:\")\n",
    "print(column_sums)"
   ]
  },
  {
   "cell_type": "code",
   "execution_count": 8,
   "id": "a61730cb-1523-4c52-9ed3-bce1410b3cc3",
   "metadata": {},
   "outputs": [
    {
     "name": "stdout",
     "output_type": "stream",
     "text": [
      "Горизонтальное объединение:\n",
      "          A         B         C         D         E         F\n",
      "0  0.553764  0.282045  0.024407  0.710252  0.848578  0.419563\n",
      "1  0.947244  0.271122  0.502826  0.801666  0.293386  0.401328\n",
      "2  0.661313  0.265812  0.938263  0.112077  0.787682  0.800550\n",
      "\n",
      "Вертикальное объединение:\n",
      "          A         B         C         D         E         F\n",
      "0  0.553764  0.282045  0.024407       NaN       NaN       NaN\n",
      "1  0.947244  0.271122  0.502826       NaN       NaN       NaN\n",
      "2  0.661313  0.265812  0.938263       NaN       NaN       NaN\n",
      "0       NaN       NaN       NaN  0.710252  0.848578  0.419563\n",
      "1       NaN       NaN       NaN  0.801666  0.293386  0.401328\n",
      "2       NaN       NaN       NaN  0.112077  0.787682  0.800550\n"
     ]
    }
   ],
   "source": [
    "8\n",
    "import pandas as pd\n",
    "import numpy as np\n",
    "\n",
    "df1 = pd.DataFrame(np.random.rand(3, 3), columns=['A', 'B', 'C'])\n",
    "df2 = pd.DataFrame(np.random.rand(3, 3), columns=['D', 'E', 'F'])\n",
    "\n",
    "horizontal_concat = pd.concat([df1, df2], axis=1)\n",
    "\n",
    "vertical_concat = pd.concat([df1, df2], axis=0)\n",
    "\n",
    "print(\"Горизонтальное объединение:\")\n",
    "print(horizontal_concat)\n",
    "\n",
    "print(\"\\nВертикальное объединение:\")\n",
    "print(vertical_concat)\n"
   ]
  },
  {
   "cell_type": "code",
   "execution_count": 9,
   "id": "52f9041a-db4b-4646-9e27-c18b1a313189",
   "metadata": {},
   "outputs": [
    {
     "name": "stdout",
     "output_type": "stream",
     "text": [
      "Gender\n",
      "Female    29.000000\n",
      "Male      30.666667\n",
      "Name: Age, dtype: float64\n"
     ]
    }
   ],
   "source": [
    "#9\n",
    "import pandas as pd\n",
    "\n",
    "data = {\n",
    "    'Name': ['Alice', 'Bob', 'Charlie', 'Diana', 'Eve', 'Frank'],\n",
    "    'Gender': ['Female', 'Male', 'Male', 'Female', 'Female', 'Male'],\n",
    "    'Age': [24, 30, 22, 28, 35, 40]\n",
    "}\n",
    "\n",
    "df = pd.DataFrame(data)\n",
    "\n",
    "grouped_df = df.groupby('Gender')['Age'].mean()\n",
    "\n",
    "print(grouped_df)\n"
   ]
  },
  {
   "cell_type": "code",
   "execution_count": 10,
   "id": "c7438c0e-3720-4729-b51f-10175180cf32",
   "metadata": {},
   "outputs": [
    {
     "name": "stdout",
     "output_type": "stream",
     "text": [
      "      Name  Gender  Age\n",
      "0    Alice  Female   24\n",
      "1      Bob    Male   30\n",
      "2  Charlie    Male   22\n",
      "3    Diana  Female   28\n",
      "4      Eve  Female   35\n",
      "5    Frank    Male   40\n"
     ]
    }
   ],
   "source": [
    "# 10\n",
    "import pandas as pd\n",
    "\n",
    "data = {\n",
    "    'Name': ['Alice', 'Bob', 'Charlie', 'Diana', 'Eve', 'Frank'],\n",
    "    'Gender': ['Female', 'Male', 'Male', 'Female', 'Female', 'Male'],\n",
    "    'Age': [24, 30, 22, 28, 35, 40]\n",
    "}\n",
    "\n",
    "df = pd.DataFrame(data)  \n",
    "\n",
    "\n",
    "csv_file_path = 'people_data.csv'\n",
    "df.to_csv(csv_file_path, index=False)\n",
    "\n",
    "loaded_df = pd.read_csv(csv_file_path)\n",
    "\n",
    "print(loaded_df)\n"
   ]
  },
  {
   "cell_type": "code",
   "execution_count": null,
   "id": "9cefa930-e4cd-4d89-916a-f0f196be6ae3",
   "metadata": {},
   "outputs": [],
   "source": [
    "\n"
   ]
  },
  {
   "cell_type": "code",
   "execution_count": 12,
   "id": "eb35ba32-a444-4f0b-be28-317db235a308",
   "metadata": {},
   "outputs": [
    {
     "data": {
      "text/html": [
       "<div>\n",
       "<style scoped>\n",
       "    .dataframe tbody tr th:only-of-type {\n",
       "        vertical-align: middle;\n",
       "    }\n",
       "\n",
       "    .dataframe tbody tr th {\n",
       "        vertical-align: top;\n",
       "    }\n",
       "\n",
       "    .dataframe thead th {\n",
       "        text-align: right;\n",
       "    }\n",
       "</style>\n",
       "<table border=\"1\" class=\"dataframe\">\n",
       "  <thead>\n",
       "    <tr style=\"text-align: right;\">\n",
       "      <th></th>\n",
       "      <th>Unnamed: 0</th>\n",
       "      <th>Name</th>\n",
       "      <th>Age</th>\n",
       "      <th>Nationality</th>\n",
       "      <th>Club</th>\n",
       "      <th>Value</th>\n",
       "      <th>Wage</th>\n",
       "      <th>Position</th>\n",
       "      <th>Crossing</th>\n",
       "      <th>Finishing</th>\n",
       "      <th>...</th>\n",
       "      <th>Penalties</th>\n",
       "      <th>Composure</th>\n",
       "      <th>Marking</th>\n",
       "      <th>StandingTackle</th>\n",
       "      <th>SlidingTackle</th>\n",
       "      <th>GKDiving</th>\n",
       "      <th>GKHandling</th>\n",
       "      <th>GKKicking</th>\n",
       "      <th>GKPositioning</th>\n",
       "      <th>GKReflexes</th>\n",
       "    </tr>\n",
       "  </thead>\n",
       "  <tbody>\n",
       "    <tr>\n",
       "      <th>0</th>\n",
       "      <td>0</td>\n",
       "      <td>L. Messi</td>\n",
       "      <td>31</td>\n",
       "      <td>Argentina</td>\n",
       "      <td>FC Barcelona</td>\n",
       "      <td>110500000</td>\n",
       "      <td>565000</td>\n",
       "      <td>RF</td>\n",
       "      <td>84</td>\n",
       "      <td>95</td>\n",
       "      <td>...</td>\n",
       "      <td>75</td>\n",
       "      <td>96</td>\n",
       "      <td>33</td>\n",
       "      <td>28</td>\n",
       "      <td>26</td>\n",
       "      <td>6</td>\n",
       "      <td>11</td>\n",
       "      <td>15</td>\n",
       "      <td>14</td>\n",
       "      <td>8</td>\n",
       "    </tr>\n",
       "    <tr>\n",
       "      <th>1</th>\n",
       "      <td>1</td>\n",
       "      <td>Cristiano Ronaldo</td>\n",
       "      <td>33</td>\n",
       "      <td>Portugal</td>\n",
       "      <td>Juventus</td>\n",
       "      <td>77000000</td>\n",
       "      <td>405000</td>\n",
       "      <td>ST</td>\n",
       "      <td>84</td>\n",
       "      <td>94</td>\n",
       "      <td>...</td>\n",
       "      <td>85</td>\n",
       "      <td>95</td>\n",
       "      <td>28</td>\n",
       "      <td>31</td>\n",
       "      <td>23</td>\n",
       "      <td>7</td>\n",
       "      <td>11</td>\n",
       "      <td>15</td>\n",
       "      <td>14</td>\n",
       "      <td>11</td>\n",
       "    </tr>\n",
       "    <tr>\n",
       "      <th>2</th>\n",
       "      <td>2</td>\n",
       "      <td>Neymar Jr</td>\n",
       "      <td>26</td>\n",
       "      <td>Brazil</td>\n",
       "      <td>Paris Saint-Germain</td>\n",
       "      <td>118500000</td>\n",
       "      <td>290000</td>\n",
       "      <td>LW</td>\n",
       "      <td>79</td>\n",
       "      <td>87</td>\n",
       "      <td>...</td>\n",
       "      <td>81</td>\n",
       "      <td>94</td>\n",
       "      <td>27</td>\n",
       "      <td>24</td>\n",
       "      <td>33</td>\n",
       "      <td>9</td>\n",
       "      <td>9</td>\n",
       "      <td>15</td>\n",
       "      <td>15</td>\n",
       "      <td>11</td>\n",
       "    </tr>\n",
       "    <tr>\n",
       "      <th>3</th>\n",
       "      <td>3</td>\n",
       "      <td>De Gea</td>\n",
       "      <td>27</td>\n",
       "      <td>Spain</td>\n",
       "      <td>Manchester United</td>\n",
       "      <td>72000000</td>\n",
       "      <td>260000</td>\n",
       "      <td>GK</td>\n",
       "      <td>17</td>\n",
       "      <td>13</td>\n",
       "      <td>...</td>\n",
       "      <td>40</td>\n",
       "      <td>68</td>\n",
       "      <td>15</td>\n",
       "      <td>21</td>\n",
       "      <td>13</td>\n",
       "      <td>90</td>\n",
       "      <td>85</td>\n",
       "      <td>87</td>\n",
       "      <td>88</td>\n",
       "      <td>94</td>\n",
       "    </tr>\n",
       "    <tr>\n",
       "      <th>4</th>\n",
       "      <td>4</td>\n",
       "      <td>K. De Bruyne</td>\n",
       "      <td>27</td>\n",
       "      <td>Belgium</td>\n",
       "      <td>Manchester City</td>\n",
       "      <td>102000000</td>\n",
       "      <td>355000</td>\n",
       "      <td>RCM</td>\n",
       "      <td>93</td>\n",
       "      <td>82</td>\n",
       "      <td>...</td>\n",
       "      <td>79</td>\n",
       "      <td>88</td>\n",
       "      <td>68</td>\n",
       "      <td>58</td>\n",
       "      <td>51</td>\n",
       "      <td>15</td>\n",
       "      <td>13</td>\n",
       "      <td>5</td>\n",
       "      <td>10</td>\n",
       "      <td>13</td>\n",
       "    </tr>\n",
       "    <tr>\n",
       "      <th>...</th>\n",
       "      <td>...</td>\n",
       "      <td>...</td>\n",
       "      <td>...</td>\n",
       "      <td>...</td>\n",
       "      <td>...</td>\n",
       "      <td>...</td>\n",
       "      <td>...</td>\n",
       "      <td>...</td>\n",
       "      <td>...</td>\n",
       "      <td>...</td>\n",
       "      <td>...</td>\n",
       "      <td>...</td>\n",
       "      <td>...</td>\n",
       "      <td>...</td>\n",
       "      <td>...</td>\n",
       "      <td>...</td>\n",
       "      <td>...</td>\n",
       "      <td>...</td>\n",
       "      <td>...</td>\n",
       "      <td>...</td>\n",
       "      <td>...</td>\n",
       "    </tr>\n",
       "    <tr>\n",
       "      <th>12892</th>\n",
       "      <td>13121</td>\n",
       "      <td>J. Lundstram</td>\n",
       "      <td>19</td>\n",
       "      <td>England</td>\n",
       "      <td>Crewe Alexandra</td>\n",
       "      <td>1100000</td>\n",
       "      <td>1000</td>\n",
       "      <td>CM</td>\n",
       "      <td>34</td>\n",
       "      <td>38</td>\n",
       "      <td>...</td>\n",
       "      <td>43</td>\n",
       "      <td>45</td>\n",
       "      <td>40</td>\n",
       "      <td>48</td>\n",
       "      <td>47</td>\n",
       "      <td>10</td>\n",
       "      <td>13</td>\n",
       "      <td>7</td>\n",
       "      <td>8</td>\n",
       "      <td>9</td>\n",
       "    </tr>\n",
       "    <tr>\n",
       "      <th>12893</th>\n",
       "      <td>13122</td>\n",
       "      <td>N. Christoffersson</td>\n",
       "      <td>19</td>\n",
       "      <td>Sweden</td>\n",
       "      <td>Trelleborgs FF</td>\n",
       "      <td>60000</td>\n",
       "      <td>1000</td>\n",
       "      <td>ST</td>\n",
       "      <td>23</td>\n",
       "      <td>52</td>\n",
       "      <td>...</td>\n",
       "      <td>43</td>\n",
       "      <td>42</td>\n",
       "      <td>22</td>\n",
       "      <td>15</td>\n",
       "      <td>19</td>\n",
       "      <td>10</td>\n",
       "      <td>9</td>\n",
       "      <td>9</td>\n",
       "      <td>5</td>\n",
       "      <td>12</td>\n",
       "    </tr>\n",
       "    <tr>\n",
       "      <th>12894</th>\n",
       "      <td>13123</td>\n",
       "      <td>B. Worman</td>\n",
       "      <td>16</td>\n",
       "      <td>England</td>\n",
       "      <td>Cambridge United</td>\n",
       "      <td>60000</td>\n",
       "      <td>1000</td>\n",
       "      <td>ST</td>\n",
       "      <td>25</td>\n",
       "      <td>40</td>\n",
       "      <td>...</td>\n",
       "      <td>55</td>\n",
       "      <td>41</td>\n",
       "      <td>32</td>\n",
       "      <td>13</td>\n",
       "      <td>11</td>\n",
       "      <td>6</td>\n",
       "      <td>5</td>\n",
       "      <td>10</td>\n",
       "      <td>6</td>\n",
       "      <td>13</td>\n",
       "    </tr>\n",
       "    <tr>\n",
       "      <th>12895</th>\n",
       "      <td>13124</td>\n",
       "      <td>D. Walker-Rice</td>\n",
       "      <td>17</td>\n",
       "      <td>England</td>\n",
       "      <td>Tranmere Rovers</td>\n",
       "      <td>60000</td>\n",
       "      <td>1000</td>\n",
       "      <td>RW</td>\n",
       "      <td>44</td>\n",
       "      <td>50</td>\n",
       "      <td>...</td>\n",
       "      <td>50</td>\n",
       "      <td>46</td>\n",
       "      <td>20</td>\n",
       "      <td>25</td>\n",
       "      <td>27</td>\n",
       "      <td>14</td>\n",
       "      <td>6</td>\n",
       "      <td>14</td>\n",
       "      <td>8</td>\n",
       "      <td>9</td>\n",
       "    </tr>\n",
       "    <tr>\n",
       "      <th>12896</th>\n",
       "      <td>13125</td>\n",
       "      <td>G. Nugent</td>\n",
       "      <td>16</td>\n",
       "      <td>England</td>\n",
       "      <td>Tranmere Rovers</td>\n",
       "      <td>60000</td>\n",
       "      <td>1000</td>\n",
       "      <td>CM</td>\n",
       "      <td>41</td>\n",
       "      <td>34</td>\n",
       "      <td>...</td>\n",
       "      <td>33</td>\n",
       "      <td>43</td>\n",
       "      <td>40</td>\n",
       "      <td>43</td>\n",
       "      <td>50</td>\n",
       "      <td>10</td>\n",
       "      <td>15</td>\n",
       "      <td>9</td>\n",
       "      <td>12</td>\n",
       "      <td>9</td>\n",
       "    </tr>\n",
       "  </tbody>\n",
       "</table>\n",
       "<p>12897 rows × 42 columns</p>\n",
       "</div>"
      ],
      "text/plain": [
       "       Unnamed: 0                Name  Age Nationality                 Club  \\\n",
       "0               0            L. Messi   31   Argentina         FC Barcelona   \n",
       "1               1   Cristiano Ronaldo   33    Portugal             Juventus   \n",
       "2               2           Neymar Jr   26      Brazil  Paris Saint-Germain   \n",
       "3               3              De Gea   27       Spain    Manchester United   \n",
       "4               4        K. De Bruyne   27     Belgium      Manchester City   \n",
       "...           ...                 ...  ...         ...                  ...   \n",
       "12892       13121        J. Lundstram   19     England      Crewe Alexandra   \n",
       "12893       13122  N. Christoffersson   19      Sweden       Trelleborgs FF   \n",
       "12894       13123           B. Worman   16     England     Cambridge United   \n",
       "12895       13124      D. Walker-Rice   17     England      Tranmere Rovers   \n",
       "12896       13125           G. Nugent   16     England      Tranmere Rovers   \n",
       "\n",
       "           Value    Wage Position  Crossing  Finishing  ...  Penalties  \\\n",
       "0      110500000  565000       RF        84         95  ...         75   \n",
       "1       77000000  405000       ST        84         94  ...         85   \n",
       "2      118500000  290000       LW        79         87  ...         81   \n",
       "3       72000000  260000       GK        17         13  ...         40   \n",
       "4      102000000  355000      RCM        93         82  ...         79   \n",
       "...          ...     ...      ...       ...        ...  ...        ...   \n",
       "12892    1100000    1000       CM        34         38  ...         43   \n",
       "12893      60000    1000       ST        23         52  ...         43   \n",
       "12894      60000    1000       ST        25         40  ...         55   \n",
       "12895      60000    1000       RW        44         50  ...         50   \n",
       "12896      60000    1000       CM        41         34  ...         33   \n",
       "\n",
       "       Composure  Marking  StandingTackle  SlidingTackle  GKDiving  \\\n",
       "0             96       33              28             26         6   \n",
       "1             95       28              31             23         7   \n",
       "2             94       27              24             33         9   \n",
       "3             68       15              21             13        90   \n",
       "4             88       68              58             51        15   \n",
       "...          ...      ...             ...            ...       ...   \n",
       "12892         45       40              48             47        10   \n",
       "12893         42       22              15             19        10   \n",
       "12894         41       32              13             11         6   \n",
       "12895         46       20              25             27        14   \n",
       "12896         43       40              43             50        10   \n",
       "\n",
       "       GKHandling  GKKicking  GKPositioning  GKReflexes  \n",
       "0              11         15             14           8  \n",
       "1              11         15             14          11  \n",
       "2               9         15             15          11  \n",
       "3              85         87             88          94  \n",
       "4              13          5             10          13  \n",
       "...           ...        ...            ...         ...  \n",
       "12892          13          7              8           9  \n",
       "12893           9          9              5          12  \n",
       "12894           5         10              6          13  \n",
       "12895           6         14              8           9  \n",
       "12896          15          9             12           9  \n",
       "\n",
       "[12897 rows x 42 columns]"
      ]
     },
     "execution_count": 12,
     "metadata": {},
     "output_type": "execute_result"
    }
   ],
   "source": [
    "df = pd.read_csv('football.csv')\n",
    "df"
   ]
  },
  {
   "cell_type": "code",
   "execution_count": 13,
   "id": "e3b10f88-6be2-498b-a006-cf4bb9709433",
   "metadata": {},
   "outputs": [
    {
     "name": "stdout",
     "output_type": "stream",
     "text": [
      "67.57\n"
     ]
    }
   ],
   "source": [
    "import pandas as pd\n",
    "\n",
    "\n",
    "#1\n",
    "average_speed_rounded = round(df[df['Wage'] > df['Wage'].mean()]['SprintSpeed'].mean(), 2)\n",
    "print(average_speed_rounded)"
   ]
  },
  {
   "cell_type": "code",
   "execution_count": 14,
   "id": "6be06246-d583-4b11-a285-2ca24c23ea56",
   "metadata": {},
   "outputs": [
    {
     "name": "stdout",
     "output_type": "stream",
     "text": [
      "62.41\n"
     ]
    }
   ],
   "source": [
    "#2\n",
    "average_speed_rounded = round(df[df['Wage'] < df['Wage'].mean()]['SprintSpeed'].mean(), 2)\n",
    "print(average_speed_rounded)"
   ]
  },
  {
   "cell_type": "code",
   "execution_count": 15,
   "id": "fad4411c-051f-49a4-90c7-e5f3a4410c43",
   "metadata": {},
   "outputs": [
    {
     "name": "stdout",
     "output_type": "stream",
     "text": [
      "RF\n"
     ]
    }
   ],
   "source": [
    "#3\n",
    "highest_wage_player = df.loc[df['Wage'].idxmax()]\n",
    "\n",
    "position = highest_wage_player['Position']\n",
    "\n",
    "print(position)\n"
   ]
  },
  {
   "cell_type": "code",
   "execution_count": 16,
   "id": "dbba4554-8612-4430-8bf4-c871aefbf777",
   "metadata": {},
   "outputs": [
    {
     "name": "stdout",
     "output_type": "stream",
     "text": [
      "22789\n"
     ]
    }
   ],
   "source": [
    "#4\n",
    "total_penalties = df[df['Nationality'] == 'Brazil']['Penalties'].sum()\n",
    "print(total_penalties)"
   ]
  },
  {
   "cell_type": "code",
   "execution_count": 17,
   "id": "080a3cbd-0502-492f-9d80-3cd3c1acbe75",
   "metadata": {},
   "outputs": [
    {
     "name": "stdout",
     "output_type": "stream",
     "text": [
      "25.58771113179944\n"
     ]
    }
   ],
   "source": [
    "#5\n",
    "average_age = df[df['HeadingAccuracy'] > 50]['Age'].mean()\n",
    "print(average_age)"
   ]
  },
  {
   "cell_type": "code",
   "execution_count": 20,
   "id": "70ed5963-ef88-4efe-988f-d1f805c385f6",
   "metadata": {},
   "outputs": [
    {
     "name": "stdout",
     "output_type": "stream",
     "text": [
      "24\n"
     ]
    }
   ],
   "source": [
    "#6\n",
    "max_composure = df['Composure'].max()\n",
    "max_reactions = df['Reactions'].max()\n",
    "\n",
    "youngest_player_age = df[(df['Composure'] > 0.9 * max_composure) & (df['Reactions'] > 0.9 * max_reactions)]['Age'].min()\n",
    "print(youngest_player_age)"
   ]
  },
  {
   "cell_type": "code",
   "execution_count": 21,
   "id": "11940ff8-ae63-431c-8243-4ff84a449d35",
   "metadata": {},
   "outputs": [
    {
     "name": "stdout",
     "output_type": "stream",
     "text": [
      "22.64\n"
     ]
    }
   ],
   "source": [
    "#7\n",
    "difference = round(df[df['Age'] == df['Age'].max()]['Reactions'].mean() - \n",
    "                    df[df['Age'] == df['Age'].min()]['Reactions'].mean(), 2)\n",
    "print(difference)"
   ]
  },
  {
   "cell_type": "code",
   "execution_count": 22,
   "id": "162d5edb-2446-4a4f-b79b-2396468d234f",
   "metadata": {},
   "outputs": [
    {
     "name": "stdout",
     "output_type": "stream",
     "text": [
      "Spain\n"
     ]
    }
   ],
   "source": [
    "#8\n",
    "average_value = df['Value'].mean()\n",
    "\n",
    "most_common_nationality = df[df['Value'] > average_value]['Nationality'].value_counts().idxmax()\n",
    "print(most_common_nationality)"
   ]
  },
  {
   "cell_type": "code",
   "execution_count": 23,
   "id": "64f60c86-ccf2-4c1f-ac19-9a58c6167bde",
   "metadata": {},
   "outputs": [
    {
     "name": "stdout",
     "output_type": "stream",
     "text": [
      "2.77\n"
     ]
    }
   ],
   "source": [
    "#9\n",
    "gk_df = df[df['Position'] == 'GK']\n",
    "\n",
    "avg_wage_reflexes = gk_df[gk_df['GKReflexes'] == gk_df['GKReflexes'].max()]['Wage'].mean()\n",
    "\n",
    "avg_wage_handling = gk_df[gk_df['GKHandling'] == gk_df['GKHandling'].max()]['Wage'].mean()\n",
    "\n",
    "result = round(avg_wage_reflexes / avg_wage_handling, 2)\n",
    "print(result)\n"
   ]
  },
  {
   "cell_type": "code",
   "execution_count": 24,
   "id": "fc3e16af-da24-41b3-8dad-294894efa18f",
   "metadata": {},
   "outputs": [
    {
     "name": "stdout",
     "output_type": "stream",
     "text": [
      "2.08\n"
     ]
    }
   ],
   "source": [
    "\n",
    "#10\n",
    "max_aggression = df['Aggression'].max()\n",
    "avg_shot_power_aggressive = df[df['Aggression'] == max_aggression]['ShotPower'].mean()\n",
    "\n",
    "min_aggression = df['Aggression'].min()\n",
    "avg_shot_power_passive = df[df['Aggression'] == min_aggression]['ShotPower'].mean()\n",
    "\n",
    "result = round(avg_shot_power_aggressive / avg_shot_power_passive, 2)\n",
    "print(result)"
   ]
  },
  {
   "cell_type": "code",
   "execution_count": null,
   "id": "eb7d5c4b-4be9-4c4d-9ca1-d0d252f9bfab",
   "metadata": {},
   "outputs": [],
   "source": []
  },
  {
   "cell_type": "code",
   "execution_count": 25,
   "id": "42ad6293-8edd-4f0e-b153-0a6aa4b093d9",
   "metadata": {},
   "outputs": [
    {
     "name": "stdout",
     "output_type": "stream",
     "text": [
      "650\n"
     ]
    }
   ],
   "source": [
    "#3.1\n",
    "unique_clubs = df['Club'].nunique()\n",
    "print(unique_clubs)"
   ]
  },
  {
   "cell_type": "code",
   "execution_count": 26,
   "id": "8e23581f-4070-457f-baf7-da154193c93d",
   "metadata": {},
   "outputs": [
    {
     "name": "stdout",
     "output_type": "stream",
     "text": [
      "Club\n",
      "V-Varen Nagasaki    30\n",
      "Shonan Bellmare     30\n",
      "Name: count, dtype: int64\n"
     ]
    }
   ],
   "source": [
    "#3.2\n",
    "club_counts = df['Club'].value_counts()\n",
    "most_represented_clubs = club_counts[club_counts == club_counts.max()]\n",
    "print(most_represented_clubs)"
   ]
  },
  {
   "cell_type": "code",
   "execution_count": 27,
   "id": "fc56321b-f224-4fff-9f97-358e69598a22",
   "metadata": {},
   "outputs": [
    {
     "name": "stdout",
     "output_type": "stream",
     "text": [
      "Atlético Mineiro\n"
     ]
    }
   ],
   "source": [
    "#3.3\n",
    "least_represented_club = df['Club'].value_counts().idxmin()\n",
    "print(least_represented_club)"
   ]
  },
  {
   "cell_type": "code",
   "execution_count": 29,
   "id": "794c60fd-4596-44a3-bf51-55da13be920e",
   "metadata": {},
   "outputs": [
    {
     "name": "stdout",
     "output_type": "stream",
     "text": [
      "['GK', 'ST', 'CB']\n"
     ]
    }
   ],
   "source": [
    "#3.4\n",
    "position_counts = df['Position'].value_counts(normalize=True)\n",
    "\n",
    "positions_above_10_percent = position_counts[position_counts > 0.1].index.tolist()\n",
    "print(positions_above_10_percent)\n"
   ]
  },
  {
   "cell_type": "code",
   "execution_count": 30,
   "id": "2fd6b85b-1474-4b9e-9aea-19f5b5faa103",
   "metadata": {},
   "outputs": [
    {
     "name": "stdout",
     "output_type": "stream",
     "text": [
      "13\n"
     ]
    }
   ],
   "source": [
    "#3.5\n",
    "nationalities_count = df[df['Club'] == 'Manchester United']['Nationality'].nunique()\n",
    "print(nationalities_count)"
   ]
  },
  {
   "cell_type": "code",
   "execution_count": 31,
   "id": "e1339d9b-3df1-471f-bf98-b79ec641447f",
   "metadata": {},
   "outputs": [
    {
     "name": "stdout",
     "output_type": "stream",
     "text": [
      "['Alex Sandro' 'Douglas Costa']\n"
     ]
    }
   ],
   "source": [
    "3.6\n",
    "brazilian_players = df[(df['Nationality'] == 'Brazil') & (df['Club'] == 'Juventus')]\n",
    "unique_players = brazilian_players['Name'].unique()[:2]  # Выбираем первых двух\n",
    "\n",
    "print(unique_players)"
   ]
  },
  {
   "cell_type": "code",
   "execution_count": 32,
   "id": "7f72428c-5c9f-46ed-84ae-5332fe9fd81c",
   "metadata": {},
   "outputs": [
    {
     "name": "stdout",
     "output_type": "stream",
     "text": [
      "Hokkaido Consadole Sapporo\n"
     ]
    }
   ],
   "source": [
    "#3.7\n",
    "older_players = df[df['Age'] > 35]\n",
    "\n",
    "club_with_most_older_players = older_players['Club'].value_counts().idxmax()\n",
    "print(club_with_most_older_players)"
   ]
  },
  {
   "cell_type": "code",
   "execution_count": null,
   "id": "5727ed2a-d85d-4678-9d65-4d41dada6d85",
   "metadata": {},
   "outputs": [],
   "source": []
  }
 ],
 "metadata": {
  "kernelspec": {
   "display_name": "Python 3 (ipykernel)",
   "language": "python",
   "name": "python3"
  },
  "language_info": {
   "codemirror_mode": {
    "name": "ipython",
    "version": 3
   },
   "file_extension": ".py",
   "mimetype": "text/x-python",
   "name": "python",
   "nbconvert_exporter": "python",
   "pygments_lexer": "ipython3",
   "version": "3.12.4"
  }
 },
 "nbformat": 4,
 "nbformat_minor": 5
}
